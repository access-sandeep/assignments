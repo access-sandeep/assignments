{
 "cells": [
  {
   "cell_type": "markdown",
   "id": "39efb1d0",
   "metadata": {},
   "source": [
    "# Assignment-1 Employee Attrition\n",
    "\n",
    "## Use the Employee attrition dataset and perform the following:\n",
    "\n",
    "1. Data exploration and data cleaning:\n",
    "\n",
    "\ta. understand the data and get some interesting visuals\n",
    "\n",
    "\tb. check null values\n",
    "\n",
    "\tc. Encode string categorical columns\n",
    "\n",
    "\td. check the correlation of the numerical columns through heatmap\n",
    "\n",
    "2. Model building:\n",
    "\n",
    "\ta. Split the data into test and train with 80% train size and random state 0\n",
    "\n",
    "\tb. Apply decision tree\n",
    "\n",
    "\tc. prune the tree and get the best hyper parameters\n",
    "\n",
    "\td. Obtain the Confusion matrix, Accuracy, F1 score and ROC-AUC and plot the ROC curve\n",
    "\n",
    "\te. For this scenario get the best threshold and get the Accuracy, F1 score and AUC values"
   ]
  },
  {
   "cell_type": "code",
   "execution_count": 183,
   "id": "d7faa36b",
   "metadata": {},
   "outputs": [],
   "source": [
    "import pandas as pd\n",
    "import seaborn as sns\n",
    "import re\n",
    "import matplotlib.pyplot as plt\n",
    "import numpy as np"
   ]
  },
  {
   "cell_type": "code",
   "execution_count": 184,
   "id": "24112c91",
   "metadata": {},
   "outputs": [],
   "source": [
    "df = pd.read_csv(\"employees_attrition.csv\")"
   ]
  },
  {
   "cell_type": "code",
   "execution_count": 185,
   "id": "46dcd19b",
   "metadata": {},
   "outputs": [
    {
     "name": "stdout",
     "output_type": "stream",
     "text": [
      "<class 'pandas.core.frame.DataFrame'>\n",
      "RangeIndex: 1470 entries, 0 to 1469\n",
      "Data columns (total 35 columns):\n",
      " #   Column                    Non-Null Count  Dtype \n",
      "---  ------                    --------------  ----- \n",
      " 0   Age                       1470 non-null   int64 \n",
      " 1   Attrition                 1470 non-null   int64 \n",
      " 2   BusinessTravel            1470 non-null   object\n",
      " 3   DailyRate                 1470 non-null   int64 \n",
      " 4   Department                1470 non-null   object\n",
      " 5   DistanceFromHome          1470 non-null   int64 \n",
      " 6   Education                 1470 non-null   int64 \n",
      " 7   EducationField            1470 non-null   object\n",
      " 8   EmployeeCount             1470 non-null   int64 \n",
      " 9   EmployeeNumber            1470 non-null   int64 \n",
      " 10  EnvironmentSatisfaction   1470 non-null   int64 \n",
      " 11  Gender                    1470 non-null   object\n",
      " 12  HourlyRate                1470 non-null   int64 \n",
      " 13  JobInvolvement            1470 non-null   int64 \n",
      " 14  JobLevel                  1470 non-null   int64 \n",
      " 15  JobRole                   1470 non-null   object\n",
      " 16  JobSatisfaction           1470 non-null   int64 \n",
      " 17  MaritalStatus             1470 non-null   object\n",
      " 18  MonthlyIncome             1470 non-null   int64 \n",
      " 19  MonthlyRate               1470 non-null   int64 \n",
      " 20  NumCompaniesWorked        1470 non-null   int64 \n",
      " 21  Over18                    1470 non-null   object\n",
      " 22  OverTime                  1470 non-null   object\n",
      " 23  PercentSalaryHike         1470 non-null   int64 \n",
      " 24  PerformanceRating         1470 non-null   int64 \n",
      " 25  RelationshipSatisfaction  1470 non-null   int64 \n",
      " 26  StandardHours             1470 non-null   int64 \n",
      " 27  StockOptionLevel          1470 non-null   int64 \n",
      " 28  TotalWorkingYears         1470 non-null   int64 \n",
      " 29  TrainingTimesLastYear     1470 non-null   int64 \n",
      " 30  WorkLifeBalance           1470 non-null   int64 \n",
      " 31  YearsAtCompany            1470 non-null   int64 \n",
      " 32  YearsInCurrentRole        1470 non-null   int64 \n",
      " 33  YearsSinceLastPromotion   1470 non-null   int64 \n",
      " 34  YearsWithCurrManager      1470 non-null   int64 \n",
      "dtypes: int64(27), object(8)\n",
      "memory usage: 402.1+ KB\n"
     ]
    }
   ],
   "source": [
    "df.info()"
   ]
  },
  {
   "cell_type": "code",
   "execution_count": 186,
   "id": "cc9e622f",
   "metadata": {},
   "outputs": [
    {
     "data": {
      "text/html": [
       "<div>\n",
       "<style scoped>\n",
       "    .dataframe tbody tr th:only-of-type {\n",
       "        vertical-align: middle;\n",
       "    }\n",
       "\n",
       "    .dataframe tbody tr th {\n",
       "        vertical-align: top;\n",
       "    }\n",
       "\n",
       "    .dataframe thead th {\n",
       "        text-align: right;\n",
       "    }\n",
       "</style>\n",
       "<table border=\"1\" class=\"dataframe\">\n",
       "  <thead>\n",
       "    <tr style=\"text-align: right;\">\n",
       "      <th></th>\n",
       "      <th>Age</th>\n",
       "      <th>Attrition</th>\n",
       "      <th>BusinessTravel</th>\n",
       "      <th>DailyRate</th>\n",
       "      <th>Department</th>\n",
       "      <th>DistanceFromHome</th>\n",
       "      <th>Education</th>\n",
       "      <th>EducationField</th>\n",
       "      <th>EmployeeCount</th>\n",
       "      <th>EmployeeNumber</th>\n",
       "      <th>...</th>\n",
       "      <th>RelationshipSatisfaction</th>\n",
       "      <th>StandardHours</th>\n",
       "      <th>StockOptionLevel</th>\n",
       "      <th>TotalWorkingYears</th>\n",
       "      <th>TrainingTimesLastYear</th>\n",
       "      <th>WorkLifeBalance</th>\n",
       "      <th>YearsAtCompany</th>\n",
       "      <th>YearsInCurrentRole</th>\n",
       "      <th>YearsSinceLastPromotion</th>\n",
       "      <th>YearsWithCurrManager</th>\n",
       "    </tr>\n",
       "  </thead>\n",
       "  <tbody>\n",
       "    <tr>\n",
       "      <th>0</th>\n",
       "      <td>41</td>\n",
       "      <td>1</td>\n",
       "      <td>Travel_Rarely</td>\n",
       "      <td>1102</td>\n",
       "      <td>Sales</td>\n",
       "      <td>1</td>\n",
       "      <td>2</td>\n",
       "      <td>Life Sciences</td>\n",
       "      <td>1</td>\n",
       "      <td>1</td>\n",
       "      <td>...</td>\n",
       "      <td>1</td>\n",
       "      <td>80</td>\n",
       "      <td>0</td>\n",
       "      <td>8</td>\n",
       "      <td>0</td>\n",
       "      <td>1</td>\n",
       "      <td>6</td>\n",
       "      <td>4</td>\n",
       "      <td>0</td>\n",
       "      <td>5</td>\n",
       "    </tr>\n",
       "    <tr>\n",
       "      <th>1</th>\n",
       "      <td>49</td>\n",
       "      <td>0</td>\n",
       "      <td>Travel_Frequently</td>\n",
       "      <td>279</td>\n",
       "      <td>Research &amp; Development</td>\n",
       "      <td>8</td>\n",
       "      <td>1</td>\n",
       "      <td>Life Sciences</td>\n",
       "      <td>1</td>\n",
       "      <td>2</td>\n",
       "      <td>...</td>\n",
       "      <td>4</td>\n",
       "      <td>80</td>\n",
       "      <td>1</td>\n",
       "      <td>10</td>\n",
       "      <td>3</td>\n",
       "      <td>3</td>\n",
       "      <td>10</td>\n",
       "      <td>7</td>\n",
       "      <td>1</td>\n",
       "      <td>7</td>\n",
       "    </tr>\n",
       "    <tr>\n",
       "      <th>2</th>\n",
       "      <td>37</td>\n",
       "      <td>1</td>\n",
       "      <td>Travel_Rarely</td>\n",
       "      <td>1373</td>\n",
       "      <td>Research &amp; Development</td>\n",
       "      <td>2</td>\n",
       "      <td>2</td>\n",
       "      <td>Other</td>\n",
       "      <td>1</td>\n",
       "      <td>4</td>\n",
       "      <td>...</td>\n",
       "      <td>2</td>\n",
       "      <td>80</td>\n",
       "      <td>0</td>\n",
       "      <td>7</td>\n",
       "      <td>3</td>\n",
       "      <td>3</td>\n",
       "      <td>0</td>\n",
       "      <td>0</td>\n",
       "      <td>0</td>\n",
       "      <td>0</td>\n",
       "    </tr>\n",
       "    <tr>\n",
       "      <th>3</th>\n",
       "      <td>33</td>\n",
       "      <td>0</td>\n",
       "      <td>Travel_Frequently</td>\n",
       "      <td>1392</td>\n",
       "      <td>Research &amp; Development</td>\n",
       "      <td>3</td>\n",
       "      <td>4</td>\n",
       "      <td>Life Sciences</td>\n",
       "      <td>1</td>\n",
       "      <td>5</td>\n",
       "      <td>...</td>\n",
       "      <td>3</td>\n",
       "      <td>80</td>\n",
       "      <td>0</td>\n",
       "      <td>8</td>\n",
       "      <td>3</td>\n",
       "      <td>3</td>\n",
       "      <td>8</td>\n",
       "      <td>7</td>\n",
       "      <td>3</td>\n",
       "      <td>0</td>\n",
       "    </tr>\n",
       "    <tr>\n",
       "      <th>4</th>\n",
       "      <td>27</td>\n",
       "      <td>0</td>\n",
       "      <td>Travel_Rarely</td>\n",
       "      <td>591</td>\n",
       "      <td>Research &amp; Development</td>\n",
       "      <td>2</td>\n",
       "      <td>1</td>\n",
       "      <td>Medical</td>\n",
       "      <td>1</td>\n",
       "      <td>7</td>\n",
       "      <td>...</td>\n",
       "      <td>4</td>\n",
       "      <td>80</td>\n",
       "      <td>1</td>\n",
       "      <td>6</td>\n",
       "      <td>3</td>\n",
       "      <td>3</td>\n",
       "      <td>2</td>\n",
       "      <td>2</td>\n",
       "      <td>2</td>\n",
       "      <td>2</td>\n",
       "    </tr>\n",
       "    <tr>\n",
       "      <th>5</th>\n",
       "      <td>32</td>\n",
       "      <td>0</td>\n",
       "      <td>Travel_Frequently</td>\n",
       "      <td>1005</td>\n",
       "      <td>Research &amp; Development</td>\n",
       "      <td>2</td>\n",
       "      <td>2</td>\n",
       "      <td>Life Sciences</td>\n",
       "      <td>1</td>\n",
       "      <td>8</td>\n",
       "      <td>...</td>\n",
       "      <td>3</td>\n",
       "      <td>80</td>\n",
       "      <td>0</td>\n",
       "      <td>8</td>\n",
       "      <td>2</td>\n",
       "      <td>2</td>\n",
       "      <td>7</td>\n",
       "      <td>7</td>\n",
       "      <td>3</td>\n",
       "      <td>6</td>\n",
       "    </tr>\n",
       "    <tr>\n",
       "      <th>6</th>\n",
       "      <td>59</td>\n",
       "      <td>0</td>\n",
       "      <td>Travel_Rarely</td>\n",
       "      <td>1324</td>\n",
       "      <td>Research &amp; Development</td>\n",
       "      <td>3</td>\n",
       "      <td>3</td>\n",
       "      <td>Medical</td>\n",
       "      <td>1</td>\n",
       "      <td>10</td>\n",
       "      <td>...</td>\n",
       "      <td>1</td>\n",
       "      <td>80</td>\n",
       "      <td>3</td>\n",
       "      <td>12</td>\n",
       "      <td>3</td>\n",
       "      <td>2</td>\n",
       "      <td>1</td>\n",
       "      <td>0</td>\n",
       "      <td>0</td>\n",
       "      <td>0</td>\n",
       "    </tr>\n",
       "    <tr>\n",
       "      <th>7</th>\n",
       "      <td>30</td>\n",
       "      <td>0</td>\n",
       "      <td>Travel_Rarely</td>\n",
       "      <td>1358</td>\n",
       "      <td>Research &amp; Development</td>\n",
       "      <td>24</td>\n",
       "      <td>1</td>\n",
       "      <td>Life Sciences</td>\n",
       "      <td>1</td>\n",
       "      <td>11</td>\n",
       "      <td>...</td>\n",
       "      <td>2</td>\n",
       "      <td>80</td>\n",
       "      <td>1</td>\n",
       "      <td>1</td>\n",
       "      <td>2</td>\n",
       "      <td>3</td>\n",
       "      <td>1</td>\n",
       "      <td>0</td>\n",
       "      <td>0</td>\n",
       "      <td>0</td>\n",
       "    </tr>\n",
       "    <tr>\n",
       "      <th>8</th>\n",
       "      <td>38</td>\n",
       "      <td>0</td>\n",
       "      <td>Travel_Frequently</td>\n",
       "      <td>216</td>\n",
       "      <td>Research &amp; Development</td>\n",
       "      <td>23</td>\n",
       "      <td>3</td>\n",
       "      <td>Life Sciences</td>\n",
       "      <td>1</td>\n",
       "      <td>12</td>\n",
       "      <td>...</td>\n",
       "      <td>2</td>\n",
       "      <td>80</td>\n",
       "      <td>0</td>\n",
       "      <td>10</td>\n",
       "      <td>2</td>\n",
       "      <td>3</td>\n",
       "      <td>9</td>\n",
       "      <td>7</td>\n",
       "      <td>1</td>\n",
       "      <td>8</td>\n",
       "    </tr>\n",
       "    <tr>\n",
       "      <th>9</th>\n",
       "      <td>36</td>\n",
       "      <td>0</td>\n",
       "      <td>Travel_Rarely</td>\n",
       "      <td>1299</td>\n",
       "      <td>Research &amp; Development</td>\n",
       "      <td>27</td>\n",
       "      <td>3</td>\n",
       "      <td>Medical</td>\n",
       "      <td>1</td>\n",
       "      <td>13</td>\n",
       "      <td>...</td>\n",
       "      <td>2</td>\n",
       "      <td>80</td>\n",
       "      <td>2</td>\n",
       "      <td>17</td>\n",
       "      <td>3</td>\n",
       "      <td>2</td>\n",
       "      <td>7</td>\n",
       "      <td>7</td>\n",
       "      <td>7</td>\n",
       "      <td>7</td>\n",
       "    </tr>\n",
       "    <tr>\n",
       "      <th>10</th>\n",
       "      <td>35</td>\n",
       "      <td>0</td>\n",
       "      <td>Travel_Rarely</td>\n",
       "      <td>809</td>\n",
       "      <td>Research &amp; Development</td>\n",
       "      <td>16</td>\n",
       "      <td>3</td>\n",
       "      <td>Medical</td>\n",
       "      <td>1</td>\n",
       "      <td>14</td>\n",
       "      <td>...</td>\n",
       "      <td>3</td>\n",
       "      <td>80</td>\n",
       "      <td>1</td>\n",
       "      <td>6</td>\n",
       "      <td>5</td>\n",
       "      <td>3</td>\n",
       "      <td>5</td>\n",
       "      <td>4</td>\n",
       "      <td>0</td>\n",
       "      <td>3</td>\n",
       "    </tr>\n",
       "    <tr>\n",
       "      <th>11</th>\n",
       "      <td>29</td>\n",
       "      <td>0</td>\n",
       "      <td>Travel_Rarely</td>\n",
       "      <td>153</td>\n",
       "      <td>Research &amp; Development</td>\n",
       "      <td>15</td>\n",
       "      <td>2</td>\n",
       "      <td>Life Sciences</td>\n",
       "      <td>1</td>\n",
       "      <td>15</td>\n",
       "      <td>...</td>\n",
       "      <td>4</td>\n",
       "      <td>80</td>\n",
       "      <td>0</td>\n",
       "      <td>10</td>\n",
       "      <td>3</td>\n",
       "      <td>3</td>\n",
       "      <td>9</td>\n",
       "      <td>5</td>\n",
       "      <td>0</td>\n",
       "      <td>8</td>\n",
       "    </tr>\n",
       "    <tr>\n",
       "      <th>12</th>\n",
       "      <td>31</td>\n",
       "      <td>0</td>\n",
       "      <td>Travel_Rarely</td>\n",
       "      <td>670</td>\n",
       "      <td>Research &amp; Development</td>\n",
       "      <td>26</td>\n",
       "      <td>1</td>\n",
       "      <td>Life Sciences</td>\n",
       "      <td>1</td>\n",
       "      <td>16</td>\n",
       "      <td>...</td>\n",
       "      <td>4</td>\n",
       "      <td>80</td>\n",
       "      <td>1</td>\n",
       "      <td>5</td>\n",
       "      <td>1</td>\n",
       "      <td>2</td>\n",
       "      <td>5</td>\n",
       "      <td>2</td>\n",
       "      <td>4</td>\n",
       "      <td>3</td>\n",
       "    </tr>\n",
       "    <tr>\n",
       "      <th>13</th>\n",
       "      <td>34</td>\n",
       "      <td>0</td>\n",
       "      <td>Travel_Rarely</td>\n",
       "      <td>1346</td>\n",
       "      <td>Research &amp; Development</td>\n",
       "      <td>19</td>\n",
       "      <td>2</td>\n",
       "      <td>Medical</td>\n",
       "      <td>1</td>\n",
       "      <td>18</td>\n",
       "      <td>...</td>\n",
       "      <td>3</td>\n",
       "      <td>80</td>\n",
       "      <td>1</td>\n",
       "      <td>3</td>\n",
       "      <td>2</td>\n",
       "      <td>3</td>\n",
       "      <td>2</td>\n",
       "      <td>2</td>\n",
       "      <td>1</td>\n",
       "      <td>2</td>\n",
       "    </tr>\n",
       "    <tr>\n",
       "      <th>14</th>\n",
       "      <td>28</td>\n",
       "      <td>1</td>\n",
       "      <td>Travel_Rarely</td>\n",
       "      <td>103</td>\n",
       "      <td>Research &amp; Development</td>\n",
       "      <td>24</td>\n",
       "      <td>3</td>\n",
       "      <td>Life Sciences</td>\n",
       "      <td>1</td>\n",
       "      <td>19</td>\n",
       "      <td>...</td>\n",
       "      <td>2</td>\n",
       "      <td>80</td>\n",
       "      <td>0</td>\n",
       "      <td>6</td>\n",
       "      <td>4</td>\n",
       "      <td>3</td>\n",
       "      <td>4</td>\n",
       "      <td>2</td>\n",
       "      <td>0</td>\n",
       "      <td>3</td>\n",
       "    </tr>\n",
       "    <tr>\n",
       "      <th>15</th>\n",
       "      <td>29</td>\n",
       "      <td>0</td>\n",
       "      <td>Travel_Rarely</td>\n",
       "      <td>1389</td>\n",
       "      <td>Research &amp; Development</td>\n",
       "      <td>21</td>\n",
       "      <td>4</td>\n",
       "      <td>Life Sciences</td>\n",
       "      <td>1</td>\n",
       "      <td>20</td>\n",
       "      <td>...</td>\n",
       "      <td>3</td>\n",
       "      <td>80</td>\n",
       "      <td>1</td>\n",
       "      <td>10</td>\n",
       "      <td>1</td>\n",
       "      <td>3</td>\n",
       "      <td>10</td>\n",
       "      <td>9</td>\n",
       "      <td>8</td>\n",
       "      <td>8</td>\n",
       "    </tr>\n",
       "    <tr>\n",
       "      <th>16</th>\n",
       "      <td>32</td>\n",
       "      <td>0</td>\n",
       "      <td>Travel_Rarely</td>\n",
       "      <td>334</td>\n",
       "      <td>Research &amp; Development</td>\n",
       "      <td>5</td>\n",
       "      <td>2</td>\n",
       "      <td>Life Sciences</td>\n",
       "      <td>1</td>\n",
       "      <td>21</td>\n",
       "      <td>...</td>\n",
       "      <td>4</td>\n",
       "      <td>80</td>\n",
       "      <td>2</td>\n",
       "      <td>7</td>\n",
       "      <td>5</td>\n",
       "      <td>2</td>\n",
       "      <td>6</td>\n",
       "      <td>2</td>\n",
       "      <td>0</td>\n",
       "      <td>5</td>\n",
       "    </tr>\n",
       "    <tr>\n",
       "      <th>17</th>\n",
       "      <td>22</td>\n",
       "      <td>0</td>\n",
       "      <td>Non-Travel</td>\n",
       "      <td>1123</td>\n",
       "      <td>Research &amp; Development</td>\n",
       "      <td>16</td>\n",
       "      <td>2</td>\n",
       "      <td>Medical</td>\n",
       "      <td>1</td>\n",
       "      <td>22</td>\n",
       "      <td>...</td>\n",
       "      <td>2</td>\n",
       "      <td>80</td>\n",
       "      <td>2</td>\n",
       "      <td>1</td>\n",
       "      <td>2</td>\n",
       "      <td>2</td>\n",
       "      <td>1</td>\n",
       "      <td>0</td>\n",
       "      <td>0</td>\n",
       "      <td>0</td>\n",
       "    </tr>\n",
       "    <tr>\n",
       "      <th>18</th>\n",
       "      <td>53</td>\n",
       "      <td>0</td>\n",
       "      <td>Travel_Rarely</td>\n",
       "      <td>1219</td>\n",
       "      <td>Sales</td>\n",
       "      <td>2</td>\n",
       "      <td>4</td>\n",
       "      <td>Life Sciences</td>\n",
       "      <td>1</td>\n",
       "      <td>23</td>\n",
       "      <td>...</td>\n",
       "      <td>3</td>\n",
       "      <td>80</td>\n",
       "      <td>0</td>\n",
       "      <td>31</td>\n",
       "      <td>3</td>\n",
       "      <td>3</td>\n",
       "      <td>25</td>\n",
       "      <td>8</td>\n",
       "      <td>3</td>\n",
       "      <td>7</td>\n",
       "    </tr>\n",
       "    <tr>\n",
       "      <th>19</th>\n",
       "      <td>38</td>\n",
       "      <td>0</td>\n",
       "      <td>Travel_Rarely</td>\n",
       "      <td>371</td>\n",
       "      <td>Research &amp; Development</td>\n",
       "      <td>2</td>\n",
       "      <td>3</td>\n",
       "      <td>Life Sciences</td>\n",
       "      <td>1</td>\n",
       "      <td>24</td>\n",
       "      <td>...</td>\n",
       "      <td>3</td>\n",
       "      <td>80</td>\n",
       "      <td>0</td>\n",
       "      <td>6</td>\n",
       "      <td>3</td>\n",
       "      <td>3</td>\n",
       "      <td>3</td>\n",
       "      <td>2</td>\n",
       "      <td>1</td>\n",
       "      <td>2</td>\n",
       "    </tr>\n",
       "  </tbody>\n",
       "</table>\n",
       "<p>20 rows × 35 columns</p>\n",
       "</div>"
      ],
      "text/plain": [
       "    Age  Attrition     BusinessTravel  DailyRate              Department  \\\n",
       "0    41          1      Travel_Rarely       1102                   Sales   \n",
       "1    49          0  Travel_Frequently        279  Research & Development   \n",
       "2    37          1      Travel_Rarely       1373  Research & Development   \n",
       "3    33          0  Travel_Frequently       1392  Research & Development   \n",
       "4    27          0      Travel_Rarely        591  Research & Development   \n",
       "5    32          0  Travel_Frequently       1005  Research & Development   \n",
       "6    59          0      Travel_Rarely       1324  Research & Development   \n",
       "7    30          0      Travel_Rarely       1358  Research & Development   \n",
       "8    38          0  Travel_Frequently        216  Research & Development   \n",
       "9    36          0      Travel_Rarely       1299  Research & Development   \n",
       "10   35          0      Travel_Rarely        809  Research & Development   \n",
       "11   29          0      Travel_Rarely        153  Research & Development   \n",
       "12   31          0      Travel_Rarely        670  Research & Development   \n",
       "13   34          0      Travel_Rarely       1346  Research & Development   \n",
       "14   28          1      Travel_Rarely        103  Research & Development   \n",
       "15   29          0      Travel_Rarely       1389  Research & Development   \n",
       "16   32          0      Travel_Rarely        334  Research & Development   \n",
       "17   22          0         Non-Travel       1123  Research & Development   \n",
       "18   53          0      Travel_Rarely       1219                   Sales   \n",
       "19   38          0      Travel_Rarely        371  Research & Development   \n",
       "\n",
       "    DistanceFromHome  Education EducationField  EmployeeCount  EmployeeNumber  \\\n",
       "0                  1          2  Life Sciences              1               1   \n",
       "1                  8          1  Life Sciences              1               2   \n",
       "2                  2          2          Other              1               4   \n",
       "3                  3          4  Life Sciences              1               5   \n",
       "4                  2          1        Medical              1               7   \n",
       "5                  2          2  Life Sciences              1               8   \n",
       "6                  3          3        Medical              1              10   \n",
       "7                 24          1  Life Sciences              1              11   \n",
       "8                 23          3  Life Sciences              1              12   \n",
       "9                 27          3        Medical              1              13   \n",
       "10                16          3        Medical              1              14   \n",
       "11                15          2  Life Sciences              1              15   \n",
       "12                26          1  Life Sciences              1              16   \n",
       "13                19          2        Medical              1              18   \n",
       "14                24          3  Life Sciences              1              19   \n",
       "15                21          4  Life Sciences              1              20   \n",
       "16                 5          2  Life Sciences              1              21   \n",
       "17                16          2        Medical              1              22   \n",
       "18                 2          4  Life Sciences              1              23   \n",
       "19                 2          3  Life Sciences              1              24   \n",
       "\n",
       "    ...  RelationshipSatisfaction StandardHours  StockOptionLevel  \\\n",
       "0   ...                         1            80                 0   \n",
       "1   ...                         4            80                 1   \n",
       "2   ...                         2            80                 0   \n",
       "3   ...                         3            80                 0   \n",
       "4   ...                         4            80                 1   \n",
       "5   ...                         3            80                 0   \n",
       "6   ...                         1            80                 3   \n",
       "7   ...                         2            80                 1   \n",
       "8   ...                         2            80                 0   \n",
       "9   ...                         2            80                 2   \n",
       "10  ...                         3            80                 1   \n",
       "11  ...                         4            80                 0   \n",
       "12  ...                         4            80                 1   \n",
       "13  ...                         3            80                 1   \n",
       "14  ...                         2            80                 0   \n",
       "15  ...                         3            80                 1   \n",
       "16  ...                         4            80                 2   \n",
       "17  ...                         2            80                 2   \n",
       "18  ...                         3            80                 0   \n",
       "19  ...                         3            80                 0   \n",
       "\n",
       "    TotalWorkingYears  TrainingTimesLastYear WorkLifeBalance  YearsAtCompany  \\\n",
       "0                   8                      0               1               6   \n",
       "1                  10                      3               3              10   \n",
       "2                   7                      3               3               0   \n",
       "3                   8                      3               3               8   \n",
       "4                   6                      3               3               2   \n",
       "5                   8                      2               2               7   \n",
       "6                  12                      3               2               1   \n",
       "7                   1                      2               3               1   \n",
       "8                  10                      2               3               9   \n",
       "9                  17                      3               2               7   \n",
       "10                  6                      5               3               5   \n",
       "11                 10                      3               3               9   \n",
       "12                  5                      1               2               5   \n",
       "13                  3                      2               3               2   \n",
       "14                  6                      4               3               4   \n",
       "15                 10                      1               3              10   \n",
       "16                  7                      5               2               6   \n",
       "17                  1                      2               2               1   \n",
       "18                 31                      3               3              25   \n",
       "19                  6                      3               3               3   \n",
       "\n",
       "   YearsInCurrentRole  YearsSinceLastPromotion  YearsWithCurrManager  \n",
       "0                   4                        0                     5  \n",
       "1                   7                        1                     7  \n",
       "2                   0                        0                     0  \n",
       "3                   7                        3                     0  \n",
       "4                   2                        2                     2  \n",
       "5                   7                        3                     6  \n",
       "6                   0                        0                     0  \n",
       "7                   0                        0                     0  \n",
       "8                   7                        1                     8  \n",
       "9                   7                        7                     7  \n",
       "10                  4                        0                     3  \n",
       "11                  5                        0                     8  \n",
       "12                  2                        4                     3  \n",
       "13                  2                        1                     2  \n",
       "14                  2                        0                     3  \n",
       "15                  9                        8                     8  \n",
       "16                  2                        0                     5  \n",
       "17                  0                        0                     0  \n",
       "18                  8                        3                     7  \n",
       "19                  2                        1                     2  \n",
       "\n",
       "[20 rows x 35 columns]"
      ]
     },
     "execution_count": 186,
     "metadata": {},
     "output_type": "execute_result"
    }
   ],
   "source": [
    "df.head(20)"
   ]
  },
  {
   "cell_type": "code",
   "execution_count": 187,
   "id": "e862c1d1",
   "metadata": {},
   "outputs": [
    {
     "data": {
      "text/plain": [
       "Travel_Rarely        1043\n",
       "Travel_Frequently     277\n",
       "Non-Travel            150\n",
       "Name: BusinessTravel, dtype: int64"
      ]
     },
     "execution_count": 187,
     "metadata": {},
     "output_type": "execute_result"
    }
   ],
   "source": [
    "df[\"BusinessTravel\"].value_counts()"
   ]
  },
  {
   "cell_type": "code",
   "execution_count": 188,
   "id": "b42d604a",
   "metadata": {},
   "outputs": [
    {
     "data": {
      "text/plain": [
       "Research & Development    961\n",
       "Sales                     446\n",
       "Human Resources            63\n",
       "Name: Department, dtype: int64"
      ]
     },
     "execution_count": 188,
     "metadata": {},
     "output_type": "execute_result"
    }
   ],
   "source": [
    "df[\"Department\"].value_counts()"
   ]
  },
  {
   "cell_type": "code",
   "execution_count": 189,
   "id": "42572409",
   "metadata": {},
   "outputs": [
    {
     "data": {
      "text/plain": [
       "Life Sciences       606\n",
       "Medical             464\n",
       "Marketing           159\n",
       "Technical Degree    132\n",
       "Other                82\n",
       "Human Resources      27\n",
       "Name: EducationField, dtype: int64"
      ]
     },
     "execution_count": 189,
     "metadata": {},
     "output_type": "execute_result"
    }
   ],
   "source": [
    "df[\"EducationField\"].value_counts()"
   ]
  },
  {
   "cell_type": "code",
   "execution_count": 190,
   "id": "bf443720",
   "metadata": {},
   "outputs": [
    {
     "data": {
      "text/plain": [
       "Male      882\n",
       "Female    588\n",
       "Name: Gender, dtype: int64"
      ]
     },
     "execution_count": 190,
     "metadata": {},
     "output_type": "execute_result"
    }
   ],
   "source": [
    "df[\"Gender\"].value_counts()"
   ]
  },
  {
   "cell_type": "code",
   "execution_count": 191,
   "id": "88aa21e6",
   "metadata": {},
   "outputs": [
    {
     "data": {
      "text/plain": [
       "Sales Executive              326\n",
       "Research Scientist           292\n",
       "Laboratory Technician        259\n",
       "Manufacturing Director       145\n",
       "Healthcare Representative    131\n",
       "Manager                      102\n",
       "Sales Representative          83\n",
       "Research Director             80\n",
       "Human Resources               52\n",
       "Name: JobRole, dtype: int64"
      ]
     },
     "execution_count": 191,
     "metadata": {},
     "output_type": "execute_result"
    }
   ],
   "source": [
    "df[\"JobRole\"].value_counts()"
   ]
  },
  {
   "cell_type": "code",
   "execution_count": 192,
   "id": "78be6dcf",
   "metadata": {},
   "outputs": [
    {
     "data": {
      "text/plain": [
       "Married     673\n",
       "Single      470\n",
       "Divorced    327\n",
       "Name: MaritalStatus, dtype: int64"
      ]
     },
     "execution_count": 192,
     "metadata": {},
     "output_type": "execute_result"
    }
   ],
   "source": [
    "df[\"MaritalStatus\"].value_counts()"
   ]
  },
  {
   "cell_type": "code",
   "execution_count": 193,
   "id": "6021df89",
   "metadata": {},
   "outputs": [
    {
     "data": {
      "text/plain": [
       "Y    1470\n",
       "Name: Over18, dtype: int64"
      ]
     },
     "execution_count": 193,
     "metadata": {},
     "output_type": "execute_result"
    }
   ],
   "source": [
    "df[\"Over18\"].value_counts()"
   ]
  },
  {
   "cell_type": "code",
   "execution_count": 194,
   "id": "5a4482de",
   "metadata": {},
   "outputs": [
    {
     "data": {
      "text/plain": [
       "No     1054\n",
       "Yes     416\n",
       "Name: OverTime, dtype: int64"
      ]
     },
     "execution_count": 194,
     "metadata": {},
     "output_type": "execute_result"
    }
   ],
   "source": [
    "df[\"OverTime\"].value_counts()"
   ]
  },
  {
   "cell_type": "code",
   "execution_count": 195,
   "id": "3f3cf537",
   "metadata": {},
   "outputs": [
    {
     "data": {
      "text/plain": [
       "1    1470\n",
       "Name: EmployeeCount, dtype: int64"
      ]
     },
     "execution_count": 195,
     "metadata": {},
     "output_type": "execute_result"
    }
   ],
   "source": [
    "df[\"EmployeeCount\"].value_counts()"
   ]
  },
  {
   "cell_type": "code",
   "execution_count": 196,
   "id": "206340c6",
   "metadata": {},
   "outputs": [
    {
     "data": {
      "text/plain": [
       "80    1470\n",
       "Name: StandardHours, dtype: int64"
      ]
     },
     "execution_count": 196,
     "metadata": {},
     "output_type": "execute_result"
    }
   ],
   "source": [
    "df[\"StandardHours\"].value_counts()"
   ]
  },
  {
   "cell_type": "markdown",
   "id": "510ca181",
   "metadata": {},
   "source": [
    "From the above String type data type columns we can infer that\n",
    " 1. The columns Over18, EmployeeCount and StandardHours can be removed as they all have same values\n",
    " 2. OverTime colimn can be encoded with 0 and 1, where 0 means No OverTime and 1 Means Overtime\n",
    " 3. Gender column can also be encoded as GenderMale with values 0 or 1\n",
    " 4. Other categorical columns should be converted to numerical columns using get_dummies"
   ]
  },
  {
   "cell_type": "code",
   "execution_count": 197,
   "id": "09ec57db",
   "metadata": {},
   "outputs": [],
   "source": [
    "df.drop(columns=[\"Over18\", \"EmployeeCount\", \"StandardHours\"], inplace=True)"
   ]
  },
  {
   "cell_type": "code",
   "execution_count": 198,
   "id": "ad6438a7",
   "metadata": {},
   "outputs": [],
   "source": [
    "df[\"OverTime\"] = df[\"OverTime\"].apply(lambda x: 0 if x==\"No\" else 1)"
   ]
  },
  {
   "cell_type": "code",
   "execution_count": 199,
   "id": "4860a4e5",
   "metadata": {},
   "outputs": [],
   "source": [
    "df[\"Male\"] = df[\"Gender\"].apply(lambda x: 1 if x==\"Male\" else 0)"
   ]
  },
  {
   "cell_type": "code",
   "execution_count": 200,
   "id": "3684d269",
   "metadata": {},
   "outputs": [],
   "source": [
    "df.drop(columns=[\"Gender\"], inplace=True)"
   ]
  },
  {
   "cell_type": "code",
   "execution_count": 201,
   "id": "9df332bc",
   "metadata": {},
   "outputs": [],
   "source": [
    "def fill_underscore(string):\n",
    "    return re.sub(\"[\\s\\-]+\", \"_\", string)"
   ]
  },
  {
   "cell_type": "code",
   "execution_count": 202,
   "id": "d434b0f9",
   "metadata": {},
   "outputs": [],
   "source": [
    "df[\"JobRole\"] = df[\"JobRole\"].apply(fill_underscore)"
   ]
  },
  {
   "cell_type": "code",
   "execution_count": 203,
   "id": "2bd6602d",
   "metadata": {},
   "outputs": [],
   "source": [
    "df[\"EducationField\"] = df[\"EducationField\"].apply(fill_underscore)"
   ]
  },
  {
   "cell_type": "code",
   "execution_count": 204,
   "id": "6c1bf45a",
   "metadata": {},
   "outputs": [],
   "source": [
    "df[\"Department\"] = df[\"Department\"].apply(fill_underscore)"
   ]
  },
  {
   "cell_type": "code",
   "execution_count": 205,
   "id": "7e0fde64",
   "metadata": {},
   "outputs": [],
   "source": [
    "df[\"BusinessTravel\"] = df[\"BusinessTravel\"].apply(fill_underscore)"
   ]
  },
  {
   "cell_type": "code",
   "execution_count": 206,
   "id": "bcbb0853",
   "metadata": {},
   "outputs": [],
   "source": [
    "category_dummies = pd.get_dummies(df[[\"JobRole\", \"EducationField\", \"Department\", \"BusinessTravel\", \"MaritalStatus\"]])"
   ]
  },
  {
   "cell_type": "code",
   "execution_count": 207,
   "id": "a97e62ad",
   "metadata": {},
   "outputs": [
    {
     "data": {
      "text/html": [
       "<div>\n",
       "<style scoped>\n",
       "    .dataframe tbody tr th:only-of-type {\n",
       "        vertical-align: middle;\n",
       "    }\n",
       "\n",
       "    .dataframe tbody tr th {\n",
       "        vertical-align: top;\n",
       "    }\n",
       "\n",
       "    .dataframe thead th {\n",
       "        text-align: right;\n",
       "    }\n",
       "</style>\n",
       "<table border=\"1\" class=\"dataframe\">\n",
       "  <thead>\n",
       "    <tr style=\"text-align: right;\">\n",
       "      <th></th>\n",
       "      <th>JobRole_Healthcare_Representative</th>\n",
       "      <th>JobRole_Human_Resources</th>\n",
       "      <th>JobRole_Laboratory_Technician</th>\n",
       "      <th>JobRole_Manager</th>\n",
       "      <th>JobRole_Manufacturing_Director</th>\n",
       "      <th>JobRole_Research_Director</th>\n",
       "      <th>JobRole_Research_Scientist</th>\n",
       "      <th>JobRole_Sales_Executive</th>\n",
       "      <th>JobRole_Sales_Representative</th>\n",
       "      <th>EducationField_Human_Resources</th>\n",
       "      <th>...</th>\n",
       "      <th>EducationField_Technical_Degree</th>\n",
       "      <th>Department_Human_Resources</th>\n",
       "      <th>Department_Research_&amp;_Development</th>\n",
       "      <th>Department_Sales</th>\n",
       "      <th>BusinessTravel_Non_Travel</th>\n",
       "      <th>BusinessTravel_Travel_Frequently</th>\n",
       "      <th>BusinessTravel_Travel_Rarely</th>\n",
       "      <th>MaritalStatus_Divorced</th>\n",
       "      <th>MaritalStatus_Married</th>\n",
       "      <th>MaritalStatus_Single</th>\n",
       "    </tr>\n",
       "  </thead>\n",
       "  <tbody>\n",
       "    <tr>\n",
       "      <th>0</th>\n",
       "      <td>0</td>\n",
       "      <td>0</td>\n",
       "      <td>0</td>\n",
       "      <td>0</td>\n",
       "      <td>0</td>\n",
       "      <td>0</td>\n",
       "      <td>0</td>\n",
       "      <td>1</td>\n",
       "      <td>0</td>\n",
       "      <td>0</td>\n",
       "      <td>...</td>\n",
       "      <td>0</td>\n",
       "      <td>0</td>\n",
       "      <td>0</td>\n",
       "      <td>1</td>\n",
       "      <td>0</td>\n",
       "      <td>0</td>\n",
       "      <td>1</td>\n",
       "      <td>0</td>\n",
       "      <td>0</td>\n",
       "      <td>1</td>\n",
       "    </tr>\n",
       "    <tr>\n",
       "      <th>1</th>\n",
       "      <td>0</td>\n",
       "      <td>0</td>\n",
       "      <td>0</td>\n",
       "      <td>0</td>\n",
       "      <td>0</td>\n",
       "      <td>0</td>\n",
       "      <td>1</td>\n",
       "      <td>0</td>\n",
       "      <td>0</td>\n",
       "      <td>0</td>\n",
       "      <td>...</td>\n",
       "      <td>0</td>\n",
       "      <td>0</td>\n",
       "      <td>1</td>\n",
       "      <td>0</td>\n",
       "      <td>0</td>\n",
       "      <td>1</td>\n",
       "      <td>0</td>\n",
       "      <td>0</td>\n",
       "      <td>1</td>\n",
       "      <td>0</td>\n",
       "    </tr>\n",
       "    <tr>\n",
       "      <th>2</th>\n",
       "      <td>0</td>\n",
       "      <td>0</td>\n",
       "      <td>1</td>\n",
       "      <td>0</td>\n",
       "      <td>0</td>\n",
       "      <td>0</td>\n",
       "      <td>0</td>\n",
       "      <td>0</td>\n",
       "      <td>0</td>\n",
       "      <td>0</td>\n",
       "      <td>...</td>\n",
       "      <td>0</td>\n",
       "      <td>0</td>\n",
       "      <td>1</td>\n",
       "      <td>0</td>\n",
       "      <td>0</td>\n",
       "      <td>0</td>\n",
       "      <td>1</td>\n",
       "      <td>0</td>\n",
       "      <td>0</td>\n",
       "      <td>1</td>\n",
       "    </tr>\n",
       "    <tr>\n",
       "      <th>3</th>\n",
       "      <td>0</td>\n",
       "      <td>0</td>\n",
       "      <td>0</td>\n",
       "      <td>0</td>\n",
       "      <td>0</td>\n",
       "      <td>0</td>\n",
       "      <td>1</td>\n",
       "      <td>0</td>\n",
       "      <td>0</td>\n",
       "      <td>0</td>\n",
       "      <td>...</td>\n",
       "      <td>0</td>\n",
       "      <td>0</td>\n",
       "      <td>1</td>\n",
       "      <td>0</td>\n",
       "      <td>0</td>\n",
       "      <td>1</td>\n",
       "      <td>0</td>\n",
       "      <td>0</td>\n",
       "      <td>1</td>\n",
       "      <td>0</td>\n",
       "    </tr>\n",
       "    <tr>\n",
       "      <th>4</th>\n",
       "      <td>0</td>\n",
       "      <td>0</td>\n",
       "      <td>1</td>\n",
       "      <td>0</td>\n",
       "      <td>0</td>\n",
       "      <td>0</td>\n",
       "      <td>0</td>\n",
       "      <td>0</td>\n",
       "      <td>0</td>\n",
       "      <td>0</td>\n",
       "      <td>...</td>\n",
       "      <td>0</td>\n",
       "      <td>0</td>\n",
       "      <td>1</td>\n",
       "      <td>0</td>\n",
       "      <td>0</td>\n",
       "      <td>0</td>\n",
       "      <td>1</td>\n",
       "      <td>0</td>\n",
       "      <td>1</td>\n",
       "      <td>0</td>\n",
       "    </tr>\n",
       "    <tr>\n",
       "      <th>...</th>\n",
       "      <td>...</td>\n",
       "      <td>...</td>\n",
       "      <td>...</td>\n",
       "      <td>...</td>\n",
       "      <td>...</td>\n",
       "      <td>...</td>\n",
       "      <td>...</td>\n",
       "      <td>...</td>\n",
       "      <td>...</td>\n",
       "      <td>...</td>\n",
       "      <td>...</td>\n",
       "      <td>...</td>\n",
       "      <td>...</td>\n",
       "      <td>...</td>\n",
       "      <td>...</td>\n",
       "      <td>...</td>\n",
       "      <td>...</td>\n",
       "      <td>...</td>\n",
       "      <td>...</td>\n",
       "      <td>...</td>\n",
       "      <td>...</td>\n",
       "    </tr>\n",
       "    <tr>\n",
       "      <th>1465</th>\n",
       "      <td>0</td>\n",
       "      <td>0</td>\n",
       "      <td>1</td>\n",
       "      <td>0</td>\n",
       "      <td>0</td>\n",
       "      <td>0</td>\n",
       "      <td>0</td>\n",
       "      <td>0</td>\n",
       "      <td>0</td>\n",
       "      <td>0</td>\n",
       "      <td>...</td>\n",
       "      <td>0</td>\n",
       "      <td>0</td>\n",
       "      <td>1</td>\n",
       "      <td>0</td>\n",
       "      <td>0</td>\n",
       "      <td>1</td>\n",
       "      <td>0</td>\n",
       "      <td>0</td>\n",
       "      <td>1</td>\n",
       "      <td>0</td>\n",
       "    </tr>\n",
       "    <tr>\n",
       "      <th>1466</th>\n",
       "      <td>1</td>\n",
       "      <td>0</td>\n",
       "      <td>0</td>\n",
       "      <td>0</td>\n",
       "      <td>0</td>\n",
       "      <td>0</td>\n",
       "      <td>0</td>\n",
       "      <td>0</td>\n",
       "      <td>0</td>\n",
       "      <td>0</td>\n",
       "      <td>...</td>\n",
       "      <td>0</td>\n",
       "      <td>0</td>\n",
       "      <td>1</td>\n",
       "      <td>0</td>\n",
       "      <td>0</td>\n",
       "      <td>0</td>\n",
       "      <td>1</td>\n",
       "      <td>0</td>\n",
       "      <td>1</td>\n",
       "      <td>0</td>\n",
       "    </tr>\n",
       "    <tr>\n",
       "      <th>1467</th>\n",
       "      <td>0</td>\n",
       "      <td>0</td>\n",
       "      <td>0</td>\n",
       "      <td>0</td>\n",
       "      <td>1</td>\n",
       "      <td>0</td>\n",
       "      <td>0</td>\n",
       "      <td>0</td>\n",
       "      <td>0</td>\n",
       "      <td>0</td>\n",
       "      <td>...</td>\n",
       "      <td>0</td>\n",
       "      <td>0</td>\n",
       "      <td>1</td>\n",
       "      <td>0</td>\n",
       "      <td>0</td>\n",
       "      <td>0</td>\n",
       "      <td>1</td>\n",
       "      <td>0</td>\n",
       "      <td>1</td>\n",
       "      <td>0</td>\n",
       "    </tr>\n",
       "    <tr>\n",
       "      <th>1468</th>\n",
       "      <td>0</td>\n",
       "      <td>0</td>\n",
       "      <td>0</td>\n",
       "      <td>0</td>\n",
       "      <td>0</td>\n",
       "      <td>0</td>\n",
       "      <td>0</td>\n",
       "      <td>1</td>\n",
       "      <td>0</td>\n",
       "      <td>0</td>\n",
       "      <td>...</td>\n",
       "      <td>0</td>\n",
       "      <td>0</td>\n",
       "      <td>0</td>\n",
       "      <td>1</td>\n",
       "      <td>0</td>\n",
       "      <td>1</td>\n",
       "      <td>0</td>\n",
       "      <td>0</td>\n",
       "      <td>1</td>\n",
       "      <td>0</td>\n",
       "    </tr>\n",
       "    <tr>\n",
       "      <th>1469</th>\n",
       "      <td>0</td>\n",
       "      <td>0</td>\n",
       "      <td>1</td>\n",
       "      <td>0</td>\n",
       "      <td>0</td>\n",
       "      <td>0</td>\n",
       "      <td>0</td>\n",
       "      <td>0</td>\n",
       "      <td>0</td>\n",
       "      <td>0</td>\n",
       "      <td>...</td>\n",
       "      <td>0</td>\n",
       "      <td>0</td>\n",
       "      <td>1</td>\n",
       "      <td>0</td>\n",
       "      <td>0</td>\n",
       "      <td>0</td>\n",
       "      <td>1</td>\n",
       "      <td>0</td>\n",
       "      <td>1</td>\n",
       "      <td>0</td>\n",
       "    </tr>\n",
       "  </tbody>\n",
       "</table>\n",
       "<p>1470 rows × 24 columns</p>\n",
       "</div>"
      ],
      "text/plain": [
       "      JobRole_Healthcare_Representative  JobRole_Human_Resources  \\\n",
       "0                                     0                        0   \n",
       "1                                     0                        0   \n",
       "2                                     0                        0   \n",
       "3                                     0                        0   \n",
       "4                                     0                        0   \n",
       "...                                 ...                      ...   \n",
       "1465                                  0                        0   \n",
       "1466                                  1                        0   \n",
       "1467                                  0                        0   \n",
       "1468                                  0                        0   \n",
       "1469                                  0                        0   \n",
       "\n",
       "      JobRole_Laboratory_Technician  JobRole_Manager  \\\n",
       "0                                 0                0   \n",
       "1                                 0                0   \n",
       "2                                 1                0   \n",
       "3                                 0                0   \n",
       "4                                 1                0   \n",
       "...                             ...              ...   \n",
       "1465                              1                0   \n",
       "1466                              0                0   \n",
       "1467                              0                0   \n",
       "1468                              0                0   \n",
       "1469                              1                0   \n",
       "\n",
       "      JobRole_Manufacturing_Director  JobRole_Research_Director  \\\n",
       "0                                  0                          0   \n",
       "1                                  0                          0   \n",
       "2                                  0                          0   \n",
       "3                                  0                          0   \n",
       "4                                  0                          0   \n",
       "...                              ...                        ...   \n",
       "1465                               0                          0   \n",
       "1466                               0                          0   \n",
       "1467                               1                          0   \n",
       "1468                               0                          0   \n",
       "1469                               0                          0   \n",
       "\n",
       "      JobRole_Research_Scientist  JobRole_Sales_Executive  \\\n",
       "0                              0                        1   \n",
       "1                              1                        0   \n",
       "2                              0                        0   \n",
       "3                              1                        0   \n",
       "4                              0                        0   \n",
       "...                          ...                      ...   \n",
       "1465                           0                        0   \n",
       "1466                           0                        0   \n",
       "1467                           0                        0   \n",
       "1468                           0                        1   \n",
       "1469                           0                        0   \n",
       "\n",
       "      JobRole_Sales_Representative  EducationField_Human_Resources  ...  \\\n",
       "0                                0                               0  ...   \n",
       "1                                0                               0  ...   \n",
       "2                                0                               0  ...   \n",
       "3                                0                               0  ...   \n",
       "4                                0                               0  ...   \n",
       "...                            ...                             ...  ...   \n",
       "1465                             0                               0  ...   \n",
       "1466                             0                               0  ...   \n",
       "1467                             0                               0  ...   \n",
       "1468                             0                               0  ...   \n",
       "1469                             0                               0  ...   \n",
       "\n",
       "      EducationField_Technical_Degree  Department_Human_Resources  \\\n",
       "0                                   0                           0   \n",
       "1                                   0                           0   \n",
       "2                                   0                           0   \n",
       "3                                   0                           0   \n",
       "4                                   0                           0   \n",
       "...                               ...                         ...   \n",
       "1465                                0                           0   \n",
       "1466                                0                           0   \n",
       "1467                                0                           0   \n",
       "1468                                0                           0   \n",
       "1469                                0                           0   \n",
       "\n",
       "      Department_Research_&_Development  Department_Sales  \\\n",
       "0                                     0                 1   \n",
       "1                                     1                 0   \n",
       "2                                     1                 0   \n",
       "3                                     1                 0   \n",
       "4                                     1                 0   \n",
       "...                                 ...               ...   \n",
       "1465                                  1                 0   \n",
       "1466                                  1                 0   \n",
       "1467                                  1                 0   \n",
       "1468                                  0                 1   \n",
       "1469                                  1                 0   \n",
       "\n",
       "      BusinessTravel_Non_Travel  BusinessTravel_Travel_Frequently  \\\n",
       "0                             0                                 0   \n",
       "1                             0                                 1   \n",
       "2                             0                                 0   \n",
       "3                             0                                 1   \n",
       "4                             0                                 0   \n",
       "...                         ...                               ...   \n",
       "1465                          0                                 1   \n",
       "1466                          0                                 0   \n",
       "1467                          0                                 0   \n",
       "1468                          0                                 1   \n",
       "1469                          0                                 0   \n",
       "\n",
       "      BusinessTravel_Travel_Rarely  MaritalStatus_Divorced  \\\n",
       "0                                1                       0   \n",
       "1                                0                       0   \n",
       "2                                1                       0   \n",
       "3                                0                       0   \n",
       "4                                1                       0   \n",
       "...                            ...                     ...   \n",
       "1465                             0                       0   \n",
       "1466                             1                       0   \n",
       "1467                             1                       0   \n",
       "1468                             0                       0   \n",
       "1469                             1                       0   \n",
       "\n",
       "      MaritalStatus_Married  MaritalStatus_Single  \n",
       "0                         0                     1  \n",
       "1                         1                     0  \n",
       "2                         0                     1  \n",
       "3                         1                     0  \n",
       "4                         1                     0  \n",
       "...                     ...                   ...  \n",
       "1465                      1                     0  \n",
       "1466                      1                     0  \n",
       "1467                      1                     0  \n",
       "1468                      1                     0  \n",
       "1469                      1                     0  \n",
       "\n",
       "[1470 rows x 24 columns]"
      ]
     },
     "execution_count": 207,
     "metadata": {},
     "output_type": "execute_result"
    }
   ],
   "source": [
    "category_dummies"
   ]
  },
  {
   "cell_type": "code",
   "execution_count": 208,
   "id": "2630be78",
   "metadata": {},
   "outputs": [],
   "source": [
    "df.drop(columns=[\"JobRole\", \"EducationField\", \"Department\", \"BusinessTravel\", \"MaritalStatus\"], inplace=True)"
   ]
  },
  {
   "cell_type": "code",
   "execution_count": 209,
   "id": "d9066095",
   "metadata": {},
   "outputs": [
    {
     "name": "stdout",
     "output_type": "stream",
     "text": [
      "<class 'pandas.core.frame.DataFrame'>\n",
      "RangeIndex: 1470 entries, 0 to 1469\n",
      "Data columns (total 27 columns):\n",
      " #   Column                    Non-Null Count  Dtype\n",
      "---  ------                    --------------  -----\n",
      " 0   Age                       1470 non-null   int64\n",
      " 1   Attrition                 1470 non-null   int64\n",
      " 2   DailyRate                 1470 non-null   int64\n",
      " 3   DistanceFromHome          1470 non-null   int64\n",
      " 4   Education                 1470 non-null   int64\n",
      " 5   EmployeeNumber            1470 non-null   int64\n",
      " 6   EnvironmentSatisfaction   1470 non-null   int64\n",
      " 7   HourlyRate                1470 non-null   int64\n",
      " 8   JobInvolvement            1470 non-null   int64\n",
      " 9   JobLevel                  1470 non-null   int64\n",
      " 10  JobSatisfaction           1470 non-null   int64\n",
      " 11  MonthlyIncome             1470 non-null   int64\n",
      " 12  MonthlyRate               1470 non-null   int64\n",
      " 13  NumCompaniesWorked        1470 non-null   int64\n",
      " 14  OverTime                  1470 non-null   int64\n",
      " 15  PercentSalaryHike         1470 non-null   int64\n",
      " 16  PerformanceRating         1470 non-null   int64\n",
      " 17  RelationshipSatisfaction  1470 non-null   int64\n",
      " 18  StockOptionLevel          1470 non-null   int64\n",
      " 19  TotalWorkingYears         1470 non-null   int64\n",
      " 20  TrainingTimesLastYear     1470 non-null   int64\n",
      " 21  WorkLifeBalance           1470 non-null   int64\n",
      " 22  YearsAtCompany            1470 non-null   int64\n",
      " 23  YearsInCurrentRole        1470 non-null   int64\n",
      " 24  YearsSinceLastPromotion   1470 non-null   int64\n",
      " 25  YearsWithCurrManager      1470 non-null   int64\n",
      " 26  Male                      1470 non-null   int64\n",
      "dtypes: int64(27)\n",
      "memory usage: 310.2 KB\n"
     ]
    }
   ],
   "source": [
    "df.info()"
   ]
  },
  {
   "cell_type": "code",
   "execution_count": 210,
   "id": "cdd56bc5",
   "metadata": {},
   "outputs": [
    {
     "data": {
      "text/plain": [
       "Attrition                   1.000000\n",
       "OverTime                    0.246118\n",
       "DistanceFromHome            0.077924\n",
       "NumCompaniesWorked          0.043494\n",
       "Male                        0.029453\n",
       "MonthlyRate                 0.015170\n",
       "PerformanceRating           0.002889\n",
       "HourlyRate                 -0.006846\n",
       "EmployeeNumber             -0.010577\n",
       "PercentSalaryHike          -0.013478\n",
       "Education                  -0.031373\n",
       "YearsSinceLastPromotion    -0.033019\n",
       "RelationshipSatisfaction   -0.045872\n",
       "DailyRate                  -0.056652\n",
       "TrainingTimesLastYear      -0.059478\n",
       "WorkLifeBalance            -0.063939\n",
       "EnvironmentSatisfaction    -0.103369\n",
       "JobSatisfaction            -0.103481\n",
       "JobInvolvement             -0.130016\n",
       "YearsAtCompany             -0.134392\n",
       "StockOptionLevel           -0.137145\n",
       "YearsWithCurrManager       -0.156199\n",
       "Age                        -0.159205\n",
       "MonthlyIncome              -0.159840\n",
       "YearsInCurrentRole         -0.160545\n",
       "JobLevel                   -0.169105\n",
       "TotalWorkingYears          -0.171063\n",
       "Name: Attrition, dtype: float64"
      ]
     },
     "execution_count": 210,
     "metadata": {},
     "output_type": "execute_result"
    }
   ],
   "source": [
    "df.corr()[\"Attrition\"].sort_values(ascending=False)"
   ]
  },
  {
   "cell_type": "code",
   "execution_count": 211,
   "id": "67526f0f",
   "metadata": {},
   "outputs": [],
   "source": [
    "df_numerical = pd.concat([df, category_dummies], axis=1)"
   ]
  },
  {
   "cell_type": "code",
   "execution_count": 212,
   "id": "199a37da",
   "metadata": {},
   "outputs": [
    {
     "name": "stdout",
     "output_type": "stream",
     "text": [
      "<class 'pandas.core.frame.DataFrame'>\n",
      "RangeIndex: 1470 entries, 0 to 1469\n",
      "Data columns (total 51 columns):\n",
      " #   Column                             Non-Null Count  Dtype\n",
      "---  ------                             --------------  -----\n",
      " 0   Age                                1470 non-null   int64\n",
      " 1   Attrition                          1470 non-null   int64\n",
      " 2   DailyRate                          1470 non-null   int64\n",
      " 3   DistanceFromHome                   1470 non-null   int64\n",
      " 4   Education                          1470 non-null   int64\n",
      " 5   EmployeeNumber                     1470 non-null   int64\n",
      " 6   EnvironmentSatisfaction            1470 non-null   int64\n",
      " 7   HourlyRate                         1470 non-null   int64\n",
      " 8   JobInvolvement                     1470 non-null   int64\n",
      " 9   JobLevel                           1470 non-null   int64\n",
      " 10  JobSatisfaction                    1470 non-null   int64\n",
      " 11  MonthlyIncome                      1470 non-null   int64\n",
      " 12  MonthlyRate                        1470 non-null   int64\n",
      " 13  NumCompaniesWorked                 1470 non-null   int64\n",
      " 14  OverTime                           1470 non-null   int64\n",
      " 15  PercentSalaryHike                  1470 non-null   int64\n",
      " 16  PerformanceRating                  1470 non-null   int64\n",
      " 17  RelationshipSatisfaction           1470 non-null   int64\n",
      " 18  StockOptionLevel                   1470 non-null   int64\n",
      " 19  TotalWorkingYears                  1470 non-null   int64\n",
      " 20  TrainingTimesLastYear              1470 non-null   int64\n",
      " 21  WorkLifeBalance                    1470 non-null   int64\n",
      " 22  YearsAtCompany                     1470 non-null   int64\n",
      " 23  YearsInCurrentRole                 1470 non-null   int64\n",
      " 24  YearsSinceLastPromotion            1470 non-null   int64\n",
      " 25  YearsWithCurrManager               1470 non-null   int64\n",
      " 26  Male                               1470 non-null   int64\n",
      " 27  JobRole_Healthcare_Representative  1470 non-null   uint8\n",
      " 28  JobRole_Human_Resources            1470 non-null   uint8\n",
      " 29  JobRole_Laboratory_Technician      1470 non-null   uint8\n",
      " 30  JobRole_Manager                    1470 non-null   uint8\n",
      " 31  JobRole_Manufacturing_Director     1470 non-null   uint8\n",
      " 32  JobRole_Research_Director          1470 non-null   uint8\n",
      " 33  JobRole_Research_Scientist         1470 non-null   uint8\n",
      " 34  JobRole_Sales_Executive            1470 non-null   uint8\n",
      " 35  JobRole_Sales_Representative       1470 non-null   uint8\n",
      " 36  EducationField_Human_Resources     1470 non-null   uint8\n",
      " 37  EducationField_Life_Sciences       1470 non-null   uint8\n",
      " 38  EducationField_Marketing           1470 non-null   uint8\n",
      " 39  EducationField_Medical             1470 non-null   uint8\n",
      " 40  EducationField_Other               1470 non-null   uint8\n",
      " 41  EducationField_Technical_Degree    1470 non-null   uint8\n",
      " 42  Department_Human_Resources         1470 non-null   uint8\n",
      " 43  Department_Research_&_Development  1470 non-null   uint8\n",
      " 44  Department_Sales                   1470 non-null   uint8\n",
      " 45  BusinessTravel_Non_Travel          1470 non-null   uint8\n",
      " 46  BusinessTravel_Travel_Frequently   1470 non-null   uint8\n",
      " 47  BusinessTravel_Travel_Rarely       1470 non-null   uint8\n",
      " 48  MaritalStatus_Divorced             1470 non-null   uint8\n",
      " 49  MaritalStatus_Married              1470 non-null   uint8\n",
      " 50  MaritalStatus_Single               1470 non-null   uint8\n",
      "dtypes: int64(27), uint8(24)\n",
      "memory usage: 344.7 KB\n"
     ]
    }
   ],
   "source": [
    "df_numerical.info()"
   ]
  },
  {
   "cell_type": "code",
   "execution_count": 213,
   "id": "56ce9651",
   "metadata": {},
   "outputs": [
    {
     "data": {
      "text/plain": [
       "Attrition                            1.000000\n",
       "OverTime                             0.246118\n",
       "MaritalStatus_Single                 0.175419\n",
       "JobRole_Sales_Representative         0.157234\n",
       "BusinessTravel_Travel_Frequently     0.115143\n",
       "JobRole_Laboratory_Technician        0.098290\n",
       "Department_Sales                     0.080855\n",
       "DistanceFromHome                     0.077924\n",
       "EducationField_Technical_Degree      0.069355\n",
       "EducationField_Marketing             0.055781\n",
       "NumCompaniesWorked                   0.043494\n",
       "EducationField_Human_Resources       0.036466\n",
       "JobRole_Human_Resources              0.036215\n",
       "Male                                 0.029453\n",
       "JobRole_Sales_Executive              0.019774\n",
       "Department_Human_Resources           0.016832\n",
       "MonthlyRate                          0.015170\n",
       "PerformanceRating                    0.002889\n",
       "JobRole_Research_Scientist          -0.000360\n",
       "HourlyRate                          -0.006846\n",
       "EmployeeNumber                      -0.010577\n",
       "PercentSalaryHike                   -0.013478\n",
       "EducationField_Other                -0.017898\n",
       "Education                           -0.031373\n",
       "EducationField_Life_Sciences        -0.032703\n",
       "YearsSinceLastPromotion             -0.033019\n",
       "RelationshipSatisfaction            -0.045872\n",
       "EducationField_Medical              -0.046999\n",
       "BusinessTravel_Travel_Rarely        -0.049538\n",
       "DailyRate                           -0.056652\n",
       "TrainingTimesLastYear               -0.059478\n",
       "WorkLifeBalance                     -0.063939\n",
       "BusinessTravel_Non_Travel           -0.074457\n",
       "JobRole_Healthcare_Representative   -0.078696\n",
       "JobRole_Manufacturing_Director      -0.082994\n",
       "JobRole_Manager                     -0.083316\n",
       "Department_Research_&_Development   -0.085293\n",
       "MaritalStatus_Divorced              -0.087716\n",
       "JobRole_Research_Director           -0.088870\n",
       "MaritalStatus_Married               -0.090984\n",
       "EnvironmentSatisfaction             -0.103369\n",
       "JobSatisfaction                     -0.103481\n",
       "JobInvolvement                      -0.130016\n",
       "YearsAtCompany                      -0.134392\n",
       "StockOptionLevel                    -0.137145\n",
       "YearsWithCurrManager                -0.156199\n",
       "Age                                 -0.159205\n",
       "MonthlyIncome                       -0.159840\n",
       "YearsInCurrentRole                  -0.160545\n",
       "JobLevel                            -0.169105\n",
       "TotalWorkingYears                   -0.171063\n",
       "Name: Attrition, dtype: float64"
      ]
     },
     "execution_count": 213,
     "metadata": {},
     "output_type": "execute_result"
    }
   ],
   "source": [
    "df_numerical.corr()[\"Attrition\"].sort_values(ascending=False)"
   ]
  },
  {
   "cell_type": "code",
   "execution_count": 214,
   "id": "a9727a44",
   "metadata": {},
   "outputs": [],
   "source": [
    "df_selected = df_numerical[[\"Attrition\", \"OverTime\", \"MaritalStatus_Single\", \"JobRole_Sales_Representative\", \"BusinessTravel_Travel_Frequently\", \"JobRole_Laboratory_Technician\", \"Department_Sales\", \"DistanceFromHome\", \"EducationField_Technical_Degree\", \"EducationField_Marketing\"]]"
   ]
  },
  {
   "cell_type": "code",
   "execution_count": 215,
   "id": "4ad7660d",
   "metadata": {},
   "outputs": [
    {
     "data": {
      "text/plain": [
       "<AxesSubplot:ylabel='Attrition'>"
      ]
     },
     "execution_count": 215,
     "metadata": {},
     "output_type": "execute_result"
    },
    {
     "data": {
      "image/png": "[encoded data removed]",
      "text/plain": [
       "<Figure size 1800x720 with 1 Axes>"
      ]
     },
     "metadata": {
      "needs_background": "light"
     },
     "output_type": "display_data"
    }
   ],
   "source": [
    "fig, ax = plt.subplots(figsize=(25,10))\n",
    "sns.heatmap(df_numerical.groupby(by=[\"Attrition\"]).sum(),cmap=\"YlGnBu\", annot=False, fmt = '.4g', cbar=False, ax=ax)"
   ]
  },
  {
   "cell_type": "code",
   "execution_count": 216,
   "id": "8f1d4fac",
   "metadata": {},
   "outputs": [
    {
     "data": {
      "text/plain": [
       "Age    Attrition  DailyRate  DistanceFromHome  Education  EmployeeNumber  EnvironmentSatisfaction  HourlyRate  JobInvolvement  JobLevel  JobSatisfaction  MonthlyIncome  MonthlyRate  NumCompaniesWorked  OverTime  PercentSalaryHike  PerformanceRating  RelationshipSatisfaction  StockOptionLevel  TotalWorkingYears  TrainingTimesLastYear  WorkLifeBalance  YearsAtCompany  YearsInCurrentRole  YearsSinceLastPromotion  YearsWithCurrManager  Male \n",
       "False  False      False      False             False      False           False                    False       False           False     False            False          False        False               False     False              False              False                     False             False              False                  False            False           False               False                    False                 False    1470\n",
       "dtype: int64"
      ]
     },
     "execution_count": 216,
     "metadata": {},
     "output_type": "execute_result"
    }
   ],
   "source": [
    "df.isna().value_counts()"
   ]
  },
  {
   "cell_type": "code",
   "execution_count": 217,
   "id": "80f5a0a6",
   "metadata": {},
   "outputs": [],
   "source": [
    "X = df_numerical.drop(columns=[\"Attrition\"]).copy()"
   ]
  },
  {
   "cell_type": "code",
   "execution_count": 218,
   "id": "d9252f64",
   "metadata": {},
   "outputs": [],
   "source": [
    "y = df_numerical[\"Attrition\"]"
   ]
  },
  {
   "cell_type": "code",
   "execution_count": 219,
   "id": "b50e5874",
   "metadata": {},
   "outputs": [],
   "source": [
    "from sklearn.model_selection import train_test_split"
   ]
  },
  {
   "cell_type": "code",
   "execution_count": 220,
   "id": "d33254f4",
   "metadata": {},
   "outputs": [],
   "source": [
    "X_train, X_test, y_train, y_test = train_test_split(X, y, test_size=0.2, random_state=0)"
   ]
  },
  {
   "cell_type": "code",
   "execution_count": 221,
   "id": "e0e9fe61",
   "metadata": {},
   "outputs": [],
   "source": [
    "from sklearn.tree import DecisionTreeClassifier"
   ]
  },
  {
   "cell_type": "code",
   "execution_count": 350,
   "id": "ea8c0aeb",
   "metadata": {},
   "outputs": [],
   "source": [
    "from sklearn.ensemble import RandomForestClassifier"
   ]
  },
  {
   "cell_type": "code",
   "execution_count": 222,
   "id": "6a58fc63",
   "metadata": {},
   "outputs": [],
   "source": [
    "from sklearn.model_selection import GridSearchCV"
   ]
  },
  {
   "cell_type": "code",
   "execution_count": 223,
   "id": "9b6a4bf1",
   "metadata": {},
   "outputs": [
    {
     "name": "stdout",
     "output_type": "stream",
     "text": [
      "{'criterion': 'gini', 'max_depth': 2}\n"
     ]
    }
   ],
   "source": [
    "clf = DecisionTreeClassifier(random_state=80)\n",
    "params = {'max_depth':list(range(1,500)), 'criterion':['gini', 'entropy']}\n",
    "cv_model = GridSearchCV(clf, param_grid = params)\n",
    "cv_model.fit(X_train,y_train)\n",
    "print(cv_model.best_params_)"
   ]
  },
  {
   "cell_type": "code",
   "execution_count": 224,
   "id": "b1eb6882",
   "metadata": {},
   "outputs": [],
   "source": [
    "from sklearn.metrics import accuracy_score, confusion_matrix"
   ]
  },
  {
   "cell_type": "code",
   "execution_count": 248,
   "id": "e942201a",
   "metadata": {},
   "outputs": [],
   "source": [
    "def dtree(depths):\n",
    "    ascore = []\n",
    "    dectreearr = []\n",
    "    for depth in range(1, depths):\n",
    "        dectree = DecisionTreeClassifier(max_depth=depth, criterion='gini')\n",
    "        dectree_train = dectree.fit(X_train, y_train)\n",
    "        y_pred = dectree_train.predict(X_test)\n",
    "        acc_score = accuracy_score(y_test,y_pred)*100\n",
    "        ascore.append(acc_score)\n",
    "        dectreearr.append(dectree_train)\n",
    "        print(\"#\", depth, \"Decision tree accuracy Score=\",accuracy_score(y_test,y_pred)*100)\n",
    "    return {\"ascore\":ascore, \"dectree\":dectreearr}"
   ]
  },
  {
   "cell_type": "code",
   "execution_count": 249,
   "id": "a7519b9e",
   "metadata": {},
   "outputs": [
    {
     "name": "stdout",
     "output_type": "stream",
     "text": [
      "# 1 Decision tree accuracy Score= 83.33333333333334\n",
      "# 2 Decision tree accuracy Score= 82.99319727891157\n",
      "# 3 Decision tree accuracy Score= 83.33333333333334\n",
      "# 4 Decision tree accuracy Score= 83.33333333333334\n",
      "# 5 Decision tree accuracy Score= 84.35374149659864\n",
      "# 6 Decision tree accuracy Score= 84.6938775510204\n",
      "# 7 Decision tree accuracy Score= 81.29251700680273\n",
      "# 8 Decision tree accuracy Score= 81.97278911564626\n",
      "# 9 Decision tree accuracy Score= 79.93197278911565\n",
      "# 10 Decision tree accuracy Score= 80.61224489795919\n",
      "# 11 Decision tree accuracy Score= 78.91156462585033\n",
      "# 12 Decision tree accuracy Score= 77.89115646258503\n",
      "# 13 Decision tree accuracy Score= 79.25170068027211\n",
      "# 14 Decision tree accuracy Score= 78.91156462585033\n",
      "# 15 Decision tree accuracy Score= 79.25170068027211\n",
      "# 16 Decision tree accuracy Score= 78.2312925170068\n",
      "# 17 Decision tree accuracy Score= 75.85034013605441\n",
      "# 18 Decision tree accuracy Score= 77.89115646258503\n",
      "# 19 Decision tree accuracy Score= 76.19047619047619\n",
      "# 20 Decision tree accuracy Score= 78.57142857142857\n",
      "# 21 Decision tree accuracy Score= 78.2312925170068\n",
      "# 22 Decision tree accuracy Score= 78.57142857142857\n",
      "# 23 Decision tree accuracy Score= 77.55102040816327\n",
      "# 24 Decision tree accuracy Score= 77.89115646258503\n",
      "# 25 Decision tree accuracy Score= 77.55102040816327\n",
      "# 26 Decision tree accuracy Score= 80.61224489795919\n",
      "# 27 Decision tree accuracy Score= 78.2312925170068\n",
      "# 28 Decision tree accuracy Score= 75.51020408163265\n",
      "# 29 Decision tree accuracy Score= 75.85034013605441\n",
      "# 30 Decision tree accuracy Score= 76.87074829931973\n",
      "# 31 Decision tree accuracy Score= 77.21088435374149\n",
      "# 32 Decision tree accuracy Score= 78.2312925170068\n",
      "# 33 Decision tree accuracy Score= 79.25170068027211\n",
      "# 34 Decision tree accuracy Score= 79.93197278911565\n",
      "# 35 Decision tree accuracy Score= 76.53061224489795\n",
      "# 36 Decision tree accuracy Score= 77.55102040816327\n",
      "# 37 Decision tree accuracy Score= 78.91156462585033\n",
      "# 38 Decision tree accuracy Score= 76.87074829931973\n",
      "# 39 Decision tree accuracy Score= 78.91156462585033\n",
      "# 40 Decision tree accuracy Score= 77.55102040816327\n",
      "# 41 Decision tree accuracy Score= 77.89115646258503\n",
      "# 42 Decision tree accuracy Score= 79.25170068027211\n",
      "# 43 Decision tree accuracy Score= 78.57142857142857\n",
      "# 44 Decision tree accuracy Score= 79.59183673469387\n",
      "# 45 Decision tree accuracy Score= 78.2312925170068\n",
      "# 46 Decision tree accuracy Score= 77.21088435374149\n",
      "# 47 Decision tree accuracy Score= 80.27210884353741\n",
      "# 48 Decision tree accuracy Score= 76.19047619047619\n",
      "# 49 Decision tree accuracy Score= 77.21088435374149\n",
      "# 50 Decision tree accuracy Score= 77.89115646258503\n",
      "# 51 Decision tree accuracy Score= 78.57142857142857\n",
      "# 52 Decision tree accuracy Score= 78.91156462585033\n",
      "# 53 Decision tree accuracy Score= 78.2312925170068\n",
      "# 54 Decision tree accuracy Score= 78.2312925170068\n",
      "# 55 Decision tree accuracy Score= 77.21088435374149\n",
      "# 56 Decision tree accuracy Score= 78.91156462585033\n",
      "# 57 Decision tree accuracy Score= 79.59183673469387\n",
      "# 58 Decision tree accuracy Score= 77.89115646258503\n",
      "# 59 Decision tree accuracy Score= 78.91156462585033\n",
      "# 60 Decision tree accuracy Score= 79.59183673469387\n",
      "# 61 Decision tree accuracy Score= 79.25170068027211\n",
      "# 62 Decision tree accuracy Score= 79.59183673469387\n",
      "# 63 Decision tree accuracy Score= 77.55102040816327\n",
      "# 64 Decision tree accuracy Score= 78.57142857142857\n",
      "# 65 Decision tree accuracy Score= 78.91156462585033\n",
      "# 66 Decision tree accuracy Score= 77.55102040816327\n",
      "# 67 Decision tree accuracy Score= 76.53061224489795\n",
      "# 68 Decision tree accuracy Score= 77.55102040816327\n",
      "# 69 Decision tree accuracy Score= 78.91156462585033\n",
      "# 70 Decision tree accuracy Score= 78.57142857142857\n",
      "# 71 Decision tree accuracy Score= 77.89115646258503\n",
      "# 72 Decision tree accuracy Score= 76.87074829931973\n",
      "# 73 Decision tree accuracy Score= 78.57142857142857\n",
      "# 74 Decision tree accuracy Score= 75.17006802721087\n",
      "# 75 Decision tree accuracy Score= 79.25170068027211\n",
      "# 76 Decision tree accuracy Score= 79.25170068027211\n",
      "# 77 Decision tree accuracy Score= 79.93197278911565\n",
      "# 78 Decision tree accuracy Score= 79.25170068027211\n",
      "# 79 Decision tree accuracy Score= 77.21088435374149\n",
      "# 80 Decision tree accuracy Score= 77.55102040816327\n",
      "# 81 Decision tree accuracy Score= 78.2312925170068\n",
      "# 82 Decision tree accuracy Score= 77.21088435374149\n",
      "# 83 Decision tree accuracy Score= 78.91156462585033\n",
      "# 84 Decision tree accuracy Score= 79.59183673469387\n",
      "# 85 Decision tree accuracy Score= 78.2312925170068\n",
      "# 86 Decision tree accuracy Score= 79.59183673469387\n",
      "# 87 Decision tree accuracy Score= 78.91156462585033\n",
      "# 88 Decision tree accuracy Score= 77.21088435374149\n",
      "# 89 Decision tree accuracy Score= 76.87074829931973\n",
      "# 90 Decision tree accuracy Score= 77.89115646258503\n",
      "# 91 Decision tree accuracy Score= 78.57142857142857\n",
      "# 92 Decision tree accuracy Score= 79.59183673469387\n",
      "# 93 Decision tree accuracy Score= 78.57142857142857\n",
      "# 94 Decision tree accuracy Score= 76.19047619047619\n",
      "# 95 Decision tree accuracy Score= 78.91156462585033\n",
      "# 96 Decision tree accuracy Score= 78.91156462585033\n",
      "# 97 Decision tree accuracy Score= 76.87074829931973\n",
      "# 98 Decision tree accuracy Score= 78.2312925170068\n",
      "# 99 Decision tree accuracy Score= 77.89115646258503\n"
     ]
    }
   ],
   "source": [
    "asc = dtree(depths=100)"
   ]
  },
  {
   "cell_type": "code",
   "execution_count": 252,
   "id": "032873ac",
   "metadata": {},
   "outputs": [
    {
     "data": {
      "text/plain": [
       "[83.33333333333334,\n",
       " 82.99319727891157,\n",
       " 83.33333333333334,\n",
       " 83.33333333333334,\n",
       " 84.35374149659864,\n",
       " 84.6938775510204,\n",
       " 81.29251700680273,\n",
       " 81.97278911564626,\n",
       " 79.93197278911565,\n",
       " 80.61224489795919,\n",
       " 78.91156462585033,\n",
       " 77.89115646258503,\n",
       " 79.25170068027211,\n",
       " 78.91156462585033,\n",
       " 79.25170068027211,\n",
       " 78.2312925170068,\n",
       " 75.85034013605441,\n",
       " 77.89115646258503,\n",
       " 76.19047619047619,\n",
       " 78.57142857142857,\n",
       " 78.2312925170068,\n",
       " 78.57142857142857,\n",
       " 77.55102040816327,\n",
       " 77.89115646258503,\n",
       " 77.55102040816327,\n",
       " 80.61224489795919,\n",
       " 78.2312925170068,\n",
       " 75.51020408163265,\n",
       " 75.85034013605441,\n",
       " 76.87074829931973,\n",
       " 77.21088435374149,\n",
       " 78.2312925170068,\n",
       " 79.25170068027211,\n",
       " 79.93197278911565,\n",
       " 76.53061224489795,\n",
       " 77.55102040816327,\n",
       " 78.91156462585033,\n",
       " 76.87074829931973,\n",
       " 78.91156462585033,\n",
       " 77.55102040816327,\n",
       " 77.89115646258503,\n",
       " 79.25170068027211,\n",
       " 78.57142857142857,\n",
       " 79.59183673469387,\n",
       " 78.2312925170068,\n",
       " 77.21088435374149,\n",
       " 80.27210884353741,\n",
       " 76.19047619047619,\n",
       " 77.21088435374149,\n",
       " 77.89115646258503,\n",
       " 78.57142857142857,\n",
       " 78.91156462585033,\n",
       " 78.2312925170068,\n",
       " 78.2312925170068,\n",
       " 77.21088435374149,\n",
       " 78.91156462585033,\n",
       " 79.59183673469387,\n",
       " 77.89115646258503,\n",
       " 78.91156462585033,\n",
       " 79.59183673469387,\n",
       " 79.25170068027211,\n",
       " 79.59183673469387,\n",
       " 77.55102040816327,\n",
       " 78.57142857142857,\n",
       " 78.91156462585033,\n",
       " 77.55102040816327,\n",
       " 76.53061224489795,\n",
       " 77.55102040816327,\n",
       " 78.91156462585033,\n",
       " 78.57142857142857,\n",
       " 77.89115646258503,\n",
       " 76.87074829931973,\n",
       " 78.57142857142857,\n",
       " 75.17006802721087,\n",
       " 79.25170068027211,\n",
       " 79.25170068027211,\n",
       " 79.93197278911565,\n",
       " 79.25170068027211,\n",
       " 77.21088435374149,\n",
       " 77.55102040816327,\n",
       " 78.2312925170068,\n",
       " 77.21088435374149,\n",
       " 78.91156462585033,\n",
       " 79.59183673469387,\n",
       " 78.2312925170068,\n",
       " 79.59183673469387,\n",
       " 78.91156462585033,\n",
       " 77.21088435374149,\n",
       " 76.87074829931973,\n",
       " 77.89115646258503,\n",
       " 78.57142857142857,\n",
       " 79.59183673469387,\n",
       " 78.57142857142857,\n",
       " 76.19047619047619,\n",
       " 78.91156462585033,\n",
       " 78.91156462585033,\n",
       " 76.87074829931973,\n",
       " 78.2312925170068,\n",
       " 77.89115646258503]"
      ]
     },
     "execution_count": 252,
     "metadata": {},
     "output_type": "execute_result"
    }
   ],
   "source": [
    "asc['ascore']"
   ]
  },
  {
   "cell_type": "code",
   "execution_count": 253,
   "id": "40e87e27",
   "metadata": {},
   "outputs": [
    {
     "data": {
      "text/plain": [
       "<BarContainer object of 99 artists>"
      ]
     },
     "execution_count": 253,
     "metadata": {},
     "output_type": "execute_result"
    },
    {
     "data": {
      "image/png": "[encoded data removed]",
      "text/plain": [
       "<Figure size 1080x720 with 1 Axes>"
      ]
     },
     "metadata": {
      "needs_background": "light"
     },
     "output_type": "display_data"
    }
   ],
   "source": [
    "fig, ax = plt.subplots(figsize=(15,10))\n",
    "ax.bar(range(1,100), asc['ascore'])"
   ]
  },
  {
   "cell_type": "code",
   "execution_count": 254,
   "id": "c0080475",
   "metadata": {},
   "outputs": [],
   "source": [
    "dectreeclasifier = DecisionTreeClassifier(max_depth=6, criterion='gini')"
   ]
  },
  {
   "cell_type": "code",
   "execution_count": 255,
   "id": "9a7499fa",
   "metadata": {},
   "outputs": [],
   "source": [
    "dectreeclasifier = dectreeclasifier.fit(X_train, y_train)"
   ]
  },
  {
   "cell_type": "code",
   "execution_count": 256,
   "id": "419e0077",
   "metadata": {},
   "outputs": [],
   "source": [
    "y_pred = dectreeclasifier.predict(X_test)"
   ]
  },
  {
   "cell_type": "code",
   "execution_count": 258,
   "id": "6d779ea2",
   "metadata": {},
   "outputs": [
    {
     "data": {
      "text/plain": [
       "84.35374149659864"
      ]
     },
     "execution_count": 258,
     "metadata": {},
     "output_type": "execute_result"
    }
   ],
   "source": [
    "accuracy_score(y_test,y_pred)*100"
   ]
  },
  {
   "cell_type": "code",
   "execution_count": 259,
   "id": "964fe385",
   "metadata": {},
   "outputs": [
    {
     "name": "stdout",
     "output_type": "stream",
     "text": [
      "[[234  11]\n",
      " [ 35  14]]\n"
     ]
    }
   ],
   "source": [
    "cm = confusion_matrix(y_test,y_pred)\n",
    "print(cm)"
   ]
  },
  {
   "cell_type": "code",
   "execution_count": 260,
   "id": "910c9211",
   "metadata": {},
   "outputs": [
    {
     "name": "stdout",
     "output_type": "stream",
     "text": [
      "True Negative:  234\n"
     ]
    }
   ],
   "source": [
    "#Actually 0, but predicted as 0: TN\n",
    "TN = cm[0,0]\n",
    "print(\"True Negative: \",TN)"
   ]
  },
  {
   "cell_type": "code",
   "execution_count": 261,
   "id": "faa601d0",
   "metadata": {},
   "outputs": [
    {
     "name": "stdout",
     "output_type": "stream",
     "text": [
      "False Positive:  11\n"
     ]
    }
   ],
   "source": [
    "#Actually 0, but predicted as 1 : FP\n",
    "FP = cm[0,1]\n",
    "print(\"False Positive: \",FP)"
   ]
  },
  {
   "cell_type": "code",
   "execution_count": 262,
   "id": "9411dad7",
   "metadata": {},
   "outputs": [
    {
     "name": "stdout",
     "output_type": "stream",
     "text": [
      "False Negative:  35\n"
     ]
    }
   ],
   "source": [
    "#Actually 1, but predicted as 0 : FN\n",
    "FN = cm[1,0]\n",
    "print(\"False Negative: \",FN)"
   ]
  },
  {
   "cell_type": "code",
   "execution_count": 263,
   "id": "ac560e7d",
   "metadata": {},
   "outputs": [
    {
     "name": "stdout",
     "output_type": "stream",
     "text": [
      "True Positive:  14\n"
     ]
    }
   ],
   "source": [
    "#Actually 1, but predicted as 1 : TP\n",
    "TP = cm[1,1]\n",
    "print(\"True Positive: \",TP)"
   ]
  },
  {
   "cell_type": "code",
   "execution_count": 264,
   "id": "cffe0786",
   "metadata": {},
   "outputs": [
    {
     "data": {
      "text/plain": [
       "0.8435374149659864"
      ]
     },
     "execution_count": 264,
     "metadata": {},
     "output_type": "execute_result"
    }
   ],
   "source": [
    "#Accuracy = Total Number of correct predictions/Total Number of observations\n",
    "#orAccuracy = (TN+TP)/Total Number of observations\n",
    "n=len(y_test)\n",
    "(TN+TP)/n"
   ]
  },
  {
   "cell_type": "code",
   "execution_count": 265,
   "id": "d722e1d6",
   "metadata": {},
   "outputs": [
    {
     "data": {
      "text/plain": [
       "0.2857142857142857"
      ]
     },
     "execution_count": 265,
     "metadata": {},
     "output_type": "execute_result"
    }
   ],
   "source": [
    "# recall orTPR or Sensitivity : TP/(TP+FN)\n",
    "recall = TP/(TP+FN)\n",
    "recall"
   ]
  },
  {
   "cell_type": "code",
   "execution_count": 266,
   "id": "c6c2e054",
   "metadata": {},
   "outputs": [
    {
     "data": {
      "text/plain": [
       "0.9551020408163265"
      ]
     },
     "execution_count": 266,
     "metadata": {},
     "output_type": "execute_result"
    }
   ],
   "source": [
    "#Specificity : TN/(TN+FP)\n",
    "specificity = TN/(TN+FP)\n",
    "specificity"
   ]
  },
  {
   "cell_type": "code",
   "execution_count": 267,
   "id": "9e265dfd",
   "metadata": {},
   "outputs": [
    {
     "data": {
      "text/plain": [
       "0.04489795918367345"
      ]
     },
     "execution_count": 267,
     "metadata": {},
     "output_type": "execute_result"
    }
   ],
   "source": [
    "#FPR = 1-specificity or FP/(FP+TN)\n",
    "FPR = 1-specificity\n",
    "FPR"
   ]
  },
  {
   "cell_type": "code",
   "execution_count": 268,
   "id": "6760c172",
   "metadata": {},
   "outputs": [
    {
     "data": {
      "text/plain": [
       "0.56"
      ]
     },
     "execution_count": 268,
     "metadata": {},
     "output_type": "execute_result"
    }
   ],
   "source": [
    "precision = TP/(TP+FP)\n",
    "precision"
   ]
  },
  {
   "cell_type": "code",
   "execution_count": 269,
   "id": "c618a8f3",
   "metadata": {},
   "outputs": [],
   "source": [
    "from sklearn.metrics import f1_score,roc_curve,auc"
   ]
  },
  {
   "cell_type": "code",
   "execution_count": 270,
   "id": "814bb949",
   "metadata": {},
   "outputs": [
    {
     "data": {
      "text/plain": [
       "0.37837837837837834"
      ]
     },
     "execution_count": 270,
     "metadata": {},
     "output_type": "execute_result"
    }
   ],
   "source": [
    "f1_score(y_test,y_pred)"
   ]
  },
  {
   "cell_type": "code",
   "execution_count": 271,
   "id": "9669dc41",
   "metadata": {},
   "outputs": [
    {
     "data": {
      "text/plain": [
       "0.37837837837837834"
      ]
     },
     "execution_count": 271,
     "metadata": {},
     "output_type": "execute_result"
    }
   ],
   "source": [
    "(2*precision*recall)/(precision+recall)"
   ]
  },
  {
   "cell_type": "code",
   "execution_count": 286,
   "id": "02287548",
   "metadata": {},
   "outputs": [
    {
     "data": {
      "text/plain": [
       "array([[0.95061728, 0.04938272],\n",
       "       [0.95061728, 0.04938272],\n",
       "       [0.80952381, 0.19047619],\n",
       "       [0.95061728, 0.04938272],\n",
       "       [1.        , 0.        ],\n",
       "       [0.        , 1.        ],\n",
       "       [0.        , 1.        ],\n",
       "       [0.95061728, 0.04938272],\n",
       "       [0.95061728, 0.04938272],\n",
       "       [0.98076923, 0.01923077],\n",
       "       [0.80952381, 0.19047619],\n",
       "       [0.95061728, 0.04938272],\n",
       "       [0.95061728, 0.04938272],\n",
       "       [0.23076923, 0.76923077],\n",
       "       [0.80952381, 0.19047619],\n",
       "       [0.95061728, 0.04938272],\n",
       "       [0.95061728, 0.04938272],\n",
       "       [0.98076923, 0.01923077],\n",
       "       [0.95061728, 0.04938272],\n",
       "       [0.95061728, 0.04938272],\n",
       "       [1.        , 0.        ],\n",
       "       [0.95061728, 0.04938272],\n",
       "       [0.95061728, 0.04938272],\n",
       "       [0.91145833, 0.08854167],\n",
       "       [0.80952381, 0.19047619],\n",
       "       [0.98076923, 0.01923077],\n",
       "       [0.95061728, 0.04938272],\n",
       "       [0.98076923, 0.01923077],\n",
       "       [0.9       , 0.1       ],\n",
       "       [0.91145833, 0.08854167],\n",
       "       [0.95061728, 0.04938272],\n",
       "       [0.95061728, 0.04938272],\n",
       "       [0.76923077, 0.23076923],\n",
       "       [0.98076923, 0.01923077],\n",
       "       [0.98076923, 0.01923077],\n",
       "       [0.95061728, 0.04938272],\n",
       "       [0.95061728, 0.04938272],\n",
       "       [0.95061728, 0.04938272],\n",
       "       [0.95061728, 0.04938272],\n",
       "       [0.91145833, 0.08854167],\n",
       "       [0.95061728, 0.04938272],\n",
       "       [0.95061728, 0.04938272],\n",
       "       [0.95061728, 0.04938272],\n",
       "       [0.95061728, 0.04938272],\n",
       "       [0.95061728, 0.04938272],\n",
       "       [0.9       , 0.1       ],\n",
       "       [0.76923077, 0.23076923],\n",
       "       [0.95061728, 0.04938272],\n",
       "       [1.        , 0.        ],\n",
       "       [0.        , 1.        ],\n",
       "       [0.80952381, 0.19047619],\n",
       "       [0.11111111, 0.88888889],\n",
       "       [0.95061728, 0.04938272],\n",
       "       [0.98076923, 0.01923077],\n",
       "       [0.9       , 0.1       ],\n",
       "       [0.92307692, 0.07692308],\n",
       "       [0.91145833, 0.08854167],\n",
       "       [0.98076923, 0.01923077],\n",
       "       [0.95061728, 0.04938272],\n",
       "       [0.76923077, 0.23076923],\n",
       "       [0.95061728, 0.04938272],\n",
       "       [0.76923077, 0.23076923],\n",
       "       [0.95061728, 0.04938272],\n",
       "       [1.        , 0.        ],\n",
       "       [0.80952381, 0.19047619],\n",
       "       [0.76923077, 0.23076923],\n",
       "       [0.93333333, 0.06666667],\n",
       "       [0.95061728, 0.04938272],\n",
       "       [0.95061728, 0.04938272],\n",
       "       [0.76923077, 0.23076923],\n",
       "       [0.95061728, 0.04938272],\n",
       "       [0.        , 1.        ],\n",
       "       [0.95061728, 0.04938272],\n",
       "       [0.91145833, 0.08854167],\n",
       "       [0.91145833, 0.08854167],\n",
       "       [0.91145833, 0.08854167],\n",
       "       [0.76923077, 0.23076923],\n",
       "       [0.92307692, 0.07692308],\n",
       "       [0.91145833, 0.08854167],\n",
       "       [0.95061728, 0.04938272],\n",
       "       [0.95061728, 0.04938272],\n",
       "       [0.95061728, 0.04938272],\n",
       "       [0.91145833, 0.08854167],\n",
       "       [0.95061728, 0.04938272],\n",
       "       [0.95061728, 0.04938272],\n",
       "       [0.95061728, 0.04938272],\n",
       "       [0.95061728, 0.04938272],\n",
       "       [0.76923077, 0.23076923],\n",
       "       [0.95061728, 0.04938272],\n",
       "       [0.95061728, 0.04938272],\n",
       "       [0.        , 1.        ],\n",
       "       [0.95061728, 0.04938272],\n",
       "       [0.91145833, 0.08854167],\n",
       "       [0.76923077, 0.23076923],\n",
       "       [0.95061728, 0.04938272],\n",
       "       [0.91145833, 0.08854167],\n",
       "       [0.76923077, 0.23076923],\n",
       "       [0.76923077, 0.23076923],\n",
       "       [0.91145833, 0.08854167],\n",
       "       [0.95061728, 0.04938272],\n",
       "       [1.        , 0.        ],\n",
       "       [0.80952381, 0.19047619],\n",
       "       [0.92307692, 0.07692308],\n",
       "       [0.95061728, 0.04938272],\n",
       "       [0.91145833, 0.08854167],\n",
       "       [0.91145833, 0.08854167],\n",
       "       [0.95061728, 0.04938272],\n",
       "       [0.        , 1.        ],\n",
       "       [0.95061728, 0.04938272],\n",
       "       [0.93333333, 0.06666667],\n",
       "       [0.95061728, 0.04938272],\n",
       "       [0.92307692, 0.07692308],\n",
       "       [0.91145833, 0.08854167],\n",
       "       [0.95061728, 0.04938272],\n",
       "       [0.95061728, 0.04938272],\n",
       "       [0.95061728, 0.04938272],\n",
       "       [0.95061728, 0.04938272],\n",
       "       [0.92307692, 0.07692308],\n",
       "       [0.95061728, 0.04938272],\n",
       "       [0.95061728, 0.04938272],\n",
       "       [0.95061728, 0.04938272],\n",
       "       [0.95061728, 0.04938272],\n",
       "       [0.95061728, 0.04938272],\n",
       "       [0.11111111, 0.88888889],\n",
       "       [0.76923077, 0.23076923],\n",
       "       [0.95061728, 0.04938272],\n",
       "       [0.91145833, 0.08854167],\n",
       "       [0.91145833, 0.08854167],\n",
       "       [0.91145833, 0.08854167],\n",
       "       [0.98076923, 0.01923077],\n",
       "       [0.95061728, 0.04938272],\n",
       "       [0.        , 1.        ],\n",
       "       [0.23076923, 0.76923077],\n",
       "       [0.        , 1.        ],\n",
       "       [0.95061728, 0.04938272],\n",
       "       [0.92307692, 0.07692308],\n",
       "       [0.6       , 0.4       ],\n",
       "       [0.95061728, 0.04938272],\n",
       "       [0.76923077, 0.23076923],\n",
       "       [0.98076923, 0.01923077],\n",
       "       [0.98076923, 0.01923077],\n",
       "       [0.93333333, 0.06666667],\n",
       "       [0.95061728, 0.04938272],\n",
       "       [0.98076923, 0.01923077],\n",
       "       [0.93333333, 0.06666667],\n",
       "       [0.95061728, 0.04938272],\n",
       "       [0.98076923, 0.01923077],\n",
       "       [0.95061728, 0.04938272],\n",
       "       [0.98076923, 0.01923077],\n",
       "       [0.76923077, 0.23076923],\n",
       "       [0.95061728, 0.04938272],\n",
       "       [0.80952381, 0.19047619],\n",
       "       [0.91145833, 0.08854167],\n",
       "       [0.92307692, 0.07692308],\n",
       "       [0.95061728, 0.04938272],\n",
       "       [0.95061728, 0.04938272],\n",
       "       [0.95061728, 0.04938272],\n",
       "       [0.91145833, 0.08854167],\n",
       "       [0.95061728, 0.04938272],\n",
       "       [0.95061728, 0.04938272],\n",
       "       [0.        , 1.        ],\n",
       "       [0.95061728, 0.04938272],\n",
       "       [1.        , 0.        ],\n",
       "       [0.        , 1.        ],\n",
       "       [0.98076923, 0.01923077],\n",
       "       [0.92307692, 0.07692308],\n",
       "       [0.98076923, 0.01923077],\n",
       "       [0.95061728, 0.04938272],\n",
       "       [0.91145833, 0.08854167],\n",
       "       [0.95061728, 0.04938272],\n",
       "       [0.95061728, 0.04938272],\n",
       "       [0.95061728, 0.04938272],\n",
       "       [0.98076923, 0.01923077],\n",
       "       [0.91145833, 0.08854167],\n",
       "       [0.95061728, 0.04938272],\n",
       "       [1.        , 0.        ],\n",
       "       [0.98076923, 0.01923077],\n",
       "       [0.33333333, 0.66666667],\n",
       "       [0.76923077, 0.23076923],\n",
       "       [0.98076923, 0.01923077],\n",
       "       [0.91145833, 0.08854167],\n",
       "       [0.98076923, 0.01923077],\n",
       "       [0.91145833, 0.08854167],\n",
       "       [0.        , 1.        ],\n",
       "       [0.95061728, 0.04938272],\n",
       "       [0.95061728, 0.04938272],\n",
       "       [0.76923077, 0.23076923],\n",
       "       [0.95061728, 0.04938272],\n",
       "       [0.80952381, 0.19047619],\n",
       "       [0.91145833, 0.08854167],\n",
       "       [0.77272727, 0.22727273],\n",
       "       [0.        , 1.        ],\n",
       "       [0.80952381, 0.19047619],\n",
       "       [0.91145833, 0.08854167],\n",
       "       [0.91145833, 0.08854167],\n",
       "       [0.98076923, 0.01923077],\n",
       "       [0.95061728, 0.04938272],\n",
       "       [0.95061728, 0.04938272],\n",
       "       [1.        , 0.        ],\n",
       "       [0.95061728, 0.04938272],\n",
       "       [1.        , 0.        ],\n",
       "       [0.76923077, 0.23076923],\n",
       "       [0.76923077, 0.23076923],\n",
       "       [0.91145833, 0.08854167],\n",
       "       [0.95061728, 0.04938272],\n",
       "       [0.95061728, 0.04938272],\n",
       "       [1.        , 0.        ],\n",
       "       [0.95061728, 0.04938272],\n",
       "       [0.95061728, 0.04938272],\n",
       "       [0.95061728, 0.04938272],\n",
       "       [0.95061728, 0.04938272],\n",
       "       [0.95061728, 0.04938272],\n",
       "       [0.95061728, 0.04938272],\n",
       "       [0.76923077, 0.23076923],\n",
       "       [0.95061728, 0.04938272],\n",
       "       [0.91145833, 0.08854167],\n",
       "       [0.95061728, 0.04938272],\n",
       "       [0.59375   , 0.40625   ],\n",
       "       [0.91145833, 0.08854167],\n",
       "       [1.        , 0.        ],\n",
       "       [0.95061728, 0.04938272],\n",
       "       [1.        , 0.        ],\n",
       "       [0.11111111, 0.88888889],\n",
       "       [0.98076923, 0.01923077],\n",
       "       [0.98076923, 0.01923077],\n",
       "       [0.91145833, 0.08854167],\n",
       "       [0.91145833, 0.08854167],\n",
       "       [0.        , 1.        ],\n",
       "       [0.        , 1.        ],\n",
       "       [0.95061728, 0.04938272],\n",
       "       [0.95061728, 0.04938272],\n",
       "       [0.23076923, 0.76923077],\n",
       "       [0.91145833, 0.08854167],\n",
       "       [0.95061728, 0.04938272],\n",
       "       [0.98076923, 0.01923077],\n",
       "       [0.92307692, 0.07692308],\n",
       "       [0.76923077, 0.23076923],\n",
       "       [0.95061728, 0.04938272],\n",
       "       [0.95061728, 0.04938272],\n",
       "       [0.95061728, 0.04938272],\n",
       "       [0.59375   , 0.40625   ],\n",
       "       [0.95061728, 0.04938272],\n",
       "       [0.95061728, 0.04938272],\n",
       "       [0.98076923, 0.01923077],\n",
       "       [0.95061728, 0.04938272],\n",
       "       [0.95061728, 0.04938272],\n",
       "       [0.98076923, 0.01923077],\n",
       "       [0.9       , 0.1       ],\n",
       "       [0.95061728, 0.04938272],\n",
       "       [0.92307692, 0.07692308],\n",
       "       [0.91145833, 0.08854167],\n",
       "       [0.92307692, 0.07692308],\n",
       "       [0.91145833, 0.08854167],\n",
       "       [0.91145833, 0.08854167],\n",
       "       [0.9       , 0.1       ],\n",
       "       [0.91145833, 0.08854167],\n",
       "       [0.80952381, 0.19047619],\n",
       "       [0.11111111, 0.88888889],\n",
       "       [0.91145833, 0.08854167],\n",
       "       [0.95061728, 0.04938272],\n",
       "       [0.92307692, 0.07692308],\n",
       "       [0.95061728, 0.04938272],\n",
       "       [0.80952381, 0.19047619],\n",
       "       [0.91145833, 0.08854167],\n",
       "       [0.95061728, 0.04938272],\n",
       "       [0.76923077, 0.23076923],\n",
       "       [0.95061728, 0.04938272],\n",
       "       [0.        , 1.        ],\n",
       "       [0.98076923, 0.01923077],\n",
       "       [0.91145833, 0.08854167],\n",
       "       [0.95061728, 0.04938272],\n",
       "       [0.95061728, 0.04938272],\n",
       "       [0.91145833, 0.08854167],\n",
       "       [0.95061728, 0.04938272],\n",
       "       [0.95061728, 0.04938272],\n",
       "       [0.95061728, 0.04938272],\n",
       "       [0.95061728, 0.04938272],\n",
       "       [0.9       , 0.1       ],\n",
       "       [0.80952381, 0.19047619],\n",
       "       [0.        , 1.        ],\n",
       "       [0.91145833, 0.08854167],\n",
       "       [0.95061728, 0.04938272],\n",
       "       [0.76923077, 0.23076923],\n",
       "       [0.91145833, 0.08854167],\n",
       "       [0.92307692, 0.07692308],\n",
       "       [0.11111111, 0.88888889],\n",
       "       [0.95061728, 0.04938272],\n",
       "       [0.80952381, 0.19047619],\n",
       "       [0.95061728, 0.04938272],\n",
       "       [0.95061728, 0.04938272],\n",
       "       [0.59375   , 0.40625   ],\n",
       "       [0.98076923, 0.01923077],\n",
       "       [0.91145833, 0.08854167],\n",
       "       [0.98076923, 0.01923077]])"
      ]
     },
     "execution_count": 286,
     "metadata": {},
     "output_type": "execute_result"
    }
   ],
   "source": [
    "prob = dectreeclasifier.predict_proba(X_test)\n",
    "prob"
   ]
  },
  {
   "cell_type": "code",
   "execution_count": 287,
   "id": "f6eabf48",
   "metadata": {},
   "outputs": [],
   "source": [
    "prob_positive = prob[:,1]"
   ]
  },
  {
   "cell_type": "code",
   "execution_count": 288,
   "id": "96d82d2c",
   "metadata": {},
   "outputs": [],
   "source": [
    "fpr, tpr, threshold = roc_curve(y_test,prob_positive)"
   ]
  },
  {
   "cell_type": "code",
   "execution_count": 289,
   "id": "5479f00a",
   "metadata": {},
   "outputs": [
    {
     "data": {
      "text/html": [
       "<div>\n",
       "<style scoped>\n",
       "    .dataframe tbody tr th:only-of-type {\n",
       "        vertical-align: middle;\n",
       "    }\n",
       "\n",
       "    .dataframe tbody tr th {\n",
       "        vertical-align: top;\n",
       "    }\n",
       "\n",
       "    .dataframe thead th {\n",
       "        text-align: right;\n",
       "    }\n",
       "</style>\n",
       "<table border=\"1\" class=\"dataframe\">\n",
       "  <thead>\n",
       "    <tr style=\"text-align: right;\">\n",
       "      <th></th>\n",
       "      <th>threshold</th>\n",
       "      <th>fpr</th>\n",
       "      <th>tpr</th>\n",
       "    </tr>\n",
       "  </thead>\n",
       "  <tbody>\n",
       "    <tr>\n",
       "      <th>0</th>\n",
       "      <td>2.000000</td>\n",
       "      <td>0.000000</td>\n",
       "      <td>0.000000</td>\n",
       "    </tr>\n",
       "    <tr>\n",
       "      <th>1</th>\n",
       "      <td>1.000000</td>\n",
       "      <td>0.028571</td>\n",
       "      <td>0.183673</td>\n",
       "    </tr>\n",
       "    <tr>\n",
       "      <th>2</th>\n",
       "      <td>0.888889</td>\n",
       "      <td>0.036735</td>\n",
       "      <td>0.244898</td>\n",
       "    </tr>\n",
       "    <tr>\n",
       "      <th>3</th>\n",
       "      <td>0.769231</td>\n",
       "      <td>0.040816</td>\n",
       "      <td>0.285714</td>\n",
       "    </tr>\n",
       "    <tr>\n",
       "      <th>4</th>\n",
       "      <td>0.666667</td>\n",
       "      <td>0.044898</td>\n",
       "      <td>0.285714</td>\n",
       "    </tr>\n",
       "  </tbody>\n",
       "</table>\n",
       "</div>"
      ],
      "text/plain": [
       "   threshold       fpr       tpr\n",
       "0   2.000000  0.000000  0.000000\n",
       "1   1.000000  0.028571  0.183673\n",
       "2   0.888889  0.036735  0.244898\n",
       "3   0.769231  0.040816  0.285714\n",
       "4   0.666667  0.044898  0.285714"
      ]
     },
     "execution_count": 289,
     "metadata": {},
     "output_type": "execute_result"
    }
   ],
   "source": [
    "ftt = pd.DataFrame(np.hstack((threshold.reshape(-1,1),fpr.reshape(-1,1),tpr.reshape(-1,1))),columns = ['threshold','fpr','tpr'])\n",
    "ftt.head()"
   ]
  },
  {
   "cell_type": "code",
   "execution_count": 290,
   "id": "515e4963",
   "metadata": {},
   "outputs": [
    {
     "data": {
      "text/plain": [
       "0.614743856726364"
      ]
     },
     "execution_count": 290,
     "metadata": {},
     "output_type": "execute_result"
    }
   ],
   "source": [
    "roc_auc = auc(fpr,tpr)\n",
    "roc_auc"
   ]
  },
  {
   "cell_type": "code",
   "execution_count": 277,
   "id": "cabf1d9b",
   "metadata": {},
   "outputs": [],
   "source": [
    "def compute_auc(test, train_instance):\n",
    "    probs = train_instance.predict_proba(test)\n",
    "    prob_positive = probs[:,1]\n",
    "    fpr, tpr, threshold = roc_curve(y_test,prob_positive)\n",
    "    roc_auc = auc(fpr,tpr)\n",
    "    return roc_auc,fpr,tpr"
   ]
  },
  {
   "cell_type": "code",
   "execution_count": 291,
   "id": "be79907c",
   "metadata": {},
   "outputs": [
    {
     "data": {
      "text/plain": [
       "0.614743856726364"
      ]
     },
     "execution_count": 291,
     "metadata": {},
     "output_type": "execute_result"
    }
   ],
   "source": [
    "roc_auc, fpr, tpr = compute_auc(X_test,dectreeclasifier)\n",
    "roc_auc"
   ]
  },
  {
   "cell_type": "code",
   "execution_count": 279,
   "id": "390d6a36",
   "metadata": {},
   "outputs": [],
   "source": [
    "def plot_ROC(roc,fpr,tpr):\n",
    "    plt.title(\"receiver Operating Charecteristc\")\n",
    "    plt.plot(fpr,tpr,'red',label = 'AUC=%0.2f'% roc)\n",
    "    plt.legend(loc = 'lower right')\n",
    "    plt.plot([0,1],[0,1], color = 'darkblue',linestyle='--')\n",
    "    plt.ylabel('True positive Rate')\n",
    "    plt.xlabel('False positive Rate')\n",
    "    plt.show()"
   ]
  },
  {
   "cell_type": "code",
   "execution_count": 292,
   "id": "50dadacf",
   "metadata": {},
   "outputs": [
    {
     "data": {
      "image/png": "[encoded data removed]",
      "text/plain": [
       "<Figure size 432x288 with 1 Axes>"
      ]
     },
     "metadata": {
      "needs_background": "light"
     },
     "output_type": "display_data"
    }
   ],
   "source": [
    "plot_ROC(roc_auc,fpr,tpr)"
   ]
  },
  {
   "cell_type": "code",
   "execution_count": 281,
   "id": "41894e06",
   "metadata": {},
   "outputs": [],
   "source": [
    "dectreeclasifier2 = DecisionTreeClassifier(max_depth=2, criterion='gini')"
   ]
  },
  {
   "cell_type": "code",
   "execution_count": 282,
   "id": "822a790a",
   "metadata": {},
   "outputs": [],
   "source": [
    "dectreeclasifier2 = dectreeclasifier2.fit(X_test, y_test)"
   ]
  },
  {
   "cell_type": "code",
   "execution_count": 283,
   "id": "21300662",
   "metadata": {},
   "outputs": [],
   "source": [
    "y_pred2 = dectreeclasifier2.predict(X_test)"
   ]
  },
  {
   "cell_type": "code",
   "execution_count": 285,
   "id": "fd350d25",
   "metadata": {},
   "outputs": [
    {
     "data": {
      "text/plain": [
       "85.71428571428571"
      ]
     },
     "execution_count": 285,
     "metadata": {},
     "output_type": "execute_result"
    }
   ],
   "source": [
    "accuracy_score(y_test, y_pred2)*100"
   ]
  },
  {
   "cell_type": "code",
   "execution_count": 293,
   "id": "61bb20b5",
   "metadata": {},
   "outputs": [
    {
     "data": {
      "text/plain": [
       "0.7902540608079966"
      ]
     },
     "execution_count": 293,
     "metadata": {},
     "output_type": "execute_result"
    }
   ],
   "source": [
    "roc_auc, fpr, tpr = compute_auc(X_test,dectreeclasifier2)\n",
    "roc_auc"
   ]
  },
  {
   "cell_type": "code",
   "execution_count": 294,
   "id": "6c114d8e",
   "metadata": {},
   "outputs": [
    {
     "data": {
      "image/png": "[encoded data removed]",
      "text/plain": [
       "<Figure size 432x288 with 1 Axes>"
      ]
     },
     "metadata": {
      "needs_background": "light"
     },
     "output_type": "display_data"
    }
   ],
   "source": [
    "plot_ROC(roc_auc,fpr,tpr)"
   ]
  },
  {
   "cell_type": "markdown",
   "id": "1e0b0ce8",
   "metadata": {},
   "source": [
    "- Employee Attriation (Attrition=0 or 1). From the confusion matrix we have TN = 234, FP = 11, FN = 35, TP = 14\n",
    "- Here we are trying to minimise false negative"
   ]
  },
  {
   "attachments": {
    "C13314_06_05.jpeg": {
     "image/jpeg": "[encoded data removed]"
    }
   },
   "cell_type": "markdown",
   "id": "30400b18",
   "metadata": {},
   "source": [
    "![C13314_06_05.jpeg](attachment:C13314_06_05.jpeg)"
   ]
  },
  {
   "cell_type": "code",
   "execution_count": 300,
   "id": "2a562c22",
   "metadata": {},
   "outputs": [
    {
     "name": "stdout",
     "output_type": "stream",
     "text": [
      "[[234  11]\n",
      " [ 35  14]]\n"
     ]
    }
   ],
   "source": [
    "cm = confusion_matrix(y_test,y_pred)\n",
    "print(cm)"
   ]
  },
  {
   "cell_type": "code",
   "execution_count": 298,
   "id": "856524b1",
   "metadata": {},
   "outputs": [
    {
     "data": {
      "text/plain": [
       "0.044897959183673466"
      ]
     },
     "execution_count": 298,
     "metadata": {},
     "output_type": "execute_result"
    }
   ],
   "source": [
    "FPR2 = FP/(TN+FP)\n",
    "FPR2"
   ]
  },
  {
   "cell_type": "code",
   "execution_count": 302,
   "id": "9cced208",
   "metadata": {},
   "outputs": [
    {
     "data": {
      "text/plain": [
       "0.2857142857142857"
      ]
     },
     "execution_count": 302,
     "metadata": {},
     "output_type": "execute_result"
    }
   ],
   "source": [
    "TPR2 = TP/(FN+TP)\n",
    "TPR2"
   ]
  },
  {
   "cell_type": "code",
   "execution_count": null,
   "id": "564199da",
   "metadata": {},
   "outputs": [],
   "source": []
  }
 ],
 "metadata": {
  "kernelspec": {
   "display_name": "Python 3 (ipykernel)",
   "language": "python",
   "name": "python3"
  },
  "language_info": {
   "codemirror_mode": {
    "name": "ipython",
    "version": 3
   },
   "file_extension": ".py",
   "mimetype": "text/x-python",
   "name": "python",
   "nbconvert_exporter": "python",
   "pygments_lexer": "ipython3",
   "version": "3.8.8"
  }
 },
 "nbformat": 4,
 "nbformat_minor": 5
}
