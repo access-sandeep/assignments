{
 "cells": [
  {
   "cell_type": "markdown",
   "id": "df4d778b",
   "metadata": {},
   "source": [
    "**Write TensorFlow program  to  create a Binary image classifier for the given data to classify images to  indoor and outdoor images. Use Keras API to create the multilayer neural network model.**  \n",
    "\n",
    "\n",
    "\n",
    "**Try out various configurations for the model and number of epochs for training and submit the code with the best possible accuracy.**  \n",
    "\n",
    "\n",
    "\n",
    "**Submit only the jupyter notebook.**  \n",
    "\n",
    " \n",
    "\n",
    "**Data set :**\n",
    "\n",
    "- Downloaded images from google\n",
    "- Indoor photos – 250 , outdoor photos- 300"
   ]
  },
  {
   "cell_type": "code",
   "execution_count": 1,
   "id": "176875ee",
   "metadata": {},
   "outputs": [],
   "source": [
    "import tensorflow as tf"
   ]
  },
  {
   "cell_type": "code",
   "execution_count": 2,
   "id": "9393b0f5",
   "metadata": {},
   "outputs": [],
   "source": [
    "from tensorflow.keras.applications.vgg16 import VGG16"
   ]
  },
  {
   "cell_type": "code",
   "execution_count": 3,
   "id": "e8604d4b",
   "metadata": {},
   "outputs": [
    {
     "data": {
      "text/plain": [
       "'2.6.0'"
      ]
     },
     "execution_count": 3,
     "metadata": {},
     "output_type": "execute_result"
    }
   ],
   "source": [
    "tf.__version__"
   ]
  },
  {
   "cell_type": "code",
   "execution_count": 4,
   "id": "098011e6",
   "metadata": {},
   "outputs": [],
   "source": [
    "from tensorflow.keras.preprocessing.image import ImageDataGenerator"
   ]
  },
  {
   "cell_type": "code",
   "execution_count": 5,
   "id": "f3177a53",
   "metadata": {},
   "outputs": [],
   "source": [
    "train_datagen = ImageDataGenerator(rotation_range=30, shear_range=0.2, width_shift_range=2, zoom_range=0.3, \n",
    "                            vertical_flip=True, rescale=1./255)"
   ]
  },
  {
   "cell_type": "code",
   "execution_count": 6,
   "id": "01f20b65",
   "metadata": {},
   "outputs": [],
   "source": [
    "test_datagen = ImageDataGenerator(rescale=1./255)"
   ]
  },
  {
   "cell_type": "code",
   "execution_count": 7,
   "id": "484cf1b6",
   "metadata": {},
   "outputs": [
    {
     "name": "stdout",
     "output_type": "stream",
     "text": [
      "\u001b[34mtest\u001b[m\u001b[m       \u001b[34mtrain\u001b[m\u001b[m      \u001b[34mvalidation\u001b[m\u001b[m\r\n"
     ]
    }
   ],
   "source": [
    "!ls Photographs"
   ]
  },
  {
   "cell_type": "code",
   "execution_count": 8,
   "id": "5e95acc0",
   "metadata": {},
   "outputs": [
    {
     "name": "stdout",
     "output_type": "stream",
     "text": [
      "Found 400 images belonging to 2 classes.\n",
      "Found 50 images belonging to 2 classes.\n"
     ]
    }
   ],
   "source": [
    "train_generator = train_datagen.flow_from_directory(\n",
    "        'Photographs/train',\n",
    "        target_size=(64, 64),\n",
    "        batch_size=32,\n",
    "        class_mode='binary')\n",
    "\n",
    "validation_generator = test_datagen.flow_from_directory(\n",
    "        'Photographs/validation',\n",
    "        target_size=(64, 64),\n",
    "        batch_size=32,\n",
    "        class_mode='binary')"
   ]
  },
  {
   "cell_type": "markdown",
   "id": "2b48922e",
   "metadata": {},
   "source": [
    "Show the first nine images and labels from the training set:"
   ]
  },
  {
   "cell_type": "code",
   "execution_count": 37,
   "id": "307b720a",
   "metadata": {},
   "outputs": [
    {
     "data": {
      "text/plain": [
       "{'indoor': 0, 'outdoor': 1}"
      ]
     },
     "execution_count": 37,
     "metadata": {},
     "output_type": "execute_result"
    }
   ],
   "source": [
    "train_generator.class_indices"
   ]
  },
  {
   "cell_type": "code",
   "execution_count": 9,
   "id": "d7336dd9",
   "metadata": {},
   "outputs": [],
   "source": [
    "from tensorflow.keras.models import Sequential\n",
    "from tensorflow.keras.layers import Activation, Dropout, Flatten, Dense,Conv2D,MaxPooling2D"
   ]
  },
  {
   "cell_type": "code",
   "execution_count": 10,
   "id": "14283f8b",
   "metadata": {},
   "outputs": [
    {
     "name": "stderr",
     "output_type": "stream",
     "text": [
      "2022-01-26 18:17:48.818619: I tensorflow/core/platform/cpu_feature_guard.cc:142] This TensorFlow binary is optimized with oneAPI Deep Neural Network Library (oneDNN) to use the following CPU instructions in performance-critical operations:  AVX2 FMA\n",
      "To enable them in other operations, rebuild TensorFlow with the appropriate compiler flags.\n"
     ]
    }
   ],
   "source": [
    "## Initialising the CNN\n",
    "classifier = Sequential()"
   ]
  },
  {
   "cell_type": "code",
   "execution_count": 57,
   "id": "43e17f21",
   "metadata": {},
   "outputs": [],
   "source": [
    "base_model = VGG16(\n",
    "    include_top=False,\n",
    "    weights=\"imagenet\",\n",
    "    input_tensor=None,\n",
    "    input_shape=(64,64,3),\n",
    "    pooling=None,\n",
    "    classes=2,\n",
    "    classifier_activation=\"relu\",\n",
    ")"
   ]
  },
  {
   "cell_type": "code",
   "execution_count": 12,
   "id": "b71e27a0",
   "metadata": {},
   "outputs": [],
   "source": [
    "base_model.trainable = False"
   ]
  },
  {
   "cell_type": "code",
   "execution_count": 13,
   "id": "95956fc9",
   "metadata": {},
   "outputs": [
    {
     "name": "stdout",
     "output_type": "stream",
     "text": [
      "Model: \"vgg16\"\n",
      "_________________________________________________________________\n",
      "Layer (type)                 Output Shape              Param #   \n",
      "=================================================================\n",
      "input_1 (InputLayer)         [(None, 64, 64, 3)]       0         \n",
      "_________________________________________________________________\n",
      "block1_conv1 (Conv2D)        (None, 64, 64, 64)        1792      \n",
      "_________________________________________________________________\n",
      "block1_conv2 (Conv2D)        (None, 64, 64, 64)        36928     \n",
      "_________________________________________________________________\n",
      "block1_pool (MaxPooling2D)   (None, 32, 32, 64)        0         \n",
      "_________________________________________________________________\n",
      "block2_conv1 (Conv2D)        (None, 32, 32, 128)       73856     \n",
      "_________________________________________________________________\n",
      "block2_conv2 (Conv2D)        (None, 32, 32, 128)       147584    \n",
      "_________________________________________________________________\n",
      "block2_pool (MaxPooling2D)   (None, 16, 16, 128)       0         \n",
      "_________________________________________________________________\n",
      "block3_conv1 (Conv2D)        (None, 16, 16, 256)       295168    \n",
      "_________________________________________________________________\n",
      "block3_conv2 (Conv2D)        (None, 16, 16, 256)       590080    \n",
      "_________________________________________________________________\n",
      "block3_conv3 (Conv2D)        (None, 16, 16, 256)       590080    \n",
      "_________________________________________________________________\n",
      "block3_pool (MaxPooling2D)   (None, 8, 8, 256)         0         \n",
      "_________________________________________________________________\n",
      "block4_conv1 (Conv2D)        (None, 8, 8, 512)         1180160   \n",
      "_________________________________________________________________\n",
      "block4_conv2 (Conv2D)        (None, 8, 8, 512)         2359808   \n",
      "_________________________________________________________________\n",
      "block4_conv3 (Conv2D)        (None, 8, 8, 512)         2359808   \n",
      "_________________________________________________________________\n",
      "block4_pool (MaxPooling2D)   (None, 4, 4, 512)         0         \n",
      "_________________________________________________________________\n",
      "block5_conv1 (Conv2D)        (None, 4, 4, 512)         2359808   \n",
      "_________________________________________________________________\n",
      "block5_conv2 (Conv2D)        (None, 4, 4, 512)         2359808   \n",
      "_________________________________________________________________\n",
      "block5_conv3 (Conv2D)        (None, 4, 4, 512)         2359808   \n",
      "_________________________________________________________________\n",
      "block5_pool (MaxPooling2D)   (None, 2, 2, 512)         0         \n",
      "=================================================================\n",
      "Total params: 14,714,688\n",
      "Trainable params: 0\n",
      "Non-trainable params: 14,714,688\n",
      "_________________________________________________________________\n"
     ]
    }
   ],
   "source": [
    "base_model.summary()"
   ]
  },
  {
   "cell_type": "code",
   "execution_count": 14,
   "id": "107d4eb9",
   "metadata": {},
   "outputs": [],
   "source": [
    "classifier = Sequential(\n",
    "    base_model\n",
    ")\n",
    "\n",
    "classifier.add(Flatten())\n",
    "classifier.add(Dense(128, activation = 'relu'))\n",
    "classifier.add(Dense(256, activation = 'relu'))\n",
    "classifier.add(Dense(64, activation = 'relu'))\n",
    "classifier.add(Dense(1, activation = 'sigmoid'))"
   ]
  },
  {
   "cell_type": "code",
   "execution_count": 15,
   "id": "96fc01f7",
   "metadata": {},
   "outputs": [
    {
     "name": "stdout",
     "output_type": "stream",
     "text": [
      "Model: \"sequential_1\"\n",
      "_________________________________________________________________\n",
      "Layer (type)                 Output Shape              Param #   \n",
      "=================================================================\n",
      "vgg16 (Functional)           (None, 2, 2, 512)         14714688  \n",
      "_________________________________________________________________\n",
      "flatten (Flatten)            (None, 2048)              0         \n",
      "_________________________________________________________________\n",
      "dense (Dense)                (None, 128)               262272    \n",
      "_________________________________________________________________\n",
      "dense_1 (Dense)              (None, 256)               33024     \n",
      "_________________________________________________________________\n",
      "dense_2 (Dense)              (None, 64)                16448     \n",
      "_________________________________________________________________\n",
      "dense_3 (Dense)              (None, 1)                 65        \n",
      "=================================================================\n",
      "Total params: 15,026,497\n",
      "Trainable params: 311,809\n",
      "Non-trainable params: 14,714,688\n",
      "_________________________________________________________________\n"
     ]
    }
   ],
   "source": [
    "classifier.summary()"
   ]
  },
  {
   "cell_type": "code",
   "execution_count": 16,
   "id": "c69a828b",
   "metadata": {},
   "outputs": [
    {
     "data": {
      "text/plain": [
       "{'indoor': 0, 'outdoor': 1}"
      ]
     },
     "execution_count": 16,
     "metadata": {},
     "output_type": "execute_result"
    }
   ],
   "source": [
    "train_generator.class_indices"
   ]
  },
  {
   "cell_type": "code",
   "execution_count": 17,
   "id": "9f886786",
   "metadata": {},
   "outputs": [],
   "source": [
    "base_learning_rate = 0.0001"
   ]
  },
  {
   "cell_type": "code",
   "execution_count": 18,
   "id": "f600c336",
   "metadata": {},
   "outputs": [],
   "source": [
    "import math"
   ]
  },
  {
   "cell_type": "code",
   "execution_count": 19,
   "id": "524440f9",
   "metadata": {},
   "outputs": [],
   "source": [
    "classifier.compile(\n",
    "    optimizer=tf.keras.optimizers.Adam(learning_rate=base_learning_rate),\n",
    "    loss=tf.keras.losses.BinaryCrossentropy(), \n",
    "    metrics=['accuracy'])"
   ]
  },
  {
   "cell_type": "code",
   "execution_count": 20,
   "id": "9b2eb74d",
   "metadata": {},
   "outputs": [],
   "source": [
    "def scheduler(epoch, lr):\n",
    "    if epoch < 10:\n",
    "        return lr\n",
    "    else:\n",
    "        return lr * math.exp(-0.1)"
   ]
  },
  {
   "cell_type": "code",
   "execution_count": 21,
   "id": "e6e8b535",
   "metadata": {},
   "outputs": [
    {
     "name": "stderr",
     "output_type": "stream",
     "text": [
      "2022-01-26 18:17:51.050325: I tensorflow/compiler/mlir/mlir_graph_optimization_pass.cc:185] None of the MLIR Optimization Passes are enabled (registered 2)\n"
     ]
    },
    {
     "name": "stdout",
     "output_type": "stream",
     "text": [
      "Epoch 1/30\n",
      "13/13 [==============================] - 18s 1s/step - loss: 0.6202 - accuracy: 0.7650 - val_loss: 0.5374 - val_accuracy: 0.9200\n",
      "Epoch 2/30\n",
      "13/13 [==============================] - 14s 1s/step - loss: 0.4870 - accuracy: 0.8700 - val_loss: 0.4024 - val_accuracy: 0.9200\n",
      "Epoch 3/30\n",
      "13/13 [==============================] - 16s 1s/step - loss: 0.3632 - accuracy: 0.9025 - val_loss: 0.2939 - val_accuracy: 0.9400\n",
      "Epoch 4/30\n",
      "13/13 [==============================] - 15s 1s/step - loss: 0.2719 - accuracy: 0.9200 - val_loss: 0.2103 - val_accuracy: 0.9200\n",
      "Epoch 5/30\n",
      "13/13 [==============================] - 20s 2s/step - loss: 0.2093 - accuracy: 0.9400 - val_loss: 0.1630 - val_accuracy: 0.9400\n",
      "Epoch 6/30\n",
      "13/13 [==============================] - 34s 3s/step - loss: 0.1864 - accuracy: 0.9375 - val_loss: 0.1326 - val_accuracy: 0.9600\n",
      "Epoch 7/30\n",
      "13/13 [==============================] - 24s 2s/step - loss: 0.1892 - accuracy: 0.9300 - val_loss: 0.1082 - val_accuracy: 0.9400\n",
      "Epoch 8/30\n",
      "13/13 [==============================] - 32s 2s/step - loss: 0.1686 - accuracy: 0.9375 - val_loss: 0.0985 - val_accuracy: 0.9600\n",
      "Epoch 9/30\n",
      "13/13 [==============================] - 25s 2s/step - loss: 0.1426 - accuracy: 0.9400 - val_loss: 0.0896 - val_accuracy: 0.9800\n",
      "Epoch 10/30\n",
      "13/13 [==============================] - 32s 2s/step - loss: 0.1398 - accuracy: 0.9350 - val_loss: 0.0835 - val_accuracy: 0.9800\n",
      "Epoch 11/30\n",
      "13/13 [==============================] - 23s 2s/step - loss: 0.1198 - accuracy: 0.9575 - val_loss: 0.0817 - val_accuracy: 0.9800\n",
      "Epoch 12/30\n",
      "13/13 [==============================] - 30s 2s/step - loss: 0.1397 - accuracy: 0.9475 - val_loss: 0.0805 - val_accuracy: 0.9800\n",
      "Epoch 13/30\n",
      "13/13 [==============================] - 30s 2s/step - loss: 0.1161 - accuracy: 0.9600 - val_loss: 0.0769 - val_accuracy: 0.9800\n",
      "Epoch 14/30\n",
      "13/13 [==============================] - 26s 2s/step - loss: 0.1066 - accuracy: 0.9650 - val_loss: 0.0716 - val_accuracy: 0.9800\n",
      "Epoch 15/30\n",
      "13/13 [==============================] - 30s 2s/step - loss: 0.0964 - accuracy: 0.9725 - val_loss: 0.0672 - val_accuracy: 0.9800\n",
      "Epoch 16/30\n",
      "13/13 [==============================] - 31s 2s/step - loss: 0.0759 - accuracy: 0.9750 - val_loss: 0.0672 - val_accuracy: 0.9800\n",
      "Epoch 17/30\n",
      "13/13 [==============================] - 28s 2s/step - loss: 0.1283 - accuracy: 0.9525 - val_loss: 0.0657 - val_accuracy: 0.9800\n",
      "Epoch 18/30\n",
      "13/13 [==============================] - 30s 2s/step - loss: 0.0968 - accuracy: 0.9750 - val_loss: 0.0665 - val_accuracy: 0.9800\n",
      "Epoch 19/30\n",
      "13/13 [==============================] - 23s 2s/step - loss: 0.0926 - accuracy: 0.9650 - val_loss: 0.0705 - val_accuracy: 0.9800\n",
      "Epoch 20/30\n",
      "13/13 [==============================] - 24s 2s/step - loss: 0.0921 - accuracy: 0.9675 - val_loss: 0.0668 - val_accuracy: 0.9800\n",
      "Epoch 21/30\n",
      "13/13 [==============================] - 26s 2s/step - loss: 0.0939 - accuracy: 0.9550 - val_loss: 0.0634 - val_accuracy: 0.9800\n",
      "Epoch 22/30\n",
      "13/13 [==============================] - 38s 3s/step - loss: 0.1095 - accuracy: 0.9600 - val_loss: 0.0707 - val_accuracy: 0.9800\n",
      "Epoch 23/30\n",
      "13/13 [==============================] - 33s 3s/step - loss: 0.0842 - accuracy: 0.9750 - val_loss: 0.0710 - val_accuracy: 0.9800\n",
      "Epoch 24/30\n",
      "13/13 [==============================] - 20s 2s/step - loss: 0.0815 - accuracy: 0.9675 - val_loss: 0.0643 - val_accuracy: 0.9800\n",
      "Epoch 25/30\n",
      "13/13 [==============================] - 23s 2s/step - loss: 0.0858 - accuracy: 0.9650 - val_loss: 0.0614 - val_accuracy: 0.9800\n",
      "Epoch 26/30\n",
      "13/13 [==============================] - 25s 2s/step - loss: 0.0721 - accuracy: 0.9725 - val_loss: 0.0638 - val_accuracy: 0.9800\n",
      "Epoch 27/30\n",
      "13/13 [==============================] - 25s 2s/step - loss: 0.1156 - accuracy: 0.9650 - val_loss: 0.0659 - val_accuracy: 0.9800\n",
      "Epoch 28/30\n",
      "13/13 [==============================] - 24s 2s/step - loss: 0.0892 - accuracy: 0.9800 - val_loss: 0.0617 - val_accuracy: 0.9800\n",
      "Epoch 29/30\n",
      "13/13 [==============================] - 25s 2s/step - loss: 0.0989 - accuracy: 0.9600 - val_loss: 0.0615 - val_accuracy: 0.9800\n",
      "Epoch 30/30\n",
      "13/13 [==============================] - 25s 2s/step - loss: 0.0902 - accuracy: 0.9625 - val_loss: 0.0617 - val_accuracy: 0.9800\n"
     ]
    },
    {
     "data": {
      "text/plain": [
       "<keras.callbacks.History at 0x7f8a9efa8f70>"
      ]
     },
     "execution_count": 21,
     "metadata": {},
     "output_type": "execute_result"
    }
   ],
   "source": [
    "## fitting model to images\n",
    "history = classifier.fit(train_generator,epochs=30,validation_data=validation_generator, \n",
    "               callbacks=[tf.keras.callbacks.LearningRateScheduler(scheduler)])"
   ]
  },
  {
   "cell_type": "code",
   "execution_count": 22,
   "id": "f56e6b42",
   "metadata": {},
   "outputs": [],
   "source": [
    "from tensorflow.keras.preprocessing import image"
   ]
  },
  {
   "cell_type": "code",
   "execution_count": 23,
   "id": "70f950cd",
   "metadata": {},
   "outputs": [],
   "source": [
    "image_name = 'outdoor/5ce408eb2218f357aefad979.w800.jpg'"
   ]
  },
  {
   "cell_type": "code",
   "execution_count": 24,
   "id": "cc9a69c7",
   "metadata": {},
   "outputs": [],
   "source": [
    "## prediction of single new data\n",
    "\n",
    "test_image = image.load_img('Photographs/test/'+image_name ,target_size =(64,64))"
   ]
  },
  {
   "cell_type": "code",
   "execution_count": 25,
   "id": "ebcfb941",
   "metadata": {},
   "outputs": [
    {
     "data": {
      "image/png": "[encoded data removed]",
      "text/plain": [
       "<PIL.Image.Image image mode=RGB size=64x64 at 0x7F8A5B4EAA00>"
      ]
     },
     "execution_count": 25,
     "metadata": {},
     "output_type": "execute_result"
    }
   ],
   "source": [
    "test_image"
   ]
  },
  {
   "cell_type": "code",
   "execution_count": 26,
   "id": "eacad087",
   "metadata": {},
   "outputs": [],
   "source": [
    "## Convert image to array\n",
    "test_image = image.img_to_array(test_image)"
   ]
  },
  {
   "cell_type": "code",
   "execution_count": 27,
   "id": "a167d9a7",
   "metadata": {},
   "outputs": [
    {
     "data": {
      "text/plain": [
       "array([[[124., 123., 119.],\n",
       "        [197., 199., 194.],\n",
       "        [228., 224., 215.],\n",
       "        ...,\n",
       "        [229., 231., 228.],\n",
       "        [229., 231., 228.],\n",
       "        [228., 229., 224.]],\n",
       "\n",
       "       [[ 89.,  88.,  68.],\n",
       "        [230., 231., 213.],\n",
       "        [ 15.,  17.,   3.],\n",
       "        ...,\n",
       "        [234., 233., 228.],\n",
       "        [230., 231., 226.],\n",
       "        [229., 229., 227.]],\n",
       "\n",
       "       [[174., 178., 145.],\n",
       "        [199., 200., 184.],\n",
       "        [ 62.,  63.,  49.],\n",
       "        ...,\n",
       "        [232., 231., 227.],\n",
       "        [229., 229., 227.],\n",
       "        [228., 228., 228.]],\n",
       "\n",
       "       ...,\n",
       "\n",
       "       [[127., 121., 123.],\n",
       "        [ 83.,  79.,  68.],\n",
       "        [188., 170., 170.],\n",
       "        ...,\n",
       "        [157., 138., 132.],\n",
       "        [126., 115., 109.],\n",
       "        [163., 149., 149.]],\n",
       "\n",
       "       [[136., 120., 107.],\n",
       "        [131., 117., 117.],\n",
       "        [ 90.,  71.,  54.],\n",
       "        ...,\n",
       "        [222., 208., 199.],\n",
       "        [169., 159., 158.],\n",
       "        [169., 164., 161.]],\n",
       "\n",
       "       [[231., 220., 198.],\n",
       "        [227., 214., 205.],\n",
       "        [244., 232., 220.],\n",
       "        ...,\n",
       "        [ 90.,  88.,  91.],\n",
       "        [115., 124., 141.],\n",
       "        [ 99., 102., 117.]]], dtype=float32)"
      ]
     },
     "execution_count": 27,
     "metadata": {},
     "output_type": "execute_result"
    }
   ],
   "source": [
    "test_image"
   ]
  },
  {
   "cell_type": "code",
   "execution_count": 28,
   "id": "35c59e3c",
   "metadata": {},
   "outputs": [],
   "source": [
    "## For single prediction change the dimension . \n",
    "\n",
    "test_image=test_image.reshape(1,64,64,3)"
   ]
  },
  {
   "cell_type": "code",
   "execution_count": 29,
   "id": "4a22804f",
   "metadata": {},
   "outputs": [],
   "source": [
    "result = classifier.predict(test_image)"
   ]
  },
  {
   "cell_type": "code",
   "execution_count": 30,
   "id": "9539f7ca",
   "metadata": {},
   "outputs": [
    {
     "data": {
      "application/javascript": [
       "\n",
       "        if (window._pyforest_update_imports_cell) { window._pyforest_update_imports_cell('import numpy as np'); }\n",
       "    "
      ],
      "text/plain": [
       "<IPython.core.display.Javascript object>"
      ]
     },
     "metadata": {},
     "output_type": "display_data"
    }
   ],
   "source": [
    "result=np.around(result)"
   ]
  },
  {
   "cell_type": "code",
   "execution_count": 31,
   "id": "34cebbf6",
   "metadata": {},
   "outputs": [
    {
     "data": {
      "text/plain": [
       "array([[1.]], dtype=float32)"
      ]
     },
     "execution_count": 31,
     "metadata": {},
     "output_type": "execute_result"
    }
   ],
   "source": [
    "result"
   ]
  },
  {
   "cell_type": "code",
   "execution_count": 32,
   "id": "a6742bb8",
   "metadata": {},
   "outputs": [],
   "source": [
    "## Class label of indoor and outdoor\n",
    "if result == 1:\n",
    "    prediction = 'This is an outdoor scene'\n",
    "else:\n",
    "    prediction = 'This is an indoor scene'"
   ]
  },
  {
   "cell_type": "code",
   "execution_count": 33,
   "id": "83031551",
   "metadata": {},
   "outputs": [
    {
     "data": {
      "text/plain": [
       "'This is an outdoor scene'"
      ]
     },
     "execution_count": 33,
     "metadata": {},
     "output_type": "execute_result"
    }
   ],
   "source": [
    "prediction"
   ]
  },
  {
   "cell_type": "code",
   "execution_count": null,
   "id": "9d3902f4",
   "metadata": {},
   "outputs": [],
   "source": [
    "acc = history.history['accuracy']\n",
    "val_acc = history.history['val_accuracy']\n",
    "\n",
    "loss = history.history['loss']\n",
    "val_loss = history.history['val_loss']\n",
    "\n",
    "plt.figure(figsize=(8, 8))\n",
    "plt.subplot(2, 1, 1)\n",
    "plt.plot(acc, label='Training Accuracy')\n",
    "plt.plot(val_acc, label='Validation Accuracy')\n",
    "plt.legend(loc='lower right')\n",
    "plt.ylabel('Accuracy')\n",
    "plt.ylim([min(plt.ylim()),1])\n",
    "plt.title('Training and Validation Accuracy')\n",
    "\n",
    "plt.subplot(2, 1, 2)\n",
    "plt.plot(loss, label='Training Loss')\n",
    "plt.plot(val_loss, label='Validation Loss')\n",
    "plt.legend(loc='upper right')\n",
    "plt.ylabel('Cross Entropy')\n",
    "plt.ylim([0,1.0])\n",
    "plt.title('Training and Validation Loss')\n",
    "plt.xlabel('epoch')\n",
    "plt.show()"
   ]
  }
 ],
 "metadata": {
  "kernelspec": {
   "display_name": "Python 3 (ipykernel)",
   "language": "python",
   "name": "python3"
  },
  "language_info": {
   "codemirror_mode": {
    "name": "ipython",
    "version": 3
   },
   "file_extension": ".py",
   "mimetype": "text/x-python",
   "name": "python",
   "nbconvert_exporter": "python",
   "pygments_lexer": "ipython3",
   "version": "3.8.8"
  }
 },
 "nbformat": 4,
 "nbformat_minor": 5
}
