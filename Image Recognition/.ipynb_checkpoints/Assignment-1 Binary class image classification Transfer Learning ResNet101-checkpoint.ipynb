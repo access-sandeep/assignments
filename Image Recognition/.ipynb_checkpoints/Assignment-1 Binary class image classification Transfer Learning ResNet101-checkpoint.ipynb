{
 "cells": [
  {
   "cell_type": "markdown",
   "id": "df4d778b",
   "metadata": {},
   "source": [
    "**Write TensorFlow program  to  create a Binary image classifier for the given data to classify images to  indoor and outdoor images. Use Keras API to create the multilayer neural network model.**  \n",
    "\n",
    "\n",
    "\n",
    "**Try out various configurations for the model and number of epochs for training and submit the code with the best possible accuracy.**  \n",
    "\n",
    "\n",
    "\n",
    "**Submit only the jupyter notebook.**  \n",
    "\n",
    " \n",
    "\n",
    "**Data set :**\n",
    "\n",
    "- Downloaded images from google\n",
    "- Indoor photos – 250 , outdoor photos- 300"
   ]
  },
  {
   "cell_type": "code",
   "execution_count": 1,
   "id": "176875ee",
   "metadata": {},
   "outputs": [],
   "source": [
    "import tensorflow as tf"
   ]
  },
  {
   "cell_type": "code",
   "execution_count": 2,
   "id": "7a0c643d",
   "metadata": {},
   "outputs": [],
   "source": [
    "from tensorflow.keras.applications.resnet import ResNet101"
   ]
  },
  {
   "cell_type": "code",
   "execution_count": 3,
   "id": "e8604d4b",
   "metadata": {},
   "outputs": [
    {
     "data": {
      "text/plain": [
       "'2.6.0'"
      ]
     },
     "execution_count": 3,
     "metadata": {},
     "output_type": "execute_result"
    }
   ],
   "source": [
    "tf.__version__"
   ]
  },
  {
   "cell_type": "code",
   "execution_count": 4,
   "id": "098011e6",
   "metadata": {},
   "outputs": [],
   "source": [
    "from tensorflow.keras.preprocessing.image import ImageDataGenerator"
   ]
  },
  {
   "cell_type": "code",
   "execution_count": 5,
   "id": "f3177a53",
   "metadata": {},
   "outputs": [],
   "source": [
    "train_datagen = ImageDataGenerator(rotation_range=30, shear_range=0.2, width_shift_range=2, zoom_range=0.3, \n",
    "                            vertical_flip=True, rescale=1./255)"
   ]
  },
  {
   "cell_type": "code",
   "execution_count": 6,
   "id": "01f20b65",
   "metadata": {},
   "outputs": [],
   "source": [
    "test_datagen = ImageDataGenerator(rescale=1./255)"
   ]
  },
  {
   "cell_type": "code",
   "execution_count": 7,
   "id": "484cf1b6",
   "metadata": {},
   "outputs": [
    {
     "name": "stdout",
     "output_type": "stream",
     "text": [
      "\u001b[34mtest\u001b[m\u001b[m       \u001b[34mtrain\u001b[m\u001b[m      \u001b[34mvalidation\u001b[m\u001b[m\r\n"
     ]
    }
   ],
   "source": [
    "!ls Photographs"
   ]
  },
  {
   "cell_type": "code",
   "execution_count": 8,
   "id": "5e95acc0",
   "metadata": {},
   "outputs": [
    {
     "name": "stdout",
     "output_type": "stream",
     "text": [
      "Found 400 images belonging to 2 classes.\n",
      "Found 50 images belonging to 2 classes.\n"
     ]
    }
   ],
   "source": [
    "train_generator = train_datagen.flow_from_directory(\n",
    "        'Photographs/train',\n",
    "        target_size=(64, 64),\n",
    "        batch_size=32,\n",
    "        class_mode='binary')\n",
    "\n",
    "validation_generator = test_datagen.flow_from_directory(\n",
    "        'Photographs/validation',\n",
    "        target_size=(64, 64),\n",
    "        batch_size=32,\n",
    "        class_mode='binary')"
   ]
  },
  {
   "cell_type": "code",
   "execution_count": 9,
   "id": "d7336dd9",
   "metadata": {},
   "outputs": [],
   "source": [
    "from tensorflow.keras.models import Sequential\n",
    "from tensorflow.keras.layers import Activation, Dropout, Flatten, Dense,Conv2D,MaxPooling2D"
   ]
  },
  {
   "cell_type": "code",
   "execution_count": 10,
   "id": "14283f8b",
   "metadata": {},
   "outputs": [
    {
     "name": "stderr",
     "output_type": "stream",
     "text": [
      "2022-01-23 19:04:27.938551: I tensorflow/core/platform/cpu_feature_guard.cc:142] This TensorFlow binary is optimized with oneAPI Deep Neural Network Library (oneDNN) to use the following CPU instructions in performance-critical operations:  AVX2 FMA\n",
      "To enable them in other operations, rebuild TensorFlow with the appropriate compiler flags.\n"
     ]
    }
   ],
   "source": [
    "## Initialising the CNN\n",
    "classifier = Sequential()"
   ]
  },
  {
   "cell_type": "code",
   "execution_count": 11,
   "id": "7a19be27",
   "metadata": {},
   "outputs": [],
   "source": [
    "base_model = ResNet101(\n",
    "    include_top=False,\n",
    "    weights=\"imagenet\",\n",
    "    input_tensor=None,\n",
    "    input_shape=(64,64,3),\n",
    "    pooling=None,\n",
    "    classes=2,\n",
    "    classifier_activation=\"relu\",\n",
    ")"
   ]
  },
  {
   "cell_type": "code",
   "execution_count": 12,
   "id": "a48c50f5",
   "metadata": {},
   "outputs": [],
   "source": [
    "base_model.trainable = False"
   ]
  },
  {
   "cell_type": "code",
   "execution_count": 13,
   "id": "392877e5",
   "metadata": {},
   "outputs": [],
   "source": [
    "classifier = Sequential(\n",
    "    base_model\n",
    ")\n",
    "\n",
    "classifier.add(Flatten())\n",
    "classifier.add(Dense(128, activation = 'relu'))\n",
    "classifier.add(Dense(1, activation = 'sigmoid'))"
   ]
  },
  {
   "cell_type": "code",
   "execution_count": 14,
   "id": "96fc01f7",
   "metadata": {},
   "outputs": [
    {
     "name": "stdout",
     "output_type": "stream",
     "text": [
      "Model: \"sequential_1\"\n",
      "_________________________________________________________________\n",
      "Layer (type)                 Output Shape              Param #   \n",
      "=================================================================\n",
      "resnet101 (Functional)       (None, 2, 2, 2048)        42658176  \n",
      "_________________________________________________________________\n",
      "flatten (Flatten)            (None, 8192)              0         \n",
      "_________________________________________________________________\n",
      "dense (Dense)                (None, 128)               1048704   \n",
      "_________________________________________________________________\n",
      "dense_1 (Dense)              (None, 1)                 129       \n",
      "=================================================================\n",
      "Total params: 43,707,009\n",
      "Trainable params: 1,048,833\n",
      "Non-trainable params: 42,658,176\n",
      "_________________________________________________________________\n"
     ]
    }
   ],
   "source": [
    "classifier.summary()"
   ]
  },
  {
   "cell_type": "code",
   "execution_count": 15,
   "id": "c69a828b",
   "metadata": {},
   "outputs": [
    {
     "data": {
      "text/plain": [
       "{'indoor': 0, 'outdoor': 1}"
      ]
     },
     "execution_count": 15,
     "metadata": {},
     "output_type": "execute_result"
    }
   ],
   "source": [
    "train_generator.class_indices"
   ]
  },
  {
   "cell_type": "code",
   "execution_count": 16,
   "id": "e0ee4bf7",
   "metadata": {},
   "outputs": [],
   "source": [
    "base_learning_rate = 0.0001"
   ]
  },
  {
   "cell_type": "code",
   "execution_count": 17,
   "id": "d0f2fe3e",
   "metadata": {},
   "outputs": [],
   "source": [
    "classifier.compile(\n",
    "    optimizer=tf.keras.optimizers.Adam(learning_rate=base_learning_rate),\n",
    "    loss=tf.keras.losses.BinaryCrossentropy(), \n",
    "    metrics=['accuracy'])"
   ]
  },
  {
   "cell_type": "code",
   "execution_count": 31,
   "id": "f1bca346",
   "metadata": {},
   "outputs": [],
   "source": [
    "import math"
   ]
  },
  {
   "cell_type": "code",
   "execution_count": 32,
   "id": "b874a71b",
   "metadata": {},
   "outputs": [],
   "source": [
    "def scheduler(epoch, lr):\n",
    "    if epoch < 10:\n",
    "        return lr\n",
    "    else:\n",
    "        return lr * math.exp(-0.1)"
   ]
  },
  {
   "cell_type": "code",
   "execution_count": 21,
   "id": "e6e8b535",
   "metadata": {},
   "outputs": [
    {
     "name": "stderr",
     "output_type": "stream",
     "text": [
      "2022-01-23 19:04:35.218469: I tensorflow/compiler/mlir/mlir_graph_optimization_pass.cc:185] None of the MLIR Optimization Passes are enabled (registered 2)\n"
     ]
    },
    {
     "name": "stdout",
     "output_type": "stream",
     "text": [
      "Epoch 1/20\n",
      "13/13 [==============================] - 21s 1s/step - loss: 0.6991 - accuracy: 0.4750 - val_loss: 0.6828 - val_accuracy: 0.5200\n",
      "Epoch 2/20\n",
      "13/13 [==============================] - 10s 782ms/step - loss: 0.6846 - accuracy: 0.5550 - val_loss: 0.6652 - val_accuracy: 0.6800\n",
      "Epoch 3/20\n",
      "13/13 [==============================] - 11s 815ms/step - loss: 0.6714 - accuracy: 0.6200 - val_loss: 0.6526 - val_accuracy: 0.7400\n",
      "Epoch 4/20\n",
      "13/13 [==============================] - 12s 924ms/step - loss: 0.6616 - accuracy: 0.6550 - val_loss: 0.6418 - val_accuracy: 0.6600\n",
      "Epoch 5/20\n",
      "13/13 [==============================] - 12s 898ms/step - loss: 0.6438 - accuracy: 0.6900 - val_loss: 0.6300 - val_accuracy: 0.6600\n",
      "Epoch 6/20\n",
      "13/13 [==============================] - 11s 830ms/step - loss: 0.6365 - accuracy: 0.7000 - val_loss: 0.6167 - val_accuracy: 0.7800\n",
      "Epoch 7/20\n",
      "13/13 [==============================] - 11s 810ms/step - loss: 0.6248 - accuracy: 0.7000 - val_loss: 0.6106 - val_accuracy: 0.6600\n",
      "Epoch 8/20\n",
      "13/13 [==============================] - 13s 1s/step - loss: 0.6220 - accuracy: 0.6750 - val_loss: 0.5946 - val_accuracy: 0.7400\n",
      "Epoch 9/20\n",
      "13/13 [==============================] - 11s 820ms/step - loss: 0.6137 - accuracy: 0.7325 - val_loss: 0.5898 - val_accuracy: 0.6800\n",
      "Epoch 10/20\n",
      "13/13 [==============================] - 13s 932ms/step - loss: 0.6093 - accuracy: 0.6975 - val_loss: 0.5797 - val_accuracy: 0.7400\n",
      "Epoch 11/20\n",
      "13/13 [==============================] - 13s 981ms/step - loss: 0.5926 - accuracy: 0.7350 - val_loss: 0.5728 - val_accuracy: 0.7400\n",
      "Epoch 12/20\n",
      "13/13 [==============================] - 11s 908ms/step - loss: 0.5817 - accuracy: 0.7575 - val_loss: 0.5651 - val_accuracy: 0.7400\n",
      "Epoch 13/20\n",
      "13/13 [==============================] - 12s 903ms/step - loss: 0.5912 - accuracy: 0.7100 - val_loss: 0.5631 - val_accuracy: 0.7400\n",
      "Epoch 14/20\n",
      "13/13 [==============================] - 10s 807ms/step - loss: 0.5848 - accuracy: 0.7325 - val_loss: 0.5568 - val_accuracy: 0.7400\n",
      "Epoch 15/20\n",
      "13/13 [==============================] - 13s 920ms/step - loss: 0.5684 - accuracy: 0.7500 - val_loss: 0.5547 - val_accuracy: 0.7400\n",
      "Epoch 16/20\n",
      "13/13 [==============================] - 11s 799ms/step - loss: 0.5708 - accuracy: 0.7350 - val_loss: 0.5448 - val_accuracy: 0.7600\n",
      "Epoch 17/20\n",
      "13/13 [==============================] - 13s 968ms/step - loss: 0.5667 - accuracy: 0.7650 - val_loss: 0.5476 - val_accuracy: 0.7400\n",
      "Epoch 18/20\n",
      "13/13 [==============================] - 11s 834ms/step - loss: 0.5861 - accuracy: 0.7100 - val_loss: 0.5388 - val_accuracy: 0.7600\n",
      "Epoch 19/20\n",
      "13/13 [==============================] - 11s 858ms/step - loss: 0.5650 - accuracy: 0.7250 - val_loss: 0.5408 - val_accuracy: 0.7400\n",
      "Epoch 20/20\n",
      "13/13 [==============================] - 14s 1s/step - loss: 0.5682 - accuracy: 0.7350 - val_loss: 0.5398 - val_accuracy: 0.7400\n"
     ]
    },
    {
     "data": {
      "text/plain": [
       "<keras.callbacks.History at 0x7fa4f6da31f0>"
      ]
     },
     "execution_count": 21,
     "metadata": {},
     "output_type": "execute_result"
    }
   ],
   "source": [
    "## fitting model to images\n",
    "classifier.fit(train_generator,epochs=30,validation_data=validation_generator, \n",
    "               callbacks=[tf.keras.callbacks.LearningRateScheduler(scheduler)])"
   ]
  },
  {
   "cell_type": "code",
   "execution_count": null,
   "id": "86a6f312",
   "metadata": {},
   "outputs": [],
   "source": []
  },
  {
   "cell_type": "code",
   "execution_count": 22,
   "id": "f56e6b42",
   "metadata": {},
   "outputs": [],
   "source": [
    "from tensorflow.keras.preprocessing import image"
   ]
  },
  {
   "cell_type": "code",
   "execution_count": 23,
   "id": "70f950cd",
   "metadata": {},
   "outputs": [],
   "source": [
    "image_name = 'outdoor/5ce408eb2218f357aefad979.w800.jpg'"
   ]
  },
  {
   "cell_type": "code",
   "execution_count": 24,
   "id": "cc9a69c7",
   "metadata": {},
   "outputs": [],
   "source": [
    "## prediction of single new data\n",
    "\n",
    "test_image = image.load_img('Photographs/test/'+image_name ,target_size =(150,150))"
   ]
  },
  {
   "cell_type": "code",
   "execution_count": 25,
   "id": "ebcfb941",
   "metadata": {},
   "outputs": [
    {
     "data": {
      "image/png": "[encoded data removed]",
      "text/plain": [
       "<PIL.Image.Image image mode=RGB size=150x150 at 0x7FA4F6DA3250>"
      ]
     },
     "execution_count": 25,
     "metadata": {},
     "output_type": "execute_result"
    }
   ],
   "source": [
    "test_image"
   ]
  },
  {
   "cell_type": "code",
   "execution_count": 26,
   "id": "eacad087",
   "metadata": {},
   "outputs": [],
   "source": [
    "## Convert image to array\n",
    "test_image = image.img_to_array(test_image)"
   ]
  },
  {
   "cell_type": "code",
   "execution_count": 27,
   "id": "35c59e3c",
   "metadata": {},
   "outputs": [],
   "source": [
    "## For single prediction change the dimension . \n",
    "\n",
    "test_image=test_image.reshape(150,150,3)"
   ]
  },
  {
   "cell_type": "code",
   "execution_count": 28,
   "id": "87e4bf79",
   "metadata": {},
   "outputs": [
    {
     "data": {
      "application/javascript": [
       "\n",
       "        if (window._pyforest_update_imports_cell) { window._pyforest_update_imports_cell('import matplotlib.pyplot as plt'); }\n",
       "    "
      ],
      "text/plain": [
       "<IPython.core.display.Javascript object>"
      ]
     },
     "metadata": {},
     "output_type": "display_data"
    },
    {
     "name": "stderr",
     "output_type": "stream",
     "text": [
      "Clipping input data to the valid range for imshow with RGB data ([0..1] for floats or [0..255] for integers).\n"
     ]
    },
    {
     "data": {
      "text/plain": [
       "<matplotlib.image.AxesImage at 0x7fa4e7fe6400>"
      ]
     },
     "execution_count": 28,
     "metadata": {},
     "output_type": "execute_result"
    },
    {
     "data": {
      "image/png": "[encoded data removed]",
      "text/plain": [
       "<Figure size 432x288 with 1 Axes>"
      ]
     },
     "metadata": {
      "needs_background": "light"
     },
     "output_type": "display_data"
    }
   ],
   "source": [
    "plt.imshow(test_image)"
   ]
  },
  {
   "cell_type": "code",
   "execution_count": 29,
   "id": "d72a0c84",
   "metadata": {},
   "outputs": [
    {
     "ename": "ValueError",
     "evalue": "('Input data in `NumpyArrayIterator` should have rank 4. You passed an array with shape', (150, 150, 3))",
     "output_type": "error",
     "traceback": [
      "\u001b[0;31m---------------------------------------------------------------------------\u001b[0m",
      "\u001b[0;31mValueError\u001b[0m                                Traceback (most recent call last)",
      "\u001b[0;32m/var/folders/3r/hfw5ds7x10s2p6ps2ct8m4j40000gn/T/ipykernel_34194/1991286757.py\u001b[0m in \u001b[0;36m<module>\u001b[0;34m\u001b[0m\n\u001b[0;32m----> 1\u001b[0;31m \u001b[0mtest_image\u001b[0m \u001b[0;34m=\u001b[0m \u001b[0mtest_datagen\u001b[0m\u001b[0;34m.\u001b[0m\u001b[0mflow\u001b[0m\u001b[0;34m(\u001b[0m\u001b[0mtest_image\u001b[0m\u001b[0;34m)\u001b[0m\u001b[0;34m\u001b[0m\u001b[0;34m\u001b[0m\u001b[0m\n\u001b[0m",
      "\u001b[0;32m/Applications/anaconda3/lib/python3.8/site-packages/keras/preprocessing/image.py\u001b[0m in \u001b[0;36mflow\u001b[0;34m(self, x, y, batch_size, shuffle, sample_weight, seed, save_to_dir, save_prefix, save_format, subset)\u001b[0m\n\u001b[1;32m    882\u001b[0m \u001b[0;34m\u001b[0m\u001b[0m\n\u001b[1;32m    883\u001b[0m     \"\"\"\n\u001b[0;32m--> 884\u001b[0;31m     return NumpyArrayIterator(\n\u001b[0m\u001b[1;32m    885\u001b[0m         \u001b[0mx\u001b[0m\u001b[0;34m,\u001b[0m\u001b[0;34m\u001b[0m\u001b[0;34m\u001b[0m\u001b[0m\n\u001b[1;32m    886\u001b[0m         \u001b[0my\u001b[0m\u001b[0;34m,\u001b[0m\u001b[0;34m\u001b[0m\u001b[0;34m\u001b[0m\u001b[0m\n",
      "\u001b[0;32m/Applications/anaconda3/lib/python3.8/site-packages/keras/preprocessing/image.py\u001b[0m in \u001b[0;36m__init__\u001b[0;34m(self, x, y, image_data_generator, batch_size, shuffle, sample_weight, seed, data_format, save_to_dir, save_prefix, save_format, subset, dtype)\u001b[0m\n\u001b[1;32m    461\u001b[0m         \u001b[0mdtype\u001b[0m \u001b[0;34m=\u001b[0m \u001b[0mbackend\u001b[0m\u001b[0;34m.\u001b[0m\u001b[0mfloatx\u001b[0m\u001b[0;34m(\u001b[0m\u001b[0;34m)\u001b[0m\u001b[0;34m\u001b[0m\u001b[0;34m\u001b[0m\u001b[0m\n\u001b[1;32m    462\u001b[0m       \u001b[0mkwargs\u001b[0m\u001b[0;34m[\u001b[0m\u001b[0;34m'dtype'\u001b[0m\u001b[0;34m]\u001b[0m \u001b[0;34m=\u001b[0m \u001b[0mdtype\u001b[0m\u001b[0;34m\u001b[0m\u001b[0;34m\u001b[0m\u001b[0m\n\u001b[0;32m--> 463\u001b[0;31m     super(NumpyArrayIterator, self).__init__(\n\u001b[0m\u001b[1;32m    464\u001b[0m         \u001b[0mx\u001b[0m\u001b[0;34m,\u001b[0m \u001b[0my\u001b[0m\u001b[0;34m,\u001b[0m \u001b[0mimage_data_generator\u001b[0m\u001b[0;34m,\u001b[0m\u001b[0;34m\u001b[0m\u001b[0;34m\u001b[0m\u001b[0m\n\u001b[1;32m    465\u001b[0m         \u001b[0mbatch_size\u001b[0m\u001b[0;34m=\u001b[0m\u001b[0mbatch_size\u001b[0m\u001b[0;34m,\u001b[0m\u001b[0;34m\u001b[0m\u001b[0;34m\u001b[0m\u001b[0m\n",
      "\u001b[0;32m/Applications/anaconda3/lib/python3.8/site-packages/keras_preprocessing/image/numpy_array_iterator.py\u001b[0m in \u001b[0;36m__init__\u001b[0;34m(self, x, y, image_data_generator, batch_size, shuffle, sample_weight, seed, data_format, save_to_dir, save_prefix, save_format, subset, dtype)\u001b[0m\n\u001b[1;32m    122\u001b[0m         \u001b[0mself\u001b[0m\u001b[0;34m.\u001b[0m\u001b[0mx_misc\u001b[0m \u001b[0;34m=\u001b[0m \u001b[0mx_misc\u001b[0m\u001b[0;34m\u001b[0m\u001b[0;34m\u001b[0m\u001b[0m\n\u001b[1;32m    123\u001b[0m         \u001b[0;32mif\u001b[0m \u001b[0mself\u001b[0m\u001b[0;34m.\u001b[0m\u001b[0mx\u001b[0m\u001b[0;34m.\u001b[0m\u001b[0mndim\u001b[0m \u001b[0;34m!=\u001b[0m \u001b[0;36m4\u001b[0m\u001b[0;34m:\u001b[0m\u001b[0;34m\u001b[0m\u001b[0;34m\u001b[0m\u001b[0m\n\u001b[0;32m--> 124\u001b[0;31m             raise ValueError('Input data in `NumpyArrayIterator` '\n\u001b[0m\u001b[1;32m    125\u001b[0m                              \u001b[0;34m'should have rank 4. You passed an array '\u001b[0m\u001b[0;34m\u001b[0m\u001b[0;34m\u001b[0m\u001b[0m\n\u001b[1;32m    126\u001b[0m                              'with shape', self.x.shape)\n",
      "\u001b[0;31mValueError\u001b[0m: ('Input data in `NumpyArrayIterator` should have rank 4. You passed an array with shape', (150, 150, 3))"
     ]
    }
   ],
   "source": [
    "test_image = test_datagen.flow(test_image)"
   ]
  },
  {
   "cell_type": "code",
   "execution_count": null,
   "id": "c60b18c0",
   "metadata": {},
   "outputs": [],
   "source": [
    "test_image"
   ]
  },
  {
   "cell_type": "code",
   "execution_count": null,
   "id": "4a22804f",
   "metadata": {
    "scrolled": true
   },
   "outputs": [],
   "source": [
    "result = classifier.predict(test_image.reshape(1, 150,150,3))"
   ]
  },
  {
   "cell_type": "code",
   "execution_count": null,
   "id": "9539f7ca",
   "metadata": {},
   "outputs": [],
   "source": [
    "result=np.around(result)"
   ]
  },
  {
   "cell_type": "code",
   "execution_count": null,
   "id": "d3888f5b",
   "metadata": {},
   "outputs": [],
   "source": [
    "plt.imshow(result)"
   ]
  },
  {
   "cell_type": "code",
   "execution_count": null,
   "id": "a6742bb8",
   "metadata": {},
   "outputs": [],
   "source": [
    "## Class label of indoor and outdoor\n",
    "if result == 1:\n",
    "    prediction = 'This is an outdoor scene'\n",
    "else:\n",
    "    prediction = 'This is an indoor scene'"
   ]
  },
  {
   "cell_type": "code",
   "execution_count": null,
   "id": "83031551",
   "metadata": {},
   "outputs": [],
   "source": [
    "prediction"
   ]
  },
  {
   "cell_type": "code",
   "execution_count": null,
   "id": "af83413c",
   "metadata": {},
   "outputs": [],
   "source": []
  }
 ],
 "metadata": {
  "kernelspec": {
   "display_name": "Python 3 (ipykernel)",
   "language": "python",
   "name": "python3"
  },
  "language_info": {
   "codemirror_mode": {
    "name": "ipython",
    "version": 3
   },
   "file_extension": ".py",
   "mimetype": "text/x-python",
   "name": "python",
   "nbconvert_exporter": "python",
   "pygments_lexer": "ipython3",
   "version": "3.8.8"
  }
 },
 "nbformat": 4,
 "nbformat_minor": 5
}
