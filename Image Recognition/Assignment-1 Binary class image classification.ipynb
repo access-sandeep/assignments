{
 "cells": [
  {
   "cell_type": "markdown",
   "id": "1730289a",
   "metadata": {},
   "source": [
    "**Write TensorFlow program  to  create a Binary image classifier for the given data to classify images to  indoor and outdoor images. Use Keras API to create the multilayer neural network model.**  \n",
    "\n",
    "\n",
    "\n",
    "**Try out various configurations for the model and number of epochs for training and submit the code with the best possible accuracy.**  \n",
    "\n",
    "\n",
    "\n",
    "**Submit only the jupyter notebook.**  \n",
    "\n",
    " \n",
    "\n",
    "**Data set :**\n",
    "\n",
    "- Downloaded images from google\n",
    "- Indoor photos – 250 , outdoor photos- 300"
   ]
  },
  {
   "cell_type": "code",
   "execution_count": 1,
   "id": "ba31c854",
   "metadata": {},
   "outputs": [],
   "source": [
    "import tensorflow as tf"
   ]
  },
  {
   "cell_type": "code",
   "execution_count": 2,
   "id": "0e06b320",
   "metadata": {},
   "outputs": [
    {
     "data": {
      "text/plain": [
       "'2.6.0'"
      ]
     },
     "execution_count": 2,
     "metadata": {},
     "output_type": "execute_result"
    }
   ],
   "source": [
    "tf.__version__"
   ]
  },
  {
   "cell_type": "code",
   "execution_count": 3,
   "id": "4b7a8226",
   "metadata": {},
   "outputs": [],
   "source": [
    "from tensorflow.keras.preprocessing.image import ImageDataGenerator"
   ]
  },
  {
   "cell_type": "code",
   "execution_count": 4,
   "id": "60e6f8f7",
   "metadata": {},
   "outputs": [],
   "source": [
    "train_datagen = ImageDataGenerator(rotation_range=30, shear_range=0.2, width_shift_range=2, zoom_range=0.3, \n",
    "                            vertical_flip=True, rescale=1./255)"
   ]
  },
  {
   "cell_type": "code",
   "execution_count": 5,
   "id": "8c4c78eb",
   "metadata": {},
   "outputs": [],
   "source": [
    "test_datagen = ImageDataGenerator(rescale=1./255)"
   ]
  },
  {
   "cell_type": "code",
   "execution_count": 6,
   "id": "9aaabb4b",
   "metadata": {},
   "outputs": [
    {
     "name": "stdout",
     "output_type": "stream",
     "text": [
      "\u001b[34mtest\u001b[m\u001b[m       \u001b[34mtrain\u001b[m\u001b[m      \u001b[34mvalidation\u001b[m\u001b[m\r\n"
     ]
    }
   ],
   "source": [
    "!ls Photographs"
   ]
  },
  {
   "cell_type": "code",
   "execution_count": 7,
   "id": "44942fc9",
   "metadata": {},
   "outputs": [
    {
     "name": "stdout",
     "output_type": "stream",
     "text": [
      "Found 400 images belonging to 2 classes.\n",
      "Found 50 images belonging to 2 classes.\n"
     ]
    }
   ],
   "source": [
    "train_generator = train_datagen.flow_from_directory(\n",
    "        'Photographs/train',\n",
    "        target_size=(150, 150),\n",
    "        batch_size=32,\n",
    "        class_mode='binary')\n",
    "\n",
    "validation_generator = test_datagen.flow_from_directory(\n",
    "        'Photographs/validation',\n",
    "        target_size=(150, 150),\n",
    "        batch_size=32,\n",
    "        class_mode='binary')"
   ]
  },
  {
   "cell_type": "code",
   "execution_count": 8,
   "id": "194f8893",
   "metadata": {},
   "outputs": [],
   "source": [
    "from tensorflow.keras.models import Sequential\n",
    "from tensorflow.keras.layers import Activation, Dropout, Flatten, Dense,Conv2D,MaxPooling2D"
   ]
  },
  {
   "cell_type": "code",
   "execution_count": 9,
   "id": "4a775c8c",
   "metadata": {},
   "outputs": [
    {
     "name": "stderr",
     "output_type": "stream",
     "text": [
      "2022-01-26 21:02:49.809575: I tensorflow/core/platform/cpu_feature_guard.cc:142] This TensorFlow binary is optimized with oneAPI Deep Neural Network Library (oneDNN) to use the following CPU instructions in performance-critical operations:  AVX2 FMA\n",
      "To enable them in other operations, rebuild TensorFlow with the appropriate compiler flags.\n"
     ]
    }
   ],
   "source": [
    "## Initialising the CNN\n",
    "classifier = Sequential()"
   ]
  },
  {
   "cell_type": "code",
   "execution_count": 10,
   "id": "84d9572f",
   "metadata": {},
   "outputs": [],
   "source": [
    "classifier.add(Conv2D(64,(3,3),input_shape = (150,150,3), activation = 'relu'))\n",
    "## MaxPooling\n",
    "classifier.add(MaxPooling2D(pool_size = (2,2)))\n",
    "\n",
    "## Add another layer\n",
    "classifier.add(Conv2D(64,(3,3), activation = 'relu'))\n",
    "classifier.add(MaxPooling2D(pool_size = (2,2)))\n",
    "\n",
    "## Add another layer\n",
    "classifier.add(Conv2D(64,(3,3), activation = 'relu'))\n",
    "classifier.add(MaxPooling2D(pool_size = (2,2)))"
   ]
  },
  {
   "cell_type": "code",
   "execution_count": 11,
   "id": "70779e8a",
   "metadata": {},
   "outputs": [],
   "source": [
    "## Flattening\n",
    "classifier.add(Flatten())"
   ]
  },
  {
   "cell_type": "code",
   "execution_count": 12,
   "id": "b286ae93",
   "metadata": {},
   "outputs": [],
   "source": [
    "## Fully connected ANN, Hidden ANN and output layer\n",
    "classifier.add(Dense(units = 128, activation = 'relu'))"
   ]
  },
  {
   "cell_type": "code",
   "execution_count": 13,
   "id": "8b9e9d5c",
   "metadata": {},
   "outputs": [],
   "source": [
    "#output layer\n",
    "classifier.add(Dense(units = 1, activation = 'sigmoid'))"
   ]
  },
  {
   "cell_type": "code",
   "execution_count": 14,
   "id": "08be7c1c",
   "metadata": {},
   "outputs": [],
   "source": [
    "## Compliling\n",
    "classifier.compile(optimizer = 'adam', loss = 'binary_crossentropy', metrics = ['accuracy'])"
   ]
  },
  {
   "cell_type": "code",
   "execution_count": 15,
   "id": "59702b74",
   "metadata": {},
   "outputs": [
    {
     "name": "stdout",
     "output_type": "stream",
     "text": [
      "Model: \"sequential\"\n",
      "_________________________________________________________________\n",
      "Layer (type)                 Output Shape              Param #   \n",
      "=================================================================\n",
      "conv2d (Conv2D)              (None, 148, 148, 64)      1792      \n",
      "_________________________________________________________________\n",
      "max_pooling2d (MaxPooling2D) (None, 74, 74, 64)        0         \n",
      "_________________________________________________________________\n",
      "conv2d_1 (Conv2D)            (None, 72, 72, 64)        36928     \n",
      "_________________________________________________________________\n",
      "max_pooling2d_1 (MaxPooling2 (None, 36, 36, 64)        0         \n",
      "_________________________________________________________________\n",
      "conv2d_2 (Conv2D)            (None, 34, 34, 64)        36928     \n",
      "_________________________________________________________________\n",
      "max_pooling2d_2 (MaxPooling2 (None, 17, 17, 64)        0         \n",
      "_________________________________________________________________\n",
      "flatten (Flatten)            (None, 18496)             0         \n",
      "_________________________________________________________________\n",
      "dense (Dense)                (None, 128)               2367616   \n",
      "_________________________________________________________________\n",
      "dense_1 (Dense)              (None, 1)                 129       \n",
      "=================================================================\n",
      "Total params: 2,443,393\n",
      "Trainable params: 2,443,393\n",
      "Non-trainable params: 0\n",
      "_________________________________________________________________\n"
     ]
    }
   ],
   "source": [
    "classifier.summary()"
   ]
  },
  {
   "cell_type": "code",
   "execution_count": 16,
   "id": "ffdc06c3",
   "metadata": {},
   "outputs": [
    {
     "data": {
      "text/plain": [
       "{'indoor': 0, 'outdoor': 1}"
      ]
     },
     "execution_count": 16,
     "metadata": {},
     "output_type": "execute_result"
    }
   ],
   "source": [
    "train_generator.class_indices"
   ]
  },
  {
   "cell_type": "code",
   "execution_count": 17,
   "id": "34dc36cd",
   "metadata": {},
   "outputs": [
    {
     "name": "stderr",
     "output_type": "stream",
     "text": [
      "2022-01-26 21:02:51.611352: I tensorflow/compiler/mlir/mlir_graph_optimization_pass.cc:185] None of the MLIR Optimization Passes are enabled (registered 2)\n"
     ]
    },
    {
     "name": "stdout",
     "output_type": "stream",
     "text": [
      "Epoch 1/50\n",
      "13/13 [==============================] - 24s 2s/step - loss: 0.8197 - accuracy: 0.5625 - val_loss: 0.4975 - val_accuracy: 0.6000\n",
      "Epoch 2/50\n",
      "13/13 [==============================] - 20s 1s/step - loss: 0.3885 - accuracy: 0.8575 - val_loss: 0.2237 - val_accuracy: 0.9200\n",
      "Epoch 3/50\n",
      "13/13 [==============================] - 22s 2s/step - loss: 0.4200 - accuracy: 0.8250 - val_loss: 0.3231 - val_accuracy: 0.8600\n",
      "Epoch 4/50\n",
      "13/13 [==============================] - 19s 1s/step - loss: 0.3324 - accuracy: 0.8425 - val_loss: 0.1467 - val_accuracy: 0.9400\n",
      "Epoch 5/50\n",
      "13/13 [==============================] - 20s 2s/step - loss: 0.2690 - accuracy: 0.9025 - val_loss: 0.1855 - val_accuracy: 0.9600\n",
      "Epoch 6/50\n",
      "13/13 [==============================] - 19s 1s/step - loss: 0.1785 - accuracy: 0.9325 - val_loss: 0.0797 - val_accuracy: 0.9800\n",
      "Epoch 7/50\n",
      "13/13 [==============================] - 19s 1s/step - loss: 0.1435 - accuracy: 0.9400 - val_loss: 0.1202 - val_accuracy: 0.9600\n",
      "Epoch 8/50\n",
      "13/13 [==============================] - 19s 1s/step - loss: 0.1699 - accuracy: 0.9325 - val_loss: 0.3042 - val_accuracy: 0.8800\n",
      "Epoch 9/50\n",
      "13/13 [==============================] - 19s 1s/step - loss: 0.2232 - accuracy: 0.9200 - val_loss: 0.3874 - val_accuracy: 0.8600\n",
      "Epoch 10/50\n",
      "13/13 [==============================] - 19s 1s/step - loss: 0.1606 - accuracy: 0.9375 - val_loss: 0.1644 - val_accuracy: 0.9600\n",
      "Epoch 11/50\n",
      "13/13 [==============================] - 18s 1s/step - loss: 0.2064 - accuracy: 0.9250 - val_loss: 0.2196 - val_accuracy: 0.9000\n",
      "Epoch 12/50\n",
      "13/13 [==============================] - 19s 1s/step - loss: 0.2168 - accuracy: 0.9125 - val_loss: 0.0749 - val_accuracy: 0.9800\n",
      "Epoch 13/50\n",
      "13/13 [==============================] - 18s 1s/step - loss: 0.2209 - accuracy: 0.9100 - val_loss: 0.1330 - val_accuracy: 0.9800\n",
      "Epoch 14/50\n",
      "13/13 [==============================] - 22s 2s/step - loss: 0.1600 - accuracy: 0.9375 - val_loss: 0.0978 - val_accuracy: 0.9200\n",
      "Epoch 15/50\n",
      "13/13 [==============================] - 21s 2s/step - loss: 0.1808 - accuracy: 0.9425 - val_loss: 0.1010 - val_accuracy: 0.9600\n",
      "Epoch 16/50\n",
      "13/13 [==============================] - 21s 1s/step - loss: 0.1657 - accuracy: 0.9400 - val_loss: 0.0853 - val_accuracy: 0.9600\n",
      "Epoch 17/50\n",
      "13/13 [==============================] - 19s 1s/step - loss: 0.1099 - accuracy: 0.9700 - val_loss: 0.1317 - val_accuracy: 0.9800\n",
      "Epoch 18/50\n",
      "13/13 [==============================] - 20s 2s/step - loss: 0.1365 - accuracy: 0.9475 - val_loss: 0.0470 - val_accuracy: 0.9800\n",
      "Epoch 19/50\n",
      "13/13 [==============================] - 20s 1s/step - loss: 0.1429 - accuracy: 0.9500 - val_loss: 0.0707 - val_accuracy: 0.9800\n",
      "Epoch 20/50\n",
      "13/13 [==============================] - 19s 1s/step - loss: 0.1518 - accuracy: 0.9475 - val_loss: 0.1708 - val_accuracy: 0.9400\n",
      "Epoch 21/50\n",
      "13/13 [==============================] - 18s 1s/step - loss: 0.1137 - accuracy: 0.9450 - val_loss: 0.1146 - val_accuracy: 0.9600\n",
      "Epoch 22/50\n",
      "13/13 [==============================] - 19s 1s/step - loss: 0.0742 - accuracy: 0.9775 - val_loss: 0.0889 - val_accuracy: 0.9800\n",
      "Epoch 23/50\n",
      "13/13 [==============================] - 19s 1s/step - loss: 0.0669 - accuracy: 0.9700 - val_loss: 0.1940 - val_accuracy: 0.9600\n",
      "Epoch 24/50\n",
      "13/13 [==============================] - 18s 1s/step - loss: 0.1077 - accuracy: 0.9650 - val_loss: 0.1047 - val_accuracy: 0.9800\n",
      "Epoch 25/50\n",
      "13/13 [==============================] - 19s 1s/step - loss: 0.0706 - accuracy: 0.9750 - val_loss: 0.3095 - val_accuracy: 0.8600\n",
      "Epoch 26/50\n",
      "13/13 [==============================] - 19s 1s/step - loss: 0.1145 - accuracy: 0.9550 - val_loss: 0.0918 - val_accuracy: 0.9800\n",
      "Epoch 27/50\n",
      "13/13 [==============================] - 19s 1s/step - loss: 0.0899 - accuracy: 0.9675 - val_loss: 0.0540 - val_accuracy: 0.9800\n",
      "Epoch 28/50\n",
      "13/13 [==============================] - 19s 1s/step - loss: 0.1456 - accuracy: 0.9500 - val_loss: 0.2205 - val_accuracy: 0.9400\n",
      "Epoch 29/50\n",
      "13/13 [==============================] - 20s 1s/step - loss: 0.1037 - accuracy: 0.9500 - val_loss: 0.1876 - val_accuracy: 0.9800\n",
      "Epoch 30/50\n",
      "13/13 [==============================] - 20s 2s/step - loss: 0.1065 - accuracy: 0.9575 - val_loss: 0.2839 - val_accuracy: 0.9000\n",
      "Epoch 31/50\n",
      "13/13 [==============================] - 20s 2s/step - loss: 0.1164 - accuracy: 0.9575 - val_loss: 0.1453 - val_accuracy: 0.9800\n",
      "Epoch 32/50\n",
      "13/13 [==============================] - 21s 2s/step - loss: 0.1031 - accuracy: 0.9600 - val_loss: 0.0885 - val_accuracy: 0.9800\n",
      "Epoch 33/50\n",
      "13/13 [==============================] - 21s 2s/step - loss: 0.0688 - accuracy: 0.9725 - val_loss: 0.1349 - val_accuracy: 0.9800\n",
      "Epoch 34/50\n",
      "13/13 [==============================] - 19s 1s/step - loss: 0.0476 - accuracy: 0.9850 - val_loss: 0.0647 - val_accuracy: 0.9800\n",
      "Epoch 35/50\n",
      "13/13 [==============================] - 21s 2s/step - loss: 0.1358 - accuracy: 0.9525 - val_loss: 0.0908 - val_accuracy: 0.9600\n",
      "Epoch 36/50\n",
      "13/13 [==============================] - 22s 2s/step - loss: 0.1196 - accuracy: 0.9550 - val_loss: 0.2480 - val_accuracy: 0.9400\n",
      "Epoch 37/50\n",
      "13/13 [==============================] - 20s 2s/step - loss: 0.0646 - accuracy: 0.9725 - val_loss: 0.1265 - val_accuracy: 0.9800\n",
      "Epoch 38/50\n",
      "13/13 [==============================] - 18s 1s/step - loss: 0.0566 - accuracy: 0.9800 - val_loss: 0.0894 - val_accuracy: 0.9800\n",
      "Epoch 39/50\n",
      "13/13 [==============================] - 19s 1s/step - loss: 0.0778 - accuracy: 0.9750 - val_loss: 0.0903 - val_accuracy: 0.9800\n",
      "Epoch 40/50\n",
      "13/13 [==============================] - 18s 1s/step - loss: 0.0806 - accuracy: 0.9675 - val_loss: 0.1094 - val_accuracy: 0.9800\n",
      "Epoch 41/50\n",
      "13/13 [==============================] - 19s 1s/step - loss: 0.1117 - accuracy: 0.9525 - val_loss: 0.1720 - val_accuracy: 0.9400\n",
      "Epoch 42/50\n",
      "13/13 [==============================] - 19s 1s/step - loss: 0.1381 - accuracy: 0.9450 - val_loss: 0.0771 - val_accuracy: 0.9800\n",
      "Epoch 43/50\n",
      "13/13 [==============================] - 19s 1s/step - loss: 0.1318 - accuracy: 0.9475 - val_loss: 0.0558 - val_accuracy: 0.9800\n",
      "Epoch 44/50\n",
      "13/13 [==============================] - 19s 1s/step - loss: 0.0733 - accuracy: 0.9700 - val_loss: 0.1529 - val_accuracy: 0.9600\n",
      "Epoch 45/50\n",
      "13/13 [==============================] - 20s 2s/step - loss: 0.0720 - accuracy: 0.9700 - val_loss: 0.1371 - val_accuracy: 0.9800\n",
      "Epoch 46/50\n",
      "13/13 [==============================] - 18s 1s/step - loss: 0.0896 - accuracy: 0.9675 - val_loss: 0.0904 - val_accuracy: 0.9800\n",
      "Epoch 47/50\n",
      "13/13 [==============================] - 20s 2s/step - loss: 0.0689 - accuracy: 0.9700 - val_loss: 0.0864 - val_accuracy: 0.9800\n",
      "Epoch 48/50\n",
      "13/13 [==============================] - 21s 2s/step - loss: 0.0396 - accuracy: 0.9900 - val_loss: 0.0919 - val_accuracy: 0.9800\n",
      "Epoch 49/50\n",
      "13/13 [==============================] - 21s 2s/step - loss: 0.0738 - accuracy: 0.9725 - val_loss: 0.1005 - val_accuracy: 0.9600\n",
      "Epoch 50/50\n",
      "13/13 [==============================] - 21s 2s/step - loss: 0.0942 - accuracy: 0.9650 - val_loss: 0.3861 - val_accuracy: 0.9200\n"
     ]
    }
   ],
   "source": [
    "## fitting model to images\n",
    "history = classifier.fit(train_generator,epochs=50,validation_data=validation_generator)"
   ]
  },
  {
   "cell_type": "code",
   "execution_count": 18,
   "id": "4d264a7f",
   "metadata": {},
   "outputs": [],
   "source": [
    "from tensorflow.keras.preprocessing import image"
   ]
  },
  {
   "cell_type": "code",
   "execution_count": 19,
   "id": "ed8680a3",
   "metadata": {},
   "outputs": [],
   "source": [
    "image_name = 'outdoor/5ce408eb2218f357aefad979.w800.jpg'"
   ]
  },
  {
   "cell_type": "code",
   "execution_count": 20,
   "id": "2292a8be",
   "metadata": {},
   "outputs": [],
   "source": [
    "## prediction of single new data\n",
    "\n",
    "test_image = image.load_img('Photographs/test/'+image_name ,target_size =(150,150))"
   ]
  },
  {
   "cell_type": "code",
   "execution_count": 21,
   "id": "8a060d11",
   "metadata": {},
   "outputs": [
    {
     "data": {
      "image/png": "[encoded data removed]",
      "text/plain": [
       "<PIL.Image.Image image mode=RGB size=150x150 at 0x7FF02C63F1C0>"
      ]
     },
     "execution_count": 21,
     "metadata": {},
     "output_type": "execute_result"
    }
   ],
   "source": [
    "test_image"
   ]
  },
  {
   "cell_type": "code",
   "execution_count": 22,
   "id": "de33bc86",
   "metadata": {},
   "outputs": [],
   "source": [
    "## Convert image to array\n",
    "test_image = image.img_to_array(test_image)"
   ]
  },
  {
   "cell_type": "code",
   "execution_count": 23,
   "id": "9e5ec5c1",
   "metadata": {},
   "outputs": [],
   "source": [
    "## For single prediction change the dimension . \n",
    "\n",
    "test_image=test_image.reshape(1,150,150,3)"
   ]
  },
  {
   "cell_type": "code",
   "execution_count": 24,
   "id": "98f2ea7b",
   "metadata": {},
   "outputs": [],
   "source": [
    "result = classifier.predict(test_image)"
   ]
  },
  {
   "cell_type": "code",
   "execution_count": 25,
   "id": "be75139c",
   "metadata": {},
   "outputs": [
    {
     "data": {
      "application/javascript": [
       "\n",
       "        if (window._pyforest_update_imports_cell) { window._pyforest_update_imports_cell('import numpy as np'); }\n",
       "    "
      ],
      "text/plain": [
       "<IPython.core.display.Javascript object>"
      ]
     },
     "metadata": {},
     "output_type": "display_data"
    }
   ],
   "source": [
    "result=np.around(result)"
   ]
  },
  {
   "cell_type": "code",
   "execution_count": 26,
   "id": "e6eda738",
   "metadata": {},
   "outputs": [],
   "source": [
    "## Class label of indoor and outdoor\n",
    "if result == 1:\n",
    "    prediction = 'This is an outdoor scene'\n",
    "else:\n",
    "    prediction = 'This is an indoor scene'"
   ]
  },
  {
   "cell_type": "code",
   "execution_count": 27,
   "id": "640940f1",
   "metadata": {},
   "outputs": [
    {
     "data": {
      "text/plain": [
       "'This is an outdoor scene'"
      ]
     },
     "execution_count": 27,
     "metadata": {},
     "output_type": "execute_result"
    }
   ],
   "source": [
    "prediction"
   ]
  },
  {
   "cell_type": "code",
   "execution_count": 28,
   "id": "350163a8",
   "metadata": {},
   "outputs": [
    {
     "data": {
      "text/plain": [
       "<bound method Sequential.get_config of <keras.engine.sequential.Sequential object at 0x7ff02bfc66d0>>"
      ]
     },
     "execution_count": 28,
     "metadata": {},
     "output_type": "execute_result"
    }
   ],
   "source": [
    "classifier.get_config"
   ]
  },
  {
   "cell_type": "code",
   "execution_count": 29,
   "id": "cb7bc253",
   "metadata": {},
   "outputs": [
    {
     "data": {
      "application/javascript": [
       "\n",
       "        if (window._pyforest_update_imports_cell) { window._pyforest_update_imports_cell('import matplotlib.pyplot as plt\\nimport numpy as np'); }\n",
       "    "
      ],
      "text/plain": [
       "<IPython.core.display.Javascript object>"
      ]
     },
     "metadata": {},
     "output_type": "display_data"
    },
    {
     "data": {
      "application/javascript": [
       "\n",
       "        if (window._pyforest_update_imports_cell) { window._pyforest_update_imports_cell('import matplotlib.pyplot as plt\\nimport numpy as np'); }\n",
       "    "
      ],
      "text/plain": [
       "<IPython.core.display.Javascript object>"
      ]
     },
     "metadata": {},
     "output_type": "display_data"
    },
    {
     "data": {
      "application/javascript": [
       "\n",
       "        if (window._pyforest_update_imports_cell) { window._pyforest_update_imports_cell('import matplotlib.pyplot as plt\\nimport numpy as np'); }\n",
       "    "
      ],
      "text/plain": [
       "<IPython.core.display.Javascript object>"
      ]
     },
     "metadata": {},
     "output_type": "display_data"
    },
    {
     "data": {
      "application/javascript": [
       "\n",
       "        if (window._pyforest_update_imports_cell) { window._pyforest_update_imports_cell('import matplotlib.pyplot as plt\\nimport numpy as np'); }\n",
       "    "
      ],
      "text/plain": [
       "<IPython.core.display.Javascript object>"
      ]
     },
     "metadata": {},
     "output_type": "display_data"
    },
    {
     "data": {
      "application/javascript": [
       "\n",
       "        if (window._pyforest_update_imports_cell) { window._pyforest_update_imports_cell('import matplotlib.pyplot as plt\\nimport numpy as np'); }\n",
       "    "
      ],
      "text/plain": [
       "<IPython.core.display.Javascript object>"
      ]
     },
     "metadata": {},
     "output_type": "display_data"
    },
    {
     "data": {
      "application/javascript": [
       "\n",
       "        if (window._pyforest_update_imports_cell) { window._pyforest_update_imports_cell('import matplotlib.pyplot as plt\\nimport numpy as np'); }\n",
       "    "
      ],
      "text/plain": [
       "<IPython.core.display.Javascript object>"
      ]
     },
     "metadata": {},
     "output_type": "display_data"
    },
    {
     "data": {
      "application/javascript": [
       "\n",
       "        if (window._pyforest_update_imports_cell) { window._pyforest_update_imports_cell('import matplotlib.pyplot as plt\\nimport numpy as np'); }\n",
       "    "
      ],
      "text/plain": [
       "<IPython.core.display.Javascript object>"
      ]
     },
     "metadata": {},
     "output_type": "display_data"
    },
    {
     "data": {
      "application/javascript": [
       "\n",
       "        if (window._pyforest_update_imports_cell) { window._pyforest_update_imports_cell('import matplotlib.pyplot as plt\\nimport numpy as np'); }\n",
       "    "
      ],
      "text/plain": [
       "<IPython.core.display.Javascript object>"
      ]
     },
     "metadata": {},
     "output_type": "display_data"
    },
    {
     "data": {
      "application/javascript": [
       "\n",
       "        if (window._pyforest_update_imports_cell) { window._pyforest_update_imports_cell('import matplotlib.pyplot as plt\\nimport numpy as np'); }\n",
       "    "
      ],
      "text/plain": [
       "<IPython.core.display.Javascript object>"
      ]
     },
     "metadata": {},
     "output_type": "display_data"
    },
    {
     "data": {
      "application/javascript": [
       "\n",
       "        if (window._pyforest_update_imports_cell) { window._pyforest_update_imports_cell('import matplotlib.pyplot as plt\\nimport numpy as np'); }\n",
       "    "
      ],
      "text/plain": [
       "<IPython.core.display.Javascript object>"
      ]
     },
     "metadata": {},
     "output_type": "display_data"
    },
    {
     "data": {
      "application/javascript": [
       "\n",
       "        if (window._pyforest_update_imports_cell) { window._pyforest_update_imports_cell('import matplotlib.pyplot as plt\\nimport numpy as np'); }\n",
       "    "
      ],
      "text/plain": [
       "<IPython.core.display.Javascript object>"
      ]
     },
     "metadata": {},
     "output_type": "display_data"
    },
    {
     "data": {
      "application/javascript": [
       "\n",
       "        if (window._pyforest_update_imports_cell) { window._pyforest_update_imports_cell('import matplotlib.pyplot as plt\\nimport numpy as np'); }\n",
       "    "
      ],
      "text/plain": [
       "<IPython.core.display.Javascript object>"
      ]
     },
     "metadata": {},
     "output_type": "display_data"
    },
    {
     "data": {
      "application/javascript": [
       "\n",
       "        if (window._pyforest_update_imports_cell) { window._pyforest_update_imports_cell('import matplotlib.pyplot as plt\\nimport numpy as np'); }\n",
       "    "
      ],
      "text/plain": [
       "<IPython.core.display.Javascript object>"
      ]
     },
     "metadata": {},
     "output_type": "display_data"
    },
    {
     "data": {
      "application/javascript": [
       "\n",
       "        if (window._pyforest_update_imports_cell) { window._pyforest_update_imports_cell('import matplotlib.pyplot as plt\\nimport numpy as np'); }\n",
       "    "
      ],
      "text/plain": [
       "<IPython.core.display.Javascript object>"
      ]
     },
     "metadata": {},
     "output_type": "display_data"
    },
    {
     "data": {
      "application/javascript": [
       "\n",
       "        if (window._pyforest_update_imports_cell) { window._pyforest_update_imports_cell('import matplotlib.pyplot as plt\\nimport numpy as np'); }\n",
       "    "
      ],
      "text/plain": [
       "<IPython.core.display.Javascript object>"
      ]
     },
     "metadata": {},
     "output_type": "display_data"
    },
    {
     "data": {
      "application/javascript": [
       "\n",
       "        if (window._pyforest_update_imports_cell) { window._pyforest_update_imports_cell('import matplotlib.pyplot as plt\\nimport numpy as np'); }\n",
       "    "
      ],
      "text/plain": [
       "<IPython.core.display.Javascript object>"
      ]
     },
     "metadata": {},
     "output_type": "display_data"
    },
    {
     "data": {
      "application/javascript": [
       "\n",
       "        if (window._pyforest_update_imports_cell) { window._pyforest_update_imports_cell('import matplotlib.pyplot as plt\\nimport numpy as np'); }\n",
       "    "
      ],
      "text/plain": [
       "<IPython.core.display.Javascript object>"
      ]
     },
     "metadata": {},
     "output_type": "display_data"
    },
    {
     "data": {
      "application/javascript": [
       "\n",
       "        if (window._pyforest_update_imports_cell) { window._pyforest_update_imports_cell('import matplotlib.pyplot as plt\\nimport numpy as np'); }\n",
       "    "
      ],
      "text/plain": [
       "<IPython.core.display.Javascript object>"
      ]
     },
     "metadata": {},
     "output_type": "display_data"
    },
    {
     "data": {
      "image/png": "[encoded data removed]",
      "text/plain": [
       "<Figure size 576x576 with 2 Axes>"
      ]
     },
     "metadata": {
      "needs_background": "light"
     },
     "output_type": "display_data"
    }
   ],
   "source": [
    "acc = history.history['accuracy']\n",
    "val_acc = history.history['val_accuracy']\n",
    "\n",
    "loss = history.history['loss']\n",
    "val_loss = history.history['val_loss']\n",
    "\n",
    "plt.figure(figsize=(8, 8))\n",
    "plt.subplot(2, 1, 1)\n",
    "plt.plot(acc, label='Training Accuracy')\n",
    "plt.plot(val_acc, label='Validation Accuracy')\n",
    "plt.legend(loc='lower right')\n",
    "plt.ylabel('Accuracy')\n",
    "plt.ylim([min(plt.ylim()),1])\n",
    "plt.title('Training and Validation Accuracy')\n",
    "\n",
    "plt.subplot(2, 1, 2)\n",
    "plt.plot(loss, label='Training Loss')\n",
    "plt.plot(val_loss, label='Validation Loss')\n",
    "plt.legend(loc='upper right')\n",
    "plt.ylabel('Cross Entropy')\n",
    "plt.ylim([0,1.0])\n",
    "plt.title('Training and Validation Loss')\n",
    "plt.xlabel('epoch')\n",
    "plt.show()"
   ]
  },
  {
   "cell_type": "code",
   "execution_count": null,
   "id": "8412929c",
   "metadata": {},
   "outputs": [],
   "source": []
  },
  {
   "cell_type": "code",
   "execution_count": null,
   "id": "b31893dd",
   "metadata": {},
   "outputs": [],
   "source": []
  }
 ],
 "metadata": {
  "kernelspec": {
   "display_name": "Python 3 (ipykernel)",
   "language": "python",
   "name": "python3"
  },
  "language_info": {
   "codemirror_mode": {
    "name": "ipython",
    "version": 3
   },
   "file_extension": ".py",
   "mimetype": "text/x-python",
   "name": "python",
   "nbconvert_exporter": "python",
   "pygments_lexer": "ipython3",
   "version": "3.8.8"
  }
 },
 "nbformat": 4,
 "nbformat_minor": 5
}
