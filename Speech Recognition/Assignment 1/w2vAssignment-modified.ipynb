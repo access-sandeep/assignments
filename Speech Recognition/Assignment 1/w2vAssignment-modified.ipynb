{
 "cells": [
  {
   "cell_type": "code",
   "execution_count": 8,
   "id": "8f222372",
   "metadata": {},
   "outputs": [],
   "source": [
    "# Python program to generate word vectors using Word2Vec\n",
    "# importing sentence tockanizer and word tockanizer from the tockanize module of nltk. \n",
    "# importing Word2Vec module from gensim.models to get the Word to vector forms.\n",
    "\n",
    "from nltk.tokenize import sent_tokenize, word_tokenize\n",
    "from gensim.models import Word2Vec"
   ]
  },
  {
   "cell_type": "code",
   "execution_count": 9,
   "id": "2eadc743",
   "metadata": {},
   "outputs": [],
   "source": [
    "#  Read the ‘w2v.txt’ file\n",
    "sample = open(\"w2v.txt\", \"r\")\n",
    "s = sample.read()\n",
    "  \n",
    "# Replaces escape character with space\n",
    "f = s.replace(\"\\n\", \" \")"
   ]
  },
  {
   "cell_type": "code",
   "execution_count": 12,
   "id": "38ae8a88",
   "metadata": {},
   "outputs": [],
   "source": [
    "# iterate through each sentence in the file\n",
    "data = []\n",
    "for i in sent_tokenize(f):\n",
    "    temp = []\n",
    "      \n",
    "    # tokenize the sentence into words\n",
    "    for j in word_tokenize(i):\n",
    "        temp.append(j.lower())\n",
    "  \n",
    "    data.append(temp)"
   ]
  },
  {
   "cell_type": "code",
   "execution_count": 14,
   "id": "e29bd320",
   "metadata": {},
   "outputs": [],
   "source": [
    "Word2Vec?"
   ]
  },
  {
   "cell_type": "code",
   "execution_count": 4,
   "id": "5f19406e",
   "metadata": {},
   "outputs": [],
   "source": [
    "# Create CBOW model\n",
    "modelCBOW = Word2Vec(data, min_count = 1, vector_size = 100, window = 5)"
   ]
  },
  {
   "cell_type": "code",
   "execution_count": 5,
   "id": "8655ef01",
   "metadata": {},
   "outputs": [],
   "source": [
    "# Create Skip Gram model\n",
    "modelSkiGram = Word2Vec(data, min_count = 1, vector_size = 100, window = 5, sg = 1)"
   ]
  },
  {
   "cell_type": "code",
   "execution_count": 6,
   "id": "3d1c6ca3",
   "metadata": {},
   "outputs": [
    {
     "name": "stdout",
     "output_type": "stream",
     "text": [
      "Cosine similarity between 'linguistic' and 'distributional' - CBOW :  [('two', 0.3693828284740448), ('there', 0.2589797377586365), ('embedding', 0.24339355528354645), ('have', 0.21968328952789307), ('faster', 0.21773110330104828), ('component', 0.2093583196401596), (':', 0.19811929762363434), ('space', 0.17990486323833466), ('n-grams', 0.17243008315563202), ('number', 0.16916339099407196)]\n",
      "Cosine similarity between 'linguistic' and 'distributional' - CBOW :  [('two', 0.3693828284740448), ('there', 0.2589797377586365), ('embedding', 0.24339355528354645), ('have', 0.21968328952789307), ('faster', 0.21773110330104828), ('component', 0.2093583196401596), (':', 0.19811929762363434), ('space', 0.17990486323833466), ('n-grams', 0.17243008315563202), ('number', 0.16916339099407196)]\n"
     ]
    }
   ],
   "source": [
    "# Print results\n",
    "print(\"Cosine similarity between 'linguistic' \" + \n",
    "               \"and 'distributional' - CBOW : \",\n",
    "    modelCBOW.wv.most_similar('linguistic', 'distributional'))\n",
    "      \n",
    "print(\"Cosine similarity between 'linguistic' \" +\n",
    "                 \"and 'distributional' - CBOW : \",\n",
    "    modelCBOW.wv.most_similar('linguistic', 'distributional'))"
   ]
  },
  {
   "cell_type": "code",
   "execution_count": 7,
   "id": "70a51867",
   "metadata": {},
   "outputs": [
    {
     "name": "stdout",
     "output_type": "stream",
     "text": [
      "Cosine similarity between 'linguistic' and 'distributional' - Skip Gram :  [('two', 0.3656925559043884), ('there', 0.25061824917793274), ('embedding', 0.21577632427215576), ('faster', 0.2039831429719925), ('component', 0.20148009061813354), ('have', 0.20110812783241272), (':', 0.17687015235424042), ('space', 0.16759249567985535), ('n-grams', 0.1659824252128601), ('number', 0.16547474265098572)]\n",
      "Cosine similarity between 'linguistic' and 'distributional' - Skip Gram :  [('two', 0.3656925559043884), ('there', 0.25061824917793274), ('embedding', 0.21577632427215576), ('faster', 0.2039831429719925), ('component', 0.20148009061813354), ('have', 0.20110812783241272), (':', 0.17687015235424042), ('space', 0.16759249567985535), ('n-grams', 0.1659824252128601), ('number', 0.16547474265098572)]\n"
     ]
    }
   ],
   "source": [
    "# Print results\n",
    "print(\"Cosine similarity between 'linguistic' \" +\n",
    "          \"and 'distributional' - Skip Gram : \",\n",
    "    modelSkiGram.wv.most_similar('linguistic', 'distributional'))\n",
    "      \n",
    "print(\"Cosine similarity between 'linguistic' \" +\n",
    "            \"and 'distributional' - Skip Gram : \",\n",
    "    modelSkiGram.wv.most_similar('linguistic', 'distributional'))"
   ]
  },
  {
   "cell_type": "code",
   "execution_count": null,
   "id": "366d09f0",
   "metadata": {},
   "outputs": [],
   "source": []
  }
 ],
 "metadata": {
  "kernelspec": {
   "display_name": "Python 3 (ipykernel)",
   "language": "python",
   "name": "python3"
  },
  "language_info": {
   "codemirror_mode": {
    "name": "ipython",
    "version": 3
   },
   "file_extension": ".py",
   "mimetype": "text/x-python",
   "name": "python",
   "nbconvert_exporter": "python",
   "pygments_lexer": "ipython3",
   "version": "3.8.8"
  }
 },
 "nbformat": 4,
 "nbformat_minor": 5
}
