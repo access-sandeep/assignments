{
 "cells": [
  {
   "cell_type": "code",
   "execution_count": 1,
   "id": "80e244c7",
   "metadata": {},
   "outputs": [
    {
     "name": "stdout",
     "output_type": "stream",
     "text": [
      "Requirement already satisfied: nltk in /Applications/anaconda3/lib/python3.8/site-packages (3.6.2)\n",
      "Requirement already satisfied: joblib in /Applications/anaconda3/lib/python3.8/site-packages (from nltk) (1.0.1)\n",
      "Requirement already satisfied: regex in /Applications/anaconda3/lib/python3.8/site-packages (from nltk) (2021.8.28)\n",
      "Requirement already satisfied: click in /Applications/anaconda3/lib/python3.8/site-packages (from nltk) (8.0.1)\n",
      "Requirement already satisfied: tqdm in /Applications/anaconda3/lib/python3.8/site-packages (from nltk) (4.62.1)\n",
      "Requirement already satisfied: gensim in /Applications/anaconda3/lib/python3.8/site-packages (4.1.2)\n",
      "Requirement already satisfied: smart-open>=1.8.1 in /Applications/anaconda3/lib/python3.8/site-packages (from gensim) (5.2.1)\n",
      "Requirement already satisfied: numpy>=1.17.0 in /Applications/anaconda3/lib/python3.8/site-packages (from gensim) (1.20.3)\n",
      "Requirement already satisfied: scipy>=0.18.1 in /Applications/anaconda3/lib/python3.8/site-packages (from gensim) (1.7.1)\n"
     ]
    }
   ],
   "source": [
    "!pip install nltk\n",
    "!pip install gensim"
   ]
  },
  {
   "cell_type": "code",
   "execution_count": 11,
   "id": "8f222372",
   "metadata": {},
   "outputs": [],
   "source": [
    "# Python program to generate word vectors using Word2Vec\n",
    "  \n",
    "# importing all necessary modules\n",
    "from nltk.tokenize import sent_tokenize, word_tokenize\n",
    "import nltk\n",
    "nltk.download('punkt')\n",
    "import warnings\n",
    "  \n",
    "warnings.filterwarnings(action = 'ignore')\n",
    "  \n",
    "import gensim\n",
    "from gensim.models import Word2Vec"
   ]
  },
  {
   "cell_type": "code",
   "execution_count": 12,
   "id": "2eadc743",
   "metadata": {},
   "outputs": [],
   "source": [
    "#  Read the ‘w2v.txt’ file\n",
    "sample = open(\"w2v.txt\", \"r\")\n",
    "s = sample.read()\n",
    "  \n",
    "# Replaces escape character with space\n",
    "f = s.replace(\"\\n\", \" \")\n",
    "  \n",
    "data = []"
   ]
  },
  {
   "cell_type": "code",
   "execution_count": 13,
   "id": "38ae8a88",
   "metadata": {},
   "outputs": [],
   "source": [
    "# iterate through each sentence in the file\n",
    "for i in sent_tokenize(f):\n",
    "    temp = []\n",
    "      \n",
    "    # tokenize the sentence into words\n",
    "    for j in word_tokenize(i):\n",
    "        temp.append(j.lower())\n",
    "  \n",
    "    data.append(temp)"
   ]
  },
  {
   "cell_type": "code",
   "execution_count": 14,
   "id": "bf27a2c6",
   "metadata": {},
   "outputs": [
    {
     "data": {
      "text/plain": [
       "24"
      ]
     },
     "execution_count": 14,
     "metadata": {},
     "output_type": "execute_result"
    }
   ],
   "source": [
    "len(data)"
   ]
  },
  {
   "cell_type": "code",
   "execution_count": 15,
   "id": "5f19406e",
   "metadata": {},
   "outputs": [],
   "source": [
    "# Create CBOW model\n",
    "model1 = gensim.models.Word2Vec(data, min_count = 1, \n",
    "                              vector_size = 100, window = 5)"
   ]
  },
  {
   "cell_type": "code",
   "execution_count": 16,
   "id": "3d1c6ca3",
   "metadata": {},
   "outputs": [
    {
     "name": "stdout",
     "output_type": "stream",
     "text": [
      "Cosine similarity between 'linguistic' and 'distributional' - CBOW :  [('two', 0.3693828284740448), ('there', 0.2589797377586365), ('embedding', 0.24339355528354645), ('have', 0.21968328952789307), ('faster', 0.21773110330104828), ('component', 0.2093583196401596), (':', 0.19811929762363434), ('space', 0.17990486323833466), ('n-grams', 0.17243008315563202), ('number', 0.16916339099407196)]\n",
      "Cosine similarity between 'linguistic' and 'distributional' - CBOW :  [('two', 0.3693828284740448), ('there', 0.2589797377586365), ('embedding', 0.24339355528354645), ('have', 0.21968328952789307), ('faster', 0.21773110330104828), ('component', 0.2093583196401596), (':', 0.19811929762363434), ('space', 0.17990486323833466), ('n-grams', 0.17243008315563202), ('number', 0.16916339099407196)]\n"
     ]
    }
   ],
   "source": [
    "# Print results\n",
    "print(\"Cosine similarity between 'linguistic' \" + \n",
    "               \"and 'distributional' - CBOW : \",\n",
    "    model1.wv.most_similar('linguistic', 'distributional'))\n",
    "      \n",
    "print(\"Cosine similarity between 'linguistic' \" +\n",
    "                 \"and 'distributional' - CBOW : \",\n",
    "      model1.wv.most_similar('linguistic', 'distributional'))"
   ]
  },
  {
   "cell_type": "code",
   "execution_count": 17,
   "id": "8655ef01",
   "metadata": {},
   "outputs": [],
   "source": [
    "# Create Skip Gram model\n",
    "model2 = gensim.models.Word2Vec(data, min_count = 1, vector_size = 100,\n",
    "                                             window = 5, sg = 1)"
   ]
  },
  {
   "cell_type": "code",
   "execution_count": 18,
   "id": "70a51867",
   "metadata": {},
   "outputs": [
    {
     "name": "stdout",
     "output_type": "stream",
     "text": [
      "Cosine similarity between 'linguistic' and 'distributional' - Skip Gram :  [('two', 0.3656925559043884), ('there', 0.25061824917793274), ('embedding', 0.21577632427215576), ('faster', 0.2039831429719925), ('component', 0.20148009061813354), ('have', 0.20110812783241272), (':', 0.17687015235424042), ('space', 0.16759249567985535), ('n-grams', 0.1659824252128601), ('number', 0.16547474265098572)]\n",
      "Cosine similarity between 'linguistic' and 'distributional' - Skip Gram :  [('two', 0.3656925559043884), ('there', 0.25061824917793274), ('embedding', 0.21577632427215576), ('faster', 0.2039831429719925), ('component', 0.20148009061813354), ('have', 0.20110812783241272), (':', 0.17687015235424042), ('space', 0.16759249567985535), ('n-grams', 0.1659824252128601), ('number', 0.16547474265098572)]\n"
     ]
    }
   ],
   "source": [
    "# Print results\n",
    "print(\"Cosine similarity between 'linguistic' \" +\n",
    "          \"and 'distributional' - Skip Gram : \",\n",
    "    model2.wv.most_similar('linguistic', 'distributional'))\n",
    "      \n",
    "print(\"Cosine similarity between 'linguistic' \" +\n",
    "            \"and 'distributional' - Skip Gram : \",\n",
    "      model2.wv.most_similar('linguistic', 'distributional'))"
   ]
  },
  {
   "cell_type": "code",
   "execution_count": null,
   "id": "366d09f0",
   "metadata": {},
   "outputs": [],
   "source": []
  }
 ],
 "metadata": {
  "kernelspec": {
   "display_name": "Python 3 (ipykernel)",
   "language": "python",
   "name": "python3"
  },
  "language_info": {
   "codemirror_mode": {
    "name": "ipython",
    "version": 3
   },
   "file_extension": ".py",
   "mimetype": "text/x-python",
   "name": "python",
   "nbconvert_exporter": "python",
   "pygments_lexer": "ipython3",
   "version": "3.8.8"
  }
 },
 "nbformat": 4,
 "nbformat_minor": 5
}
