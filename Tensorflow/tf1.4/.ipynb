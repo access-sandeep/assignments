{
 "cells": [
  {
   "cell_type": "code",
   "execution_count": 7,
   "id": "82c98a68",
   "metadata": {},
   "outputs": [],
   "source": [
    "import tensorflow as tf"
   ]
  },
  {
   "cell_type": "code",
   "execution_count": 8,
   "id": "b6b097c4",
   "metadata": {},
   "outputs": [],
   "source": [
    "sess = tf.Session()"
   ]
  },
  {
   "cell_type": "code",
   "execution_count": 9,
   "id": "11a3e3b2",
   "metadata": {},
   "outputs": [],
   "source": [
    "a = tf.constant(10, name='a')\n",
    "b = tf.constant(20, name='b')\n",
    "c = tf.add(a,b, name='c')\n",
    "d = tf.multiply(a,b, name='d')\n",
    "e = tf.multiply(c,d, name='e')"
   ]
  },
  {
   "cell_type": "code",
   "execution_count": 10,
   "id": "0b60c878",
   "metadata": {},
   "outputs": [
    {
     "data": {
      "text/plain": [
       "30"
      ]
     },
     "execution_count": 10,
     "metadata": {},
     "output_type": "execute_result"
    }
   ],
   "source": [
    "sess.run(c)"
   ]
  },
  {
   "cell_type": "code",
   "execution_count": 11,
   "id": "d12a9ff8",
   "metadata": {},
   "outputs": [
    {
     "name": "stdout",
     "output_type": "stream",
     "text": [
      "<tensorflow.python.framework.ops.Graph object at 0x7f9e408cf8d0>\n"
     ]
    }
   ],
   "source": [
    "print(sess.graph)"
   ]
  },
  {
   "cell_type": "code",
   "execution_count": 6,
   "id": "c34da7ee",
   "metadata": {},
   "outputs": [],
   "source": [
    "summary_writer = tf.summary.FileWriter('graph', sess.graph)\n",
    "summary_writer.close()"
   ]
  }
 ],
 "metadata": {
  "kernelspec": {
   "display_name": "Python 3",
   "language": "python",
   "name": "python3"
  },
  "language_info": {
   "codemirror_mode": {
    "name": "ipython",
    "version": 3
   },
   "file_extension": ".py",
   "mimetype": "text/x-python",
   "name": "python",
   "nbconvert_exporter": "python",
   "pygments_lexer": "ipython3",
   "version": "3.6.13"
  }
 },
 "nbformat": 4,
 "nbformat_minor": 5
}
