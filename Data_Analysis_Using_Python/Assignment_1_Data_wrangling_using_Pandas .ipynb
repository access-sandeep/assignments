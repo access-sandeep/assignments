{
 "cells": [
  {
   "cell_type": "markdown",
   "id": "746000b0",
   "metadata": {},
   "source": [
    "# Assignment 1 : Data wrangling using Pandas"
   ]
  },
  {
   "cell_type": "markdown",
   "id": "d7155a5e",
   "metadata": {},
   "source": [
    "##### Problem Statement\n",
    "\n",
    "In this assignment we are going to analyze a web log file. Read this article for description about a typical web log file: https://en.wikipedia.org/wiki/Common_Log_Format). We need to clean/parse the log file to convert them into a proper tabular format\n",
    "\n",
    "- In the first part of this assignment, you need to understand the structure of each log and use regular expression to parse the data\n",
    "\n",
    "- In the second part of the assignment, you will be asked to clean the columns further and perform many useful analysis\n",
    "\n",
    "Dataset name : 'access_log_Jul95.txt'\n",
    "\n",
    "##### Questions:\n",
    "\n",
    "- 1. Write a regular expression to convert the data in a structured output.\n",
    "- 2. Identify number of requests for each hour and plot the same using line plot. Use the following instructions\n",
    "    - A. Convert the data type of time column to datetime using pd.to_datetime() with appropriate time format\n",
    "    - B. Use resample function to identify number of requests per hour and plot the same using line plot\n",
    "    - C. Interpret the chart and identify from which hour of the day, the number of page visits increases\n",
    "- 3. Identify different types of `request_type` along with their frequencies\n",
    "- 4. Analyze `size` column using the following instruction\n",
    "    - Convert `size` column to numeric (Remove special characters, if necessary)\n",
    "    - Using pd.cut, divide `size` column in to 10 bins.\n",
    "    - Identify the bin which has the maximum count\n",
    "- 5. Using `url` column, create a new column `file_type` based on following conditions\n",
    "    - If the `url` ends with either `.gif` or `.jpg`, `file_type` will be `image`\n",
    "    - If the `url` ends with `.html`, `file_type` will be `html`\n",
    "    - Else `file_type` will be `Other`\n",
    "    - Identify how many times images were rendered"
   ]
  },
  {
   "cell_type": "markdown",
   "id": "d8577d3c",
   "metadata": {},
   "source": [
    "The Common Log Format, also known as the NCSA Common log format, (after NCSA_HTTPd) is a standardized text file format used by web servers when generating server log files. Because the format is standardized, the files can be readily analyzed by a variety of web analysis programs, for example Webalizer and Analog.\n",
    "\n",
    "Each line in a file stored in the Common Log Format has the following syntax:\n",
    "\n",
    "host ident authuser date request status bytes\n",
    "\n",
    "The format is extended by the Combined Log Format with referrer and user-agent fields.\n",
    "\n",
    "Therefore the updated log format is as follows:\n",
    "\n",
    "host ident authuser date request status bytes referrer user-agent"
   ]
  },
  {
   "cell_type": "markdown",
   "id": "36eae541",
   "metadata": {},
   "source": [
    "###### Example: 127.0.0.1 user-identifier frank [10/Oct/2000:13:55:36 -0700] \"GET /apache_pb.gif HTTP/1.0\" 200 2326\n",
    "A \"-\" in a field indicates missing data.\n",
    "\n",
    "- 127.0.0.1 is the IP address of the client (remote host) which made the request to the server.\n",
    "- user-identifier is the RFC 1413 identity of the client. Usually \"-\".\n",
    "- frank is the userid of the person requesting the document. Usually \"-\" unless .htaccess has requested authentication.\n",
    "- [10/Oct/2000:13:55:36 -0700] is the date, time, and time zone that the request was received, by default in strftime format %d/%b/%Y:%H:%M:%S %z.\n",
    "- \"GET /apache_pb.gif HTTP/1.0\" is the request line from the client. The method GET, /apache_pb.gif the resource requested, and HTTP/1.0 the HTTP protocol.\n",
    "- 200 is the HTTP status code returned to the client. 2xx is a successful response, 3xx a redirection, 4xx a client error, and 5xx a server error.\n",
    "- 2326 is the size of the object returned to the client, measured in bytes."
   ]
  },
  {
   "cell_type": "code",
   "execution_count": 498,
   "id": "9efcb02a",
   "metadata": {},
   "outputs": [],
   "source": [
    "import re\n",
    "import pandas as pd\n",
    "import numpy as np\n",
    "import matplotlib.pyplot as plt"
   ]
  },
  {
   "cell_type": "code",
   "execution_count": 499,
   "id": "fc60d228",
   "metadata": {},
   "outputs": [],
   "source": [
    "file = open('access_log_Jul95.txt', 'r')\n",
    "lines = file.readlines()"
   ]
  },
  {
   "cell_type": "markdown",
   "id": "fb494c8c",
   "metadata": {},
   "source": [
    "##### Answer 1 : Write a regular expression to convert the data in a structured output."
   ]
  },
  {
   "cell_type": "code",
   "execution_count": 500,
   "id": "16c8f20a",
   "metadata": {},
   "outputs": [],
   "source": [
    "date_regex = \"\\[([\\S\\s]+)\\]\"\n",
    "request_regex = \"\\\"([\\S\\s]+)\\\"\""
   ]
  },
  {
   "cell_type": "code",
   "execution_count": 501,
   "id": "836f5ba5",
   "metadata": {},
   "outputs": [],
   "source": [
    "def read_data(line):\n",
    "    line = line.replace(\"\\n\", \"\")\n",
    "    date = re.findall(date_regex, line)[0];\n",
    "    if len(re.findall(request_regex, line))>0:\n",
    "        request = re.findall(request_regex, line)[0]\n",
    "    else:\n",
    "        request = \"-\"\n",
    "    splitline = re.sub(request_regex, \"-\", re.sub(date_regex, \"-\", line)).split(\" \")\n",
    "    \n",
    "    return {\n",
    "        \"host\": splitline[0],\n",
    "        \"ident\": splitline[1],\n",
    "        \"authuser\": splitline[2],\n",
    "        \"date\": date,\n",
    "        \"request\": request,\n",
    "        \"status\": splitline[5],\n",
    "        \"bytesn\": splitline[6]\n",
    "    }"
   ]
  },
  {
   "cell_type": "code",
   "execution_count": 502,
   "id": "c7614960",
   "metadata": {},
   "outputs": [],
   "source": [
    "host = []\n",
    "ident = [] \n",
    "authuser = []\n",
    "date = []\n",
    "request = []\n",
    "status = []\n",
    "bytesn = [] \n",
    "referrer = []\n",
    "user_agent = []\n",
    "for line in lines:\n",
    "    line_data = read_data(line)\n",
    "    host.append(line_data[\"host\"])\n",
    "    ident.append(line_data[\"ident\"])\n",
    "    authuser.append(line_data[\"authuser\"])\n",
    "    date.append(line_data[\"date\"])\n",
    "    request.append(line_data[\"request\"])\n",
    "    status.append(line_data[\"status\"])\n",
    "    bytesn.append(line_data[\"bytesn\"])"
   ]
  },
  {
   "cell_type": "code",
   "execution_count": 503,
   "id": "930d00c6",
   "metadata": {},
   "outputs": [],
   "source": [
    "df_data = {\n",
    "    \"host\":host, \n",
    "    \"ident\":ident, \n",
    "    \"authuser\":authuser, \n",
    "    \"date\":date, \n",
    "    \"request\":request, \n",
    "    \"status\":status, \n",
    "    \"bytesn\":bytesn\n",
    "}"
   ]
  },
  {
   "cell_type": "code",
   "execution_count": 504,
   "id": "2cd7a636",
   "metadata": {},
   "outputs": [],
   "source": [
    "df = pd.DataFrame(df_data)"
   ]
  },
  {
   "cell_type": "code",
   "execution_count": 505,
   "id": "d5d9abdd",
   "metadata": {},
   "outputs": [],
   "source": [
    "df.replace(\"-\", np.nan, inplace=True)"
   ]
  },
  {
   "cell_type": "code",
   "execution_count": 506,
   "id": "66b16d32",
   "metadata": {},
   "outputs": [
    {
     "name": "stdout",
     "output_type": "stream",
     "text": [
      "<class 'pandas.core.frame.DataFrame'>\n",
      "RangeIndex: 91714 entries, 0 to 91713\n",
      "Data columns (total 7 columns):\n",
      " #   Column    Non-Null Count  Dtype  \n",
      "---  ------    --------------  -----  \n",
      " 0   host      91714 non-null  object \n",
      " 1   ident     0 non-null      float64\n",
      " 2   authuser  0 non-null      float64\n",
      " 3   date      91714 non-null  object \n",
      " 4   request   91714 non-null  object \n",
      " 5   status    91714 non-null  object \n",
      " 6   bytesn    90788 non-null  object \n",
      "dtypes: float64(2), object(5)\n",
      "memory usage: 4.9+ MB\n"
     ]
    }
   ],
   "source": [
    "df.info()"
   ]
  },
  {
   "cell_type": "markdown",
   "id": "1e3eb625",
   "metadata": {},
   "source": [
    "#### Answer 2. Identify number of requests for each hour and plot the same using line plot. Use the following instructions\n",
    "    - A. Convert the data type of time column to datetime using pd.to_datetime() with appropriate time format\n",
    "    - B. Use resample function to identify number of requests per hour and plot the same using line plot\n",
    "    - C. Interpret the chart and identify from which hour of the day, the number of page visits increases"
   ]
  },
  {
   "cell_type": "markdown",
   "id": "3ea69478",
   "metadata": {},
   "source": [
    "###### Converting the data type of time column to datetime using pd.to_datetime() with appropriate time format"
   ]
  },
  {
   "cell_type": "code",
   "execution_count": 507,
   "id": "c9e6d110",
   "metadata": {},
   "outputs": [],
   "source": [
    "df[\"date\"] = pd.to_datetime(df[\"date\"], format='%d/%b/%Y:%H:%M:%S %z')"
   ]
  },
  {
   "cell_type": "code",
   "execution_count": 508,
   "id": "4b722928",
   "metadata": {},
   "outputs": [],
   "source": [
    "df[\"bytesn\"] = pd.to_numeric(df[\"bytesn\"])\n",
    "df[\"status\"] = pd.to_numeric(df[\"status\"])"
   ]
  },
  {
   "cell_type": "code",
   "execution_count": 509,
   "id": "20161215",
   "metadata": {},
   "outputs": [],
   "source": [
    "df.rename(columns={'date': 'time', 'request': 'url', 'status': 'response', 'bytesn': 'size'}, inplace=True)\n",
    "df.drop(columns=['ident', 'authuser'], inplace=True)"
   ]
  },
  {
   "cell_type": "code",
   "execution_count": 510,
   "id": "49c3d7ee",
   "metadata": {},
   "outputs": [
    {
     "data": {
      "text/html": [
       "<div>\n",
       "<style scoped>\n",
       "    .dataframe tbody tr th:only-of-type {\n",
       "        vertical-align: middle;\n",
       "    }\n",
       "\n",
       "    .dataframe tbody tr th {\n",
       "        vertical-align: top;\n",
       "    }\n",
       "\n",
       "    .dataframe thead th {\n",
       "        text-align: right;\n",
       "    }\n",
       "</style>\n",
       "<table border=\"1\" class=\"dataframe\">\n",
       "  <thead>\n",
       "    <tr style=\"text-align: right;\">\n",
       "      <th></th>\n",
       "      <th>host</th>\n",
       "      <th>time</th>\n",
       "      <th>url</th>\n",
       "      <th>response</th>\n",
       "      <th>size</th>\n",
       "    </tr>\n",
       "  </thead>\n",
       "  <tbody>\n",
       "    <tr>\n",
       "      <th>0</th>\n",
       "      <td>199.72.81.55</td>\n",
       "      <td>1995-07-01 00:00:01-04:00</td>\n",
       "      <td>GET /history/apollo/ HTTP/1.0</td>\n",
       "      <td>200</td>\n",
       "      <td>6245.0</td>\n",
       "    </tr>\n",
       "    <tr>\n",
       "      <th>1</th>\n",
       "      <td>unicomp6.unicomp.net</td>\n",
       "      <td>1995-07-01 00:00:06-04:00</td>\n",
       "      <td>GET /shuttle/countdown/ HTTP/1.0</td>\n",
       "      <td>200</td>\n",
       "      <td>3985.0</td>\n",
       "    </tr>\n",
       "    <tr>\n",
       "      <th>2</th>\n",
       "      <td>199.120.110.21</td>\n",
       "      <td>1995-07-01 00:00:09-04:00</td>\n",
       "      <td>GET /shuttle/missions/sts-73/mission-sts-73.ht...</td>\n",
       "      <td>200</td>\n",
       "      <td>4085.0</td>\n",
       "    </tr>\n",
       "    <tr>\n",
       "      <th>3</th>\n",
       "      <td>burger.letters.com</td>\n",
       "      <td>1995-07-01 00:00:11-04:00</td>\n",
       "      <td>GET /shuttle/countdown/liftoff.html HTTP/1.0</td>\n",
       "      <td>304</td>\n",
       "      <td>0.0</td>\n",
       "    </tr>\n",
       "    <tr>\n",
       "      <th>4</th>\n",
       "      <td>199.120.110.21</td>\n",
       "      <td>1995-07-01 00:00:11-04:00</td>\n",
       "      <td>GET /shuttle/missions/sts-73/sts-73-patch-smal...</td>\n",
       "      <td>200</td>\n",
       "      <td>4179.0</td>\n",
       "    </tr>\n",
       "    <tr>\n",
       "      <th>...</th>\n",
       "      <td>...</td>\n",
       "      <td>...</td>\n",
       "      <td>...</td>\n",
       "      <td>...</td>\n",
       "      <td>...</td>\n",
       "    </tr>\n",
       "    <tr>\n",
       "      <th>91709</th>\n",
       "      <td>ix-tam3-07.ix.netcom.com</td>\n",
       "      <td>1995-07-02 13:40:05-04:00</td>\n",
       "      <td>GET /icons/blank.xbm HTTP/1.0</td>\n",
       "      <td>200</td>\n",
       "      <td>509.0</td>\n",
       "    </tr>\n",
       "    <tr>\n",
       "      <th>91710</th>\n",
       "      <td>csd1-9.infolink.net</td>\n",
       "      <td>1995-07-02 13:40:06-04:00</td>\n",
       "      <td>GET /procurement/business/kscbus.htm HTTP/1.0</td>\n",
       "      <td>200</td>\n",
       "      <td>1293.0</td>\n",
       "    </tr>\n",
       "    <tr>\n",
       "      <th>91711</th>\n",
       "      <td>port49.iprolink.ch</td>\n",
       "      <td>1995-07-02 13:40:07-04:00</td>\n",
       "      <td>GET /shuttle/missions/sts-71/sts-71-day-06-hig...</td>\n",
       "      <td>200</td>\n",
       "      <td>6136.0</td>\n",
       "    </tr>\n",
       "    <tr>\n",
       "      <th>91712</th>\n",
       "      <td>che2.llnl.gov</td>\n",
       "      <td>1995-07-02 13:40:07-04:00</td>\n",
       "      <td>GET /shuttle/missions/sts-7/images/ HTTP/1.0</td>\n",
       "      <td>200</td>\n",
       "      <td>1313.0</td>\n",
       "    </tr>\n",
       "    <tr>\n",
       "      <th>91713</th>\n",
       "      <td>ix-tam3-07.ix.netcom.com</td>\n",
       "      <td>1995-07-02 13:40:07-04:00</td>\n",
       "      <td>GET /icons/menu.xbm HTTP/1.0</td>\n",
       "      <td>200</td>\n",
       "      <td>527.0</td>\n",
       "    </tr>\n",
       "  </tbody>\n",
       "</table>\n",
       "<p>91714 rows × 5 columns</p>\n",
       "</div>"
      ],
      "text/plain": [
       "                           host                      time  \\\n",
       "0                  199.72.81.55 1995-07-01 00:00:01-04:00   \n",
       "1          unicomp6.unicomp.net 1995-07-01 00:00:06-04:00   \n",
       "2                199.120.110.21 1995-07-01 00:00:09-04:00   \n",
       "3            burger.letters.com 1995-07-01 00:00:11-04:00   \n",
       "4                199.120.110.21 1995-07-01 00:00:11-04:00   \n",
       "...                         ...                       ...   \n",
       "91709  ix-tam3-07.ix.netcom.com 1995-07-02 13:40:05-04:00   \n",
       "91710       csd1-9.infolink.net 1995-07-02 13:40:06-04:00   \n",
       "91711        port49.iprolink.ch 1995-07-02 13:40:07-04:00   \n",
       "91712             che2.llnl.gov 1995-07-02 13:40:07-04:00   \n",
       "91713  ix-tam3-07.ix.netcom.com 1995-07-02 13:40:07-04:00   \n",
       "\n",
       "                                                     url  response    size  \n",
       "0                          GET /history/apollo/ HTTP/1.0       200  6245.0  \n",
       "1                       GET /shuttle/countdown/ HTTP/1.0       200  3985.0  \n",
       "2      GET /shuttle/missions/sts-73/mission-sts-73.ht...       200  4085.0  \n",
       "3           GET /shuttle/countdown/liftoff.html HTTP/1.0       304     0.0  \n",
       "4      GET /shuttle/missions/sts-73/sts-73-patch-smal...       200  4179.0  \n",
       "...                                                  ...       ...     ...  \n",
       "91709                      GET /icons/blank.xbm HTTP/1.0       200   509.0  \n",
       "91710      GET /procurement/business/kscbus.htm HTTP/1.0       200  1293.0  \n",
       "91711  GET /shuttle/missions/sts-71/sts-71-day-06-hig...       200  6136.0  \n",
       "91712       GET /shuttle/missions/sts-7/images/ HTTP/1.0       200  1313.0  \n",
       "91713                       GET /icons/menu.xbm HTTP/1.0       200   527.0  \n",
       "\n",
       "[91714 rows x 5 columns]"
      ]
     },
     "execution_count": 510,
     "metadata": {},
     "output_type": "execute_result"
    }
   ],
   "source": [
    "df"
   ]
  },
  {
   "cell_type": "markdown",
   "id": "f85ea6ee",
   "metadata": {},
   "source": [
    "###### Using resample function to identify number of requests per hour and plot the same using line plot"
   ]
  },
  {
   "cell_type": "code",
   "execution_count": 511,
   "id": "7719282f",
   "metadata": {},
   "outputs": [],
   "source": [
    "hourly_df = df.resample(\"1H\", on=\"time\").sum()"
   ]
  },
  {
   "cell_type": "markdown",
   "id": "313b3d7f",
   "metadata": {},
   "source": [
    "###### Interpreting the chart and identify from which hour of the day, the number of page visits increases"
   ]
  },
  {
   "cell_type": "code",
   "execution_count": 512,
   "id": "79221071",
   "metadata": {},
   "outputs": [
    {
     "data": {
      "text/plain": [
       "<BarContainer object of 38 artists>"
      ]
     },
     "execution_count": 512,
     "metadata": {},
     "output_type": "execute_result"
    },
    {
     "data": {
      "image/png": "[encoded data removed]",
      "text/plain": [
       "<Figure size 1080x360 with 1 Axes>"
      ]
     },
     "metadata": {
      "needs_background": "light"
     },
     "output_type": "display_data"
    }
   ],
   "source": [
    "fig, ax = plt.subplots(figsize=(15,5))\n",
    "ax.bar(x=hourly_df.index, height=hourly_df['size'], width=0.01)"
   ]
  },
  {
   "cell_type": "markdown",
   "id": "506b2f9b",
   "metadata": {},
   "source": [
    "##### Answer 3: Identify different types of `request_type` along with their frequencies"
   ]
  },
  {
   "cell_type": "code",
   "execution_count": 513,
   "id": "0f8dd197",
   "metadata": {},
   "outputs": [],
   "source": [
    "df[\"request_type\"] = df[\"url\"].apply(lambda url: re.findall(\"^[A-Z]+\", url)[0])"
   ]
  },
  {
   "cell_type": "code",
   "execution_count": 514,
   "id": "a0362214",
   "metadata": {},
   "outputs": [
    {
     "data": {
      "text/plain": [
       "GET     91639\n",
       "HEAD       74\n",
       "POST        1\n",
       "Name: request_type, dtype: int64"
      ]
     },
     "execution_count": 514,
     "metadata": {},
     "output_type": "execute_result"
    }
   ],
   "source": [
    "df[\"request_type\"].value_counts()"
   ]
  },
  {
   "cell_type": "markdown",
   "id": "264cb732",
   "metadata": {},
   "source": [
    "##### Answer 4: Analyze `size` column using the following instruction\n",
    "    - Convert `size` column to numeric (Remove special characters, if necessary)\n",
    "    - Using pd.cut, divide `size` column in to 10 bins.\n",
    "    - Identify the bin which has the maximum count"
   ]
  },
  {
   "cell_type": "code",
   "execution_count": 515,
   "id": "eb4c24e0",
   "metadata": {},
   "outputs": [],
   "source": [
    "bytesn_bin = pd.cut(df['size'], 10)"
   ]
  },
  {
   "cell_type": "code",
   "execution_count": 516,
   "id": "604a7f13",
   "metadata": {},
   "outputs": [
    {
     "data": {
      "text/plain": [
       "(-1646.592, 164659.2]     88554\n",
       "(164659.2, 329318.4]       1283\n",
       "(823296.0, 987955.2]        373\n",
       "(493977.6, 658636.8]        205\n",
       "(987955.2, 1152614.4]       173\n",
       "(329318.4, 493977.6]        147\n",
       "(1152614.4, 1317273.6]       34\n",
       "(658636.8, 823296.0]         17\n",
       "(1481932.8, 1646592.0]        2\n",
       "(1317273.6, 1481932.8]        0\n",
       "Name: size, dtype: int64"
      ]
     },
     "execution_count": 516,
     "metadata": {},
     "output_type": "execute_result"
    }
   ],
   "source": [
    "bytesn_bin.value_counts()"
   ]
  },
  {
   "cell_type": "markdown",
   "id": "6a5b5915",
   "metadata": {},
   "source": [
    "##### Answer 5: Using `url` column, create a new column `file_type` based on following conditions\n",
    "    - If the `url` ends with either `.gif` or `.jpg`, `file_type` will be `image`\n",
    "    - If the `url` ends with `.html`, `file_type` will be `html`\n",
    "    - Else `file_type` will be `Other`\n",
    "    - Identify how many times images were rendered"
   ]
  },
  {
   "cell_type": "code",
   "execution_count": 517,
   "id": "8887cda7",
   "metadata": {},
   "outputs": [],
   "source": [
    "def get_file_original_type(url):\n",
    "    url_reg_exp = \"\\/[\\/\\S]+\"\n",
    "    types_reg_exp = \"([a-z0-9]+)\"\n",
    "    ext = \"pattern_not_found\"\n",
    "    file_extention = re.findall(url_reg_exp, url, flags=0)\n",
    "    if len(file_extention)>0:\n",
    "        file_ext_split = file_extention[0].split(\".\")\n",
    "        if len(file_ext_split)>1:\n",
    "            file_ext = re.findall(types_reg_exp, file_ext_split[len(file_ext_split)-1].lower())            \n",
    "            if type(file_ext)==list:\n",
    "                ext = \"\".join(file_ext)\n",
    "            else:\n",
    "                ext = file_ext\n",
    "    return ext"
   ]
  },
  {
   "cell_type": "code",
   "execution_count": 518,
   "id": "71d25315",
   "metadata": {},
   "outputs": [],
   "source": [
    "def get_file_type(file_ext):\n",
    "    file_img_pattern = \"^(gif|jpg|jpeg)$\"\n",
    "    file_html_pattern = \"^(html|htm)$\"\n",
    "    file_type = \"Other\"\n",
    "    img_pattern = re.findall(file_img_pattern, file_ext)\n",
    "    html_pattern = re.findall(file_html_pattern, file_ext)\n",
    "    if len(img_pattern)>0:\n",
    "        file_type = \"Image\"\n",
    "    elif len(html_pattern)>0:\n",
    "        file_type = \"HTML\"\n",
    "    else:\n",
    "        file_type = \"Other\" \n",
    "    return file_type"
   ]
  },
  {
   "cell_type": "code",
   "execution_count": 519,
   "id": "97bda81b",
   "metadata": {},
   "outputs": [],
   "source": [
    "file_original_type = df['url'].apply(get_file_original_type)"
   ]
  },
  {
   "cell_type": "code",
   "execution_count": 520,
   "id": "c6c6157f",
   "metadata": {},
   "outputs": [
    {
     "data": {
      "text/plain": [
       "gif                  47400\n",
       "html                 20244\n",
       "pattern_not_found    10498\n",
       "jpg                   3304\n",
       "xbm                   2802\n",
       "                     ...  \n",
       "plmart                   1\n",
       "plamsat                  1\n",
       "plarachnid               1\n",
       "plroll                   1\n",
       "plled20and20plant        1\n",
       "Name: url, Length: 236, dtype: int64"
      ]
     },
     "execution_count": 520,
     "metadata": {},
     "output_type": "execute_result"
    }
   ],
   "source": [
    "file_original_type.value_counts()"
   ]
  },
  {
   "cell_type": "code",
   "execution_count": 521,
   "id": "ae747f19",
   "metadata": {},
   "outputs": [],
   "source": [
    "df['file_type'] = file_original_type.apply(get_file_type)"
   ]
  },
  {
   "cell_type": "code",
   "execution_count": 522,
   "id": "bc81ca38",
   "metadata": {},
   "outputs": [
    {
     "data": {
      "text/plain": [
       "Image    51060\n",
       "HTML     20417\n",
       "Other    20237\n",
       "Name: file_type, dtype: int64"
      ]
     },
     "execution_count": 522,
     "metadata": {},
     "output_type": "execute_result"
    }
   ],
   "source": [
    "df['file_type'].value_counts()"
   ]
  },
  {
   "cell_type": "markdown",
   "id": "c5d330b0",
   "metadata": {},
   "source": [
    "###### Saving the data into excel files"
   ]
  },
  {
   "cell_type": "code",
   "execution_count": 523,
   "id": "6d75bb8d",
   "metadata": {},
   "outputs": [],
   "source": [
    "pd.DataFrame(file_original_type.value_counts()).to_excel(\"all_file_types.xlsx\")\n",
    "pd.DataFrame(df['file_type'].value_counts()).to_excel(\"all_files.xlsx\")"
   ]
  },
  {
   "cell_type": "code",
   "execution_count": 524,
   "id": "9ce951c9",
   "metadata": {},
   "outputs": [
    {
     "data": {
      "text/html": [
       "<div>\n",
       "<style scoped>\n",
       "    .dataframe tbody tr th:only-of-type {\n",
       "        vertical-align: middle;\n",
       "    }\n",
       "\n",
       "    .dataframe tbody tr th {\n",
       "        vertical-align: top;\n",
       "    }\n",
       "\n",
       "    .dataframe thead th {\n",
       "        text-align: right;\n",
       "    }\n",
       "</style>\n",
       "<table border=\"1\" class=\"dataframe\">\n",
       "  <thead>\n",
       "    <tr style=\"text-align: right;\">\n",
       "      <th></th>\n",
       "      <th>host</th>\n",
       "      <th>time</th>\n",
       "      <th>url</th>\n",
       "      <th>response</th>\n",
       "      <th>size</th>\n",
       "      <th>request_type</th>\n",
       "      <th>file_type</th>\n",
       "    </tr>\n",
       "  </thead>\n",
       "  <tbody>\n",
       "    <tr>\n",
       "      <th>0</th>\n",
       "      <td>199.72.81.55</td>\n",
       "      <td>1995-07-01 00:00:01-04:00</td>\n",
       "      <td>GET /history/apollo/ HTTP/1.0</td>\n",
       "      <td>200</td>\n",
       "      <td>6245.0</td>\n",
       "      <td>GET</td>\n",
       "      <td>Other</td>\n",
       "    </tr>\n",
       "    <tr>\n",
       "      <th>1</th>\n",
       "      <td>unicomp6.unicomp.net</td>\n",
       "      <td>1995-07-01 00:00:06-04:00</td>\n",
       "      <td>GET /shuttle/countdown/ HTTP/1.0</td>\n",
       "      <td>200</td>\n",
       "      <td>3985.0</td>\n",
       "      <td>GET</td>\n",
       "      <td>Other</td>\n",
       "    </tr>\n",
       "    <tr>\n",
       "      <th>2</th>\n",
       "      <td>199.120.110.21</td>\n",
       "      <td>1995-07-01 00:00:09-04:00</td>\n",
       "      <td>GET /shuttle/missions/sts-73/mission-sts-73.ht...</td>\n",
       "      <td>200</td>\n",
       "      <td>4085.0</td>\n",
       "      <td>GET</td>\n",
       "      <td>HTML</td>\n",
       "    </tr>\n",
       "    <tr>\n",
       "      <th>3</th>\n",
       "      <td>burger.letters.com</td>\n",
       "      <td>1995-07-01 00:00:11-04:00</td>\n",
       "      <td>GET /shuttle/countdown/liftoff.html HTTP/1.0</td>\n",
       "      <td>304</td>\n",
       "      <td>0.0</td>\n",
       "      <td>GET</td>\n",
       "      <td>HTML</td>\n",
       "    </tr>\n",
       "    <tr>\n",
       "      <th>4</th>\n",
       "      <td>199.120.110.21</td>\n",
       "      <td>1995-07-01 00:00:11-04:00</td>\n",
       "      <td>GET /shuttle/missions/sts-73/sts-73-patch-smal...</td>\n",
       "      <td>200</td>\n",
       "      <td>4179.0</td>\n",
       "      <td>GET</td>\n",
       "      <td>Image</td>\n",
       "    </tr>\n",
       "    <tr>\n",
       "      <th>5</th>\n",
       "      <td>burger.letters.com</td>\n",
       "      <td>1995-07-01 00:00:12-04:00</td>\n",
       "      <td>GET /images/NASA-logosmall.gif HTTP/1.0</td>\n",
       "      <td>304</td>\n",
       "      <td>0.0</td>\n",
       "      <td>GET</td>\n",
       "      <td>Image</td>\n",
       "    </tr>\n",
       "    <tr>\n",
       "      <th>6</th>\n",
       "      <td>burger.letters.com</td>\n",
       "      <td>1995-07-01 00:00:12-04:00</td>\n",
       "      <td>GET /shuttle/countdown/video/livevideo.gif HTT...</td>\n",
       "      <td>200</td>\n",
       "      <td>0.0</td>\n",
       "      <td>GET</td>\n",
       "      <td>Image</td>\n",
       "    </tr>\n",
       "    <tr>\n",
       "      <th>7</th>\n",
       "      <td>205.212.115.106</td>\n",
       "      <td>1995-07-01 00:00:12-04:00</td>\n",
       "      <td>GET /shuttle/countdown/countdown.html HTTP/1.0</td>\n",
       "      <td>200</td>\n",
       "      <td>3985.0</td>\n",
       "      <td>GET</td>\n",
       "      <td>HTML</td>\n",
       "    </tr>\n",
       "    <tr>\n",
       "      <th>8</th>\n",
       "      <td>d104.aa.net</td>\n",
       "      <td>1995-07-01 00:00:13-04:00</td>\n",
       "      <td>GET /shuttle/countdown/ HTTP/1.0</td>\n",
       "      <td>200</td>\n",
       "      <td>3985.0</td>\n",
       "      <td>GET</td>\n",
       "      <td>Other</td>\n",
       "    </tr>\n",
       "    <tr>\n",
       "      <th>9</th>\n",
       "      <td>129.94.144.152</td>\n",
       "      <td>1995-07-01 00:00:13-04:00</td>\n",
       "      <td>GET / HTTP/1.0</td>\n",
       "      <td>200</td>\n",
       "      <td>7074.0</td>\n",
       "      <td>GET</td>\n",
       "      <td>Other</td>\n",
       "    </tr>\n",
       "  </tbody>\n",
       "</table>\n",
       "</div>"
      ],
      "text/plain": [
       "                   host                      time  \\\n",
       "0          199.72.81.55 1995-07-01 00:00:01-04:00   \n",
       "1  unicomp6.unicomp.net 1995-07-01 00:00:06-04:00   \n",
       "2        199.120.110.21 1995-07-01 00:00:09-04:00   \n",
       "3    burger.letters.com 1995-07-01 00:00:11-04:00   \n",
       "4        199.120.110.21 1995-07-01 00:00:11-04:00   \n",
       "5    burger.letters.com 1995-07-01 00:00:12-04:00   \n",
       "6    burger.letters.com 1995-07-01 00:00:12-04:00   \n",
       "7       205.212.115.106 1995-07-01 00:00:12-04:00   \n",
       "8           d104.aa.net 1995-07-01 00:00:13-04:00   \n",
       "9        129.94.144.152 1995-07-01 00:00:13-04:00   \n",
       "\n",
       "                                                 url  response    size  \\\n",
       "0                      GET /history/apollo/ HTTP/1.0       200  6245.0   \n",
       "1                   GET /shuttle/countdown/ HTTP/1.0       200  3985.0   \n",
       "2  GET /shuttle/missions/sts-73/mission-sts-73.ht...       200  4085.0   \n",
       "3       GET /shuttle/countdown/liftoff.html HTTP/1.0       304     0.0   \n",
       "4  GET /shuttle/missions/sts-73/sts-73-patch-smal...       200  4179.0   \n",
       "5            GET /images/NASA-logosmall.gif HTTP/1.0       304     0.0   \n",
       "6  GET /shuttle/countdown/video/livevideo.gif HTT...       200     0.0   \n",
       "7     GET /shuttle/countdown/countdown.html HTTP/1.0       200  3985.0   \n",
       "8                   GET /shuttle/countdown/ HTTP/1.0       200  3985.0   \n",
       "9                                     GET / HTTP/1.0       200  7074.0   \n",
       "\n",
       "  request_type file_type  \n",
       "0          GET     Other  \n",
       "1          GET     Other  \n",
       "2          GET      HTML  \n",
       "3          GET      HTML  \n",
       "4          GET     Image  \n",
       "5          GET     Image  \n",
       "6          GET     Image  \n",
       "7          GET      HTML  \n",
       "8          GET     Other  \n",
       "9          GET     Other  "
      ]
     },
     "execution_count": 524,
     "metadata": {},
     "output_type": "execute_result"
    }
   ],
   "source": [
    "df.head(10)"
   ]
  },
  {
   "cell_type": "code",
   "execution_count": null,
   "id": "2f74eecc",
   "metadata": {},
   "outputs": [],
   "source": []
  }
 ],
 "metadata": {
  "kernelspec": {
   "display_name": "Python 3 (ipykernel)",
   "language": "python",
   "name": "python3"
  },
  "language_info": {
   "codemirror_mode": {
    "name": "ipython",
    "version": 3
   },
   "file_extension": ".py",
   "mimetype": "text/x-python",
   "name": "python",
   "nbconvert_exporter": "python",
   "pygments_lexer": "ipython3",
   "version": "3.8.8"
  }
 },
 "nbformat": 4,
 "nbformat_minor": 5
}
